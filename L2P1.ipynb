{
  "cells": [
    {
      "cell_type": "markdown",
      "source": [
        "PILAR ARIAS, YEDRA MARTÍN, PATRICIA MEDIAVILLA, AMAYA SARASA\n",
        "\n",
        "<GRUPO 9>"
      ],
      "metadata": {
        "id": "AGMZqcaTBYza"
      },
      "id": "AGMZqcaTBYza"
    },
    {
      "cell_type": "markdown",
      "source": [
        "#Práctica 1"
      ],
      "metadata": {
        "id": "LZljv2vyBktS"
      },
      "id": "LZljv2vyBktS"
    },
    {
      "cell_type": "markdown",
      "source": [
        "##Introducción"
      ],
      "metadata": {
        "id": "qkpnyf1hBoeg"
      },
      "id": "qkpnyf1hBoeg"
    },
    {
      "cell_type": "markdown",
      "source": [
        "Esta es la primera práctica del segundo laboratorio. Dada una base de datos en formato .csv, se nos pide contestar a una serie de cuestiones. Para ello, lo primero que debemos hacer es cargar y leer la base de datos junto a las librerías necesarias:"
      ],
      "metadata": {
        "id": "PIHHvmeOEPVQ"
      },
      "id": "PIHHvmeOEPVQ"
    },
    {
      "cell_type": "code",
      "execution_count": 8,
      "id": "20a07e6b",
      "metadata": {
        "id": "20a07e6b",
        "outputId": "255a8f9a-aba2-438d-833d-176ecfd00f0a",
        "colab": {
          "base_uri": "https://localhost:8080/",
          "height": 519
        }
      },
      "outputs": [
        {
          "output_type": "stream",
          "name": "stdout",
          "text": [
            "<class 'pandas.core.frame.DataFrame'>\n",
            "RangeIndex: 233599 entries, 0 to 233598\n",
            "Data columns (total 11 columns):\n",
            " #   Column                      Non-Null Count   Dtype  \n",
            "---  ------                      --------------   -----  \n",
            " 0   User_ID                     233599 non-null  int64  \n",
            " 1   Product_ID                  233599 non-null  object \n",
            " 2   Gender                      233599 non-null  object \n",
            " 3   Age                         233599 non-null  object \n",
            " 4   Occupation                  233599 non-null  int64  \n",
            " 5   City_Category               233599 non-null  object \n",
            " 6   Stay_In_Current_City_Years  233599 non-null  object \n",
            " 7   Marital_Status              233599 non-null  int64  \n",
            " 8   Product_Category_1          233599 non-null  int64  \n",
            " 9   Product_Category_2          161255 non-null  float64\n",
            " 10  Product_Category_3          71037 non-null   float64\n",
            "dtypes: float64(2), int64(4), object(5)\n",
            "memory usage: 19.6+ MB\n"
          ]
        },
        {
          "output_type": "execute_result",
          "data": {
            "text/plain": [
              "   User_ID Product_ID Gender    Age  Occupation City_Category  \\\n",
              "0  1000004  P00128942      M  46-50           7             B   \n",
              "1  1000009  P00113442      M  26-35          17             C   \n",
              "2  1000010  P00288442      F  36-45           1             B   \n",
              "3  1000010  P00145342      F  36-45           1             B   \n",
              "4  1000011  P00053842      F  26-35           1             C   \n",
              "\n",
              "  Stay_In_Current_City_Years  Marital_Status  Product_Category_1  \\\n",
              "0                          2               1                   1   \n",
              "1                          0               0                   3   \n",
              "2                         4+               1                   5   \n",
              "3                         4+               1                   4   \n",
              "4                          1               0                   4   \n",
              "\n",
              "   Product_Category_2  Product_Category_3  \n",
              "0                11.0                 NaN  \n",
              "1                 5.0                 NaN  \n",
              "2                14.0                 NaN  \n",
              "3                 9.0                 NaN  \n",
              "4                 5.0                12.0  "
            ],
            "text/html": [
              "\n",
              "  <div id=\"df-6de0179e-d15f-4032-962c-532353c72dcf\">\n",
              "    <div class=\"colab-df-container\">\n",
              "      <div>\n",
              "<style scoped>\n",
              "    .dataframe tbody tr th:only-of-type {\n",
              "        vertical-align: middle;\n",
              "    }\n",
              "\n",
              "    .dataframe tbody tr th {\n",
              "        vertical-align: top;\n",
              "    }\n",
              "\n",
              "    .dataframe thead th {\n",
              "        text-align: right;\n",
              "    }\n",
              "</style>\n",
              "<table border=\"1\" class=\"dataframe\">\n",
              "  <thead>\n",
              "    <tr style=\"text-align: right;\">\n",
              "      <th></th>\n",
              "      <th>User_ID</th>\n",
              "      <th>Product_ID</th>\n",
              "      <th>Gender</th>\n",
              "      <th>Age</th>\n",
              "      <th>Occupation</th>\n",
              "      <th>City_Category</th>\n",
              "      <th>Stay_In_Current_City_Years</th>\n",
              "      <th>Marital_Status</th>\n",
              "      <th>Product_Category_1</th>\n",
              "      <th>Product_Category_2</th>\n",
              "      <th>Product_Category_3</th>\n",
              "    </tr>\n",
              "  </thead>\n",
              "  <tbody>\n",
              "    <tr>\n",
              "      <th>0</th>\n",
              "      <td>1000004</td>\n",
              "      <td>P00128942</td>\n",
              "      <td>M</td>\n",
              "      <td>46-50</td>\n",
              "      <td>7</td>\n",
              "      <td>B</td>\n",
              "      <td>2</td>\n",
              "      <td>1</td>\n",
              "      <td>1</td>\n",
              "      <td>11.0</td>\n",
              "      <td>NaN</td>\n",
              "    </tr>\n",
              "    <tr>\n",
              "      <th>1</th>\n",
              "      <td>1000009</td>\n",
              "      <td>P00113442</td>\n",
              "      <td>M</td>\n",
              "      <td>26-35</td>\n",
              "      <td>17</td>\n",
              "      <td>C</td>\n",
              "      <td>0</td>\n",
              "      <td>0</td>\n",
              "      <td>3</td>\n",
              "      <td>5.0</td>\n",
              "      <td>NaN</td>\n",
              "    </tr>\n",
              "    <tr>\n",
              "      <th>2</th>\n",
              "      <td>1000010</td>\n",
              "      <td>P00288442</td>\n",
              "      <td>F</td>\n",
              "      <td>36-45</td>\n",
              "      <td>1</td>\n",
              "      <td>B</td>\n",
              "      <td>4+</td>\n",
              "      <td>1</td>\n",
              "      <td>5</td>\n",
              "      <td>14.0</td>\n",
              "      <td>NaN</td>\n",
              "    </tr>\n",
              "    <tr>\n",
              "      <th>3</th>\n",
              "      <td>1000010</td>\n",
              "      <td>P00145342</td>\n",
              "      <td>F</td>\n",
              "      <td>36-45</td>\n",
              "      <td>1</td>\n",
              "      <td>B</td>\n",
              "      <td>4+</td>\n",
              "      <td>1</td>\n",
              "      <td>4</td>\n",
              "      <td>9.0</td>\n",
              "      <td>NaN</td>\n",
              "    </tr>\n",
              "    <tr>\n",
              "      <th>4</th>\n",
              "      <td>1000011</td>\n",
              "      <td>P00053842</td>\n",
              "      <td>F</td>\n",
              "      <td>26-35</td>\n",
              "      <td>1</td>\n",
              "      <td>C</td>\n",
              "      <td>1</td>\n",
              "      <td>0</td>\n",
              "      <td>4</td>\n",
              "      <td>5.0</td>\n",
              "      <td>12.0</td>\n",
              "    </tr>\n",
              "  </tbody>\n",
              "</table>\n",
              "</div>\n",
              "      <button class=\"colab-df-convert\" onclick=\"convertToInteractive('df-6de0179e-d15f-4032-962c-532353c72dcf')\"\n",
              "              title=\"Convert this dataframe to an interactive table.\"\n",
              "              style=\"display:none;\">\n",
              "        \n",
              "  <svg xmlns=\"http://www.w3.org/2000/svg\" height=\"24px\"viewBox=\"0 0 24 24\"\n",
              "       width=\"24px\">\n",
              "    <path d=\"M0 0h24v24H0V0z\" fill=\"none\"/>\n",
              "    <path d=\"M18.56 5.44l.94 2.06.94-2.06 2.06-.94-2.06-.94-.94-2.06-.94 2.06-2.06.94zm-11 1L8.5 8.5l.94-2.06 2.06-.94-2.06-.94L8.5 2.5l-.94 2.06-2.06.94zm10 10l.94 2.06.94-2.06 2.06-.94-2.06-.94-.94-2.06-.94 2.06-2.06.94z\"/><path d=\"M17.41 7.96l-1.37-1.37c-.4-.4-.92-.59-1.43-.59-.52 0-1.04.2-1.43.59L10.3 9.45l-7.72 7.72c-.78.78-.78 2.05 0 2.83L4 21.41c.39.39.9.59 1.41.59.51 0 1.02-.2 1.41-.59l7.78-7.78 2.81-2.81c.8-.78.8-2.07 0-2.86zM5.41 20L4 18.59l7.72-7.72 1.47 1.35L5.41 20z\"/>\n",
              "  </svg>\n",
              "      </button>\n",
              "      \n",
              "  <style>\n",
              "    .colab-df-container {\n",
              "      display:flex;\n",
              "      flex-wrap:wrap;\n",
              "      gap: 12px;\n",
              "    }\n",
              "\n",
              "    .colab-df-convert {\n",
              "      background-color: #E8F0FE;\n",
              "      border: none;\n",
              "      border-radius: 50%;\n",
              "      cursor: pointer;\n",
              "      display: none;\n",
              "      fill: #1967D2;\n",
              "      height: 32px;\n",
              "      padding: 0 0 0 0;\n",
              "      width: 32px;\n",
              "    }\n",
              "\n",
              "    .colab-df-convert:hover {\n",
              "      background-color: #E2EBFA;\n",
              "      box-shadow: 0px 1px 2px rgba(60, 64, 67, 0.3), 0px 1px 3px 1px rgba(60, 64, 67, 0.15);\n",
              "      fill: #174EA6;\n",
              "    }\n",
              "\n",
              "    [theme=dark] .colab-df-convert {\n",
              "      background-color: #3B4455;\n",
              "      fill: #D2E3FC;\n",
              "    }\n",
              "\n",
              "    [theme=dark] .colab-df-convert:hover {\n",
              "      background-color: #434B5C;\n",
              "      box-shadow: 0px 1px 3px 1px rgba(0, 0, 0, 0.15);\n",
              "      filter: drop-shadow(0px 1px 2px rgba(0, 0, 0, 0.3));\n",
              "      fill: #FFFFFF;\n",
              "    }\n",
              "  </style>\n",
              "\n",
              "      <script>\n",
              "        const buttonEl =\n",
              "          document.querySelector('#df-6de0179e-d15f-4032-962c-532353c72dcf button.colab-df-convert');\n",
              "        buttonEl.style.display =\n",
              "          google.colab.kernel.accessAllowed ? 'block' : 'none';\n",
              "\n",
              "        async function convertToInteractive(key) {\n",
              "          const element = document.querySelector('#df-6de0179e-d15f-4032-962c-532353c72dcf');\n",
              "          const dataTable =\n",
              "            await google.colab.kernel.invokeFunction('convertToInteractive',\n",
              "                                                     [key], {});\n",
              "          if (!dataTable) return;\n",
              "\n",
              "          const docLinkHtml = 'Like what you see? Visit the ' +\n",
              "            '<a target=\"_blank\" href=https://colab.research.google.com/notebooks/data_table.ipynb>data table notebook</a>'\n",
              "            + ' to learn more about interactive tables.';\n",
              "          element.innerHTML = '';\n",
              "          dataTable['output_type'] = 'display_data';\n",
              "          await google.colab.output.renderOutput(dataTable, element);\n",
              "          const docLink = document.createElement('div');\n",
              "          docLink.innerHTML = docLinkHtml;\n",
              "          element.appendChild(docLink);\n",
              "        }\n",
              "      </script>\n",
              "    </div>\n",
              "  </div>\n",
              "  "
            ]
          },
          "metadata": {},
          "execution_count": 8
        }
      ],
      "source": [
        "#Importar librerías\n",
        "import numpy as np #numpy\n",
        "import pandas as pd #pandas\n",
        "import sklearn as sk #scikit-learn\n",
        "import matplotlib.pyplot as plt #gráfica Matplotlib\n",
        "from mlxtend.preprocessing import TransactionEncoder\n",
        "from mlxtend.frequent_patterns import apriori, association_rules\n",
        "\n",
        "#Importamos la base de datos\n",
        "df = pd.read_csv('BlackFriday.csv',sep=',')\n",
        "df.info()\n",
        "df.head()"
      ]
    },
    {
      "cell_type": "markdown",
      "source": [
        "----------------"
      ],
      "metadata": {
        "id": "NxCH3zsKRPYw"
      },
      "id": "NxCH3zsKRPYw"
    },
    {
      "cell_type": "markdown",
      "source": [
        "----------------"
      ],
      "metadata": {
        "id": "XS1dcdO-RRjJ"
      },
      "id": "XS1dcdO-RRjJ"
    },
    {
      "cell_type": "markdown",
      "source": [
        "Subimos la base de datos, df.info nos aporta la infomación que contiene la base de datos, vemos el tipo, la cantidad de las variables con las que trabajamos... y .head vamos a ver que forma tiene la base de datos y las primeras filas de esta."
      ],
      "metadata": {
        "id": "qbbms6xOFjY-"
      },
      "id": "qbbms6xOFjY-"
    },
    {
      "cell_type": "markdown",
      "source": [
        "Según se ha estudiado en clase, encontramos dos métodos para afrontarlo. Nos decantaremos por CRISP-DM. Las siglas para: CRoss-Industry Standard Process for Data Mining. \n",
        "\n",
        "Es un modelo de proceso de minería de datos que se utiliza en la industria. Es un marco de trabajo que define un proceso estandarizado para llevar a cabo proyectos de minería de datos, desde la definición del problema hasta la implementación y evaluación del resultado. Los seis pasos que componen Crisp-DM son los siguientes:\n",
        "\n",
        "- Comprensión de los negocios y definición del problema: comprender la naturaleza del problema y los objetivos de negocio.\n",
        "\n",
        "- Comprensión de los datos: recopilación inicial, descripción y exploración  de datos.\n",
        "\n",
        "- Preparación de los datos: Selección, limpieza, construcción, integración, formateo de los datos.\n",
        "\n",
        "- Modelado: aplicar las técnicas de minería de datos a los dataset.\n",
        "\n",
        "- Evaluación: determinar si los resultados son útiles a las necesidades del negocio.\n",
        "\n",
        "- Despliegue: explotar utilidad de los modelos, integrándolos en las tareas de toma de decisiones de la organización -> Call to Action. "
      ],
      "metadata": {
        "id": "Tv5kjZ4_Fz4N"
      },
      "id": "Tv5kjZ4_Fz4N"
    },
    {
      "cell_type": "markdown",
      "source": [
        "##Comprensión de los negocios y definición del problema"
      ],
      "metadata": {
        "id": "1kgJlhl2JYHb"
      },
      "id": "1kgJlhl2JYHb"
    },
    {
      "cell_type": "markdown",
      "source": [
        "La librería se usará de la siguiente manera:\n",
        "1) Empezaremos obteniendo los itemsets frecuentes para k=1. En este punto necesitaremos obtener el\n",
        "soporte de los itemset. Por lo tanto, se tendrá que usar un método que dado un itemset devuelva su\n",
        "soporte.\n",
        "\n",
        "2) Para k≥2.\n",
        "a. Mostrar los itemset frecuentes candidatos y su soporte.\n",
        "\n",
        "3) Repetir el proceso 2 hasta que no se generen nuevos itemsets frecuentes.\n",
        "\n",
        "4) Mostrar todas las posibles reglas con la confianza de cada una de ellas.\n",
        "\n",
        "5) Listar todas las reglas que sean de alta confianza.\n",
        "\n",
        "6) Usar los siguientes métodos. Dado un antecesor, devolver todas las reglas que contengan a dicho\n",
        "antecesor. Dado un umbral mínimo devolver todas las reglas que cumplan con dicha confianza.\n",
        "\n",
        "7) Utiliza las representaciones gráficas que consideres adecuadas para representar las reglas obtenidas\n",
        "y obtener conclusiones a partir de los datos.\n",
        "\n",
        "A partir de lo anterior de pide:\n",
        "- Prueba al menos tres configuraciones de soporte y frecuencia para cada género, edad y tipo de producto.\n",
        "- ¿Qué diferencias hay entre usar soporte y frecuencia? Respalda la respuesta con datos \n",
        "- ¿Qué tipo reglas desaparecen según la configuración y categorías (género, edad y tipo de producto)\n",
        "consideradas? ¿Por qué? \n",
        "- Para una de las configuraciones, interpreta algunas de las reglas que te hayan resultado interesantes\n",
        "obtenidas usando la clase association_rules y un par de configuraciones cambiando la variable metric y\n",
        "min_threshold. Justifica los resultados. \n",
        "- Dadas las mejores configuraciones. ¿Existen reglas o patrones que se repitan? ¿Podemos generalizar de\n",
        "alguna manera como se comportan los clientes? Expón las conclusiones respaldadas con datos "
      ],
      "metadata": {
        "id": "YJ8oPL4yJvxD"
      },
      "id": "YJ8oPL4yJvxD"
    },
    {
      "cell_type": "markdown",
      "source": [
        "## Comprensión de los datos\n",
        "\n",
        "La base de datos que utilizaremos consta de 233599 observaciones. Teniendo en ceunta que el trabajo que vamos a realizar, utilizanod el algoritmo apriori, queremos sacar regalas y con todos estos datos, lo que nos hace pensar es que vamos a encontrar muchísimas reglas a partir de estos datos.\n",
        "\n",
        "La clave está en cuales son las que más nos interesan, basandonos en su confianza, y una vez hallado esto debemos tomar decisiones para que usando estas reglas vendamos el mayor número de producto, para aumentar nuestras gananzas.\n",
        "\n",
        "Existen 11 tipos de atributos distintos: \n",
        "\n",
        "- User_ID: número para identificar al usuario.\n",
        "- Product_ID: número para identificar el producto.\n",
        "- Gender: Género del comprador.\t\n",
        "- Age: Edad del comprador.\n",
        "- Occupation: A lo que se dedica el comprador, ya pasasdo a categórica.\n",
        "- City_Category: Categoría de la ciudad donde reside el user.\n",
        "- Stay_In_Current_City_Years: El tiempo que lleva en la ciudad.\n",
        "- Marital_Status: Estado civil.\n",
        "- Product_Category_1: La categoría principal del producto.\n",
        "- Product_Category_2: Siguente categoría.\n",
        "- Product_Category_3: Última categoría del producto.\n",
        "\n"
      ],
      "metadata": {
        "id": "JSoBLVbJGEfo"
      },
      "id": "JSoBLVbJGEfo"
    },
    {
      "cell_type": "markdown",
      "source": [
        "##Preparación de los datos"
      ],
      "metadata": {
        "id": "orLg9OLzJKT1"
      },
      "id": "orLg9OLzJKT1"
    },
    {
      "cell_type": "markdown",
      "source": [
        "Se procede a estudiar la cantidad de NaN por cada atributo."
      ],
      "metadata": {
        "id": "nuMgVvsMKT-T"
      },
      "id": "nuMgVvsMKT-T"
    },
    {
      "cell_type": "code",
      "source": [
        "usernan = df['User_ID'].isna().sum()\n",
        "print(f\"La cantidad de NaN que existen en la variable User_ID es:{usernan}\")\n",
        "productnan = df['Product_ID'].isna().sum()\n",
        "print(f\"La cantidad de NaN que existen en la variable Product_ID es:{productnan}\")\n",
        "gendernan = df['Gender'].isna().sum()\n",
        "print(f\"La cantidad de NaN que existen en la variable Gender es:{gendernan}\")\n",
        "agenan = df['Age'].isna().sum()\n",
        "print(f\"La cantidad de NaN que existen en la variable Age es:{agenan}\")\n",
        "ocupationan = df['Occupation'].isna().sum()\n",
        "print(f\"La cantidad de NaN que existen en la variable Occupation es:{ocupationan}\")\n",
        "City_Categorynan = df['City_Category'].isna().sum()\n",
        "print(f\"La cantidad de NaN que existen en la variable City_Category es:{City_Categorynan}\")\n",
        "Stay_In_Current_City_Yearsnan = df['Stay_In_Current_City_Years'].isna().sum()\n",
        "print(f\"La cantidad de NaN que existen en la variable Stay_In_Current_City_Years es:{Stay_In_Current_City_Yearsnan}\")\n",
        "Marital_Statusnan = df['Marital_Status'].isna().sum()\n",
        "print(f\"La cantidad de NaN que existen en la variable Marital_Status es:{Marital_Statusnan}\")\n",
        "Product_Category_1nan = df['Product_Category_1'].isna().sum()\n",
        "print(f\"La cantidad de NaN que existen en la variable Product_Category_1 es:{Product_Category_1nan}\")\n",
        "Product_Category_2nan = df['Product_Category_2'].isna().sum()\n",
        "print(f\"La cantidad de NaN que existen en la variable Product_Category_2 es:{Product_Category_2nan}\")\n",
        "Product_Category_3nan = df['Product_Category_3'].isna().sum()\n",
        "print(f\"La cantidad de NaN que existen en la variable Product_Category_3 es:{Product_Category_3nan}\")"
      ],
      "metadata": {
        "id": "10J_SgMzKWKX",
        "outputId": "f1ff6e12-f242-4554-d569-142a2d046d11",
        "colab": {
          "base_uri": "https://localhost:8080/"
        }
      },
      "id": "10J_SgMzKWKX",
      "execution_count": 9,
      "outputs": [
        {
          "output_type": "stream",
          "name": "stdout",
          "text": [
            "La cantidad de NaN que existen en la variable User_ID es:0\n",
            "La cantidad de NaN que existen en la variable Product_ID es:0\n",
            "La cantidad de NaN que existen en la variable Gender es:0\n",
            "La cantidad de NaN que existen en la variable Age es:0\n",
            "La cantidad de NaN que existen en la variable Occupation es:0\n",
            "La cantidad de NaN que existen en la variable City_Category es:0\n",
            "La cantidad de NaN que existen en la variable Stay_In_Current_City_Years es:0\n",
            "La cantidad de NaN que existen en la variable Marital_Status es:0\n",
            "La cantidad de NaN que existen en la variable Product_Category_1 es:0\n",
            "La cantidad de NaN que existen en la variable Product_Category_2 es:72344\n",
            "La cantidad de NaN que existen en la variable Product_Category_3 es:162562\n"
          ]
        }
      ]
    },
    {
      "cell_type": "markdown",
      "source": [
        "Se observa que en Product_Category_2 y Product_Category_3, el número de NaN es elevado. Esto es porque los productos puede que no tengan segunda o tercera clasificación. \n",
        "Para lidiar con la falta de datos, se rellenan con 0, ya que no hay ninguna categoría que sea representado con este número. Se ha considerado eliminar los registros que tienen  NaN, pero estaríamos eliminando por tanto posibles reglas de aquellos productos que sí que tienen categoría 1. "
      ],
      "metadata": {
        "id": "nL9lVc9WqwK4"
      },
      "id": "nL9lVc9WqwK4"
    },
    {
      "cell_type": "code",
      "source": [
        "# Rellenamos los valores na con 0, ya que no tiene categoría\n",
        "df = df.fillna(0)\n",
        "\n",
        "# Quitamos los duplicados\n",
        "df = df.drop_duplicates()"
      ],
      "metadata": {
        "id": "fs-1bTpwCxfh"
      },
      "id": "fs-1bTpwCxfh",
      "execution_count": 10,
      "outputs": []
    },
    {
      "cell_type": "markdown",
      "source": [
        "##Modelado"
      ],
      "metadata": {
        "id": "CwBk2i4EJRBH"
      },
      "id": "CwBk2i4EJRBH"
    },
    {
      "cell_type": "markdown",
      "source": [
        "En este proceso de la metodología Crisp-DM vamos a modelar los datos de manera que puedan ser tratados de manera correcta por la técnica de data mining seleccionada. \n",
        "Para ello, vamos a agrupar los datos por atributos en función de User_ID y Product_Category_1, para poder identificar la compra y atributos de cada usuario. \n",
        "\n",
        "Una transacción se considera un usuario, en la cual se recopila información sobre: \n",
        "-  La identificación del producto\n",
        "-  Género del cliente \n",
        "-  Edad \n",
        "-  Ocupación \n",
        "-  Ciudad de residencia\n",
        "-  Años viviendo en la ciudad\n",
        "-  Estado civil \n",
        "-  Categoría 1 del producto\n",
        "-  Categoría 2 del producto\n",
        "-  Categoría 3 del producto\n",
        "\n",
        "De esta manera se podrán obtener reglas eficientes que definan modelos con mayor confianza con el fin de optimizar la venta de productos en el Black Friday.  \n",
        "\n",
        "Otro de los motivos por lo que los datos se han agrupado, es por la correcta interpretación de las reglas, ya que si no se agrupan, no se podrán identificar posibles reglas, porque las compras se consideran de un sólo producto, y no se podrían hacer posibles relaciones de ocurrencia entre ellos. "
      ],
      "metadata": {
        "id": "Pil8emFTraCK"
      },
      "id": "Pil8emFTraCK"
    },
    {
      "cell_type": "code",
      "source": [
        "df_User_Product = (df\n",
        "        .groupby(['User_ID', 'Product_ID'])['Product_Category_1']\n",
        "        .sum()\n",
        "        .apply(lambda x:x>0)\n",
        "        .unstack()\n",
        "        .fillna(False)\n",
        "        .reset_index()\n",
        "        .set_index('User_ID')\n",
        "          )"
      ],
      "metadata": {
        "id": "wiRzS_yeW-c6"
      },
      "id": "wiRzS_yeW-c6",
      "execution_count": 11,
      "outputs": []
    },
    {
      "cell_type": "code",
      "source": [
        "df_Gender = (df\n",
        "            .groupby(['User_ID','Gender'])['Product_Category_1']\n",
        "            .sum()\n",
        "            .apply(lambda x: x>0)\n",
        "            .unstack()\n",
        "            .fillna(False)\n",
        "            .reset_index()\n",
        "            .set_index('User_ID')\n",
        ")"
      ],
      "metadata": {
        "id": "TKPlOazp649m"
      },
      "id": "TKPlOazp649m",
      "execution_count": 12,
      "outputs": []
    },
    {
      "cell_type": "code",
      "source": [
        "df_Age = (df\n",
        "        .groupby(['User_ID','Age'])['Product_Category_1']\n",
        "        .sum()\n",
        "        .apply(lambda x: x>0)\n",
        "        .unstack()\n",
        "        .fillna(False)\n",
        "        .reset_index()\n",
        "        .set_index('User_ID')\n",
        ")"
      ],
      "metadata": {
        "id": "p7rTaFGu9KmA"
      },
      "id": "p7rTaFGu9KmA",
      "execution_count": 13,
      "outputs": []
    },
    {
      "cell_type": "code",
      "source": [
        "df_Occupation = (df\n",
        "                .groupby(['User_ID','Occupation'])['Product_Category_1']\n",
        "                .sum()\n",
        "                .apply(lambda x: x>0)\n",
        "                .unstack()\n",
        "                .fillna(False)\n",
        "                .reset_index()\n",
        "                .set_index('User_ID')\n",
        ")"
      ],
      "metadata": {
        "id": "8QBGMbVB9U4o"
      },
      "id": "8QBGMbVB9U4o",
      "execution_count": 14,
      "outputs": []
    },
    {
      "cell_type": "code",
      "source": [
        "df_City = (df\n",
        "          .groupby(['User_ID','City_Category'])['Product_Category_1']\n",
        "          .sum()\n",
        "          .apply(lambda x: x>0)\n",
        "          .unstack()\n",
        "          .fillna(False)\n",
        "          .reset_index()\n",
        "          .set_index('User_ID')\n",
        ")"
      ],
      "metadata": {
        "id": "Z7ia276S9fNs"
      },
      "id": "Z7ia276S9fNs",
      "execution_count": 15,
      "outputs": []
    },
    {
      "cell_type": "code",
      "source": [
        "df_Stay = (df\n",
        "           .groupby(['User_ID','Stay_In_Current_City_Years'])['Product_Category_1']\n",
        "           .sum()\n",
        "           .apply(lambda x: x>0)\n",
        "           .unstack()\n",
        "           .fillna(False)\n",
        "           .reset_index()\n",
        "           .set_index('User_ID')\n",
        ")"
      ],
      "metadata": {
        "id": "sl_GVD8g9qmX"
      },
      "id": "sl_GVD8g9qmX",
      "execution_count": 16,
      "outputs": []
    },
    {
      "cell_type": "code",
      "source": [
        "df_Marital = (df\n",
        "              .groupby(['User_ID','Marital_Status'])['Product_Category_1']\n",
        "              .sum()\n",
        "              .apply(lambda x: x>0)\n",
        "              .unstack()\n",
        "              .fillna(False)\n",
        "              .reset_index()\n",
        "              .set_index('User_ID')\n",
        ")"
      ],
      "metadata": {
        "id": "GHgQDPFJ9x9x"
      },
      "id": "GHgQDPFJ9x9x",
      "execution_count": 17,
      "outputs": []
    },
    {
      "cell_type": "code",
      "source": [
        "df_Product_Category_1 = (df\n",
        "                         .groupby(['User_ID','Product_Category_1'])['Product_Category_2']\n",
        "                         .sum()\n",
        "                         .apply(lambda x: x>0)\n",
        "                         .unstack()\n",
        "                         .fillna(False)\n",
        "                         .reset_index()\n",
        "                         .set_index('User_ID')\n",
        ")"
      ],
      "metadata": {
        "id": "XgwFLsCE95g3"
      },
      "id": "XgwFLsCE95g3",
      "execution_count": 18,
      "outputs": []
    },
    {
      "cell_type": "code",
      "source": [
        "df_Product_Category_2 = (df\n",
        "                         .groupby(['User_ID','Product_Category_2'])['Product_Category_1']\n",
        "                         .sum()\n",
        "                         .apply(lambda x: x>0)\n",
        "                         .unstack()\n",
        "                         .fillna(False)\n",
        "                         .reset_index()\n",
        "                         .set_index('User_ID')\n",
        ")"
      ],
      "metadata": {
        "id": "H2a_EE1g-GvL"
      },
      "id": "H2a_EE1g-GvL",
      "execution_count": 19,
      "outputs": []
    },
    {
      "cell_type": "code",
      "source": [
        "df_Product_Category_3 = (df\n",
        "                         .groupby(['User_ID','Product_Category_3'])['Product_Category_1']\n",
        "                         .sum()\n",
        "                         .apply(lambda x: x>0)\n",
        "                         .unstack()\n",
        "                         .fillna(False)\n",
        "                         .reset_index()\n",
        "                         .set_index('User_ID')\n",
        ")"
      ],
      "metadata": {
        "id": "MzWxpZg--Rpc"
      },
      "id": "MzWxpZg--Rpc",
      "execution_count": 20,
      "outputs": []
    },
    {
      "cell_type": "markdown",
      "source": [
        "Después de realizar la agrupación los nombres de los atributos eran nombres no identificables, ya que aparecía un 1, y no se sabía a qué valor de atributo corresponde. Es por ello que para solucionarlo, se han renombrado para poder identificarlos como facilidad. \n",
        "\n",
        "\n"
      ],
      "metadata": {
        "id": "6byRqLYfuE5N"
      },
      "id": "6byRqLYfuE5N"
    },
    {
      "cell_type": "code",
      "source": [
        "df_Product_Category_1=df_Product_Category_1.set_axis(['1_PC1','2_PC1','3_PC1','4_PC1','5_PC1','6_PC1','7_PC1','8_PC1','9_PC1','10_PC1','11_PC1','12_PC1','13_PC1','14_PC1','15_PC1','16_PC1','17_PC1','18_PC1'], axis=1)"
      ],
      "metadata": {
        "id": "T6GbIIAmaOn6"
      },
      "id": "T6GbIIAmaOn6",
      "execution_count": 21,
      "outputs": []
    },
    {
      "cell_type": "code",
      "source": [
        "df_Product_Category_2=df_Product_Category_2.set_axis(['0_PC2','2_PC2','3_PC2','4_PC2','5_PC2','6_PC2','7_PC2','8_PC2','9_PC2','10_PC2','11_PC2','12_PC2','13_PC2','14_PC2','15_PC2','16_PC2','17_PC2','18_PC2'], axis=1)"
      ],
      "metadata": {
        "id": "Tf_J7_h5asOP"
      },
      "id": "Tf_J7_h5asOP",
      "execution_count": 22,
      "outputs": []
    },
    {
      "cell_type": "code",
      "source": [
        "df_Product_Category_3=df_Product_Category_3.set_axis(['0_PC3','3_PC3','4_PC3','5_PC3','6_PC3','8_PC3','9_PC3','10_PC3','11_PC3','12_PC3','13_PC3','14_PC3','15_PC3','16_PC3','17_PC3','18_PC3'],axis=1)"
      ],
      "metadata": {
        "id": "v4PxMepUbMNv"
      },
      "id": "v4PxMepUbMNv",
      "execution_count": 23,
      "outputs": []
    },
    {
      "cell_type": "code",
      "source": [
        "df_Marital=df_Marital.set_axis(['0_Marital', '1_Marital'], axis=1)"
      ],
      "metadata": {
        "id": "mTXg3qAwZyke"
      },
      "id": "mTXg3qAwZyke",
      "execution_count": 24,
      "outputs": []
    },
    {
      "cell_type": "code",
      "source": [
        "df_Occupation=df_Occupation.set_axis(['0_Occ','1_Occ', '2_Occ', '3_Occ', '4_Occ', '5_Occ', '6_Occ', '7_Occ', '8_Occ', '9_Occ', '10_Occ', '11_Occ', '12_Occ', '13_Occ', '14_Occ', '15_Occ', '16_Occ', '17_Occ', '18_Occ', '19_Occ', '20_Occ'], axis=1)"
      ],
      "metadata": {
        "id": "8AaaSi4iX-Nh"
      },
      "id": "8AaaSi4iX-Nh",
      "execution_count": 25,
      "outputs": []
    },
    {
      "cell_type": "code",
      "source": [
        "df_Stay=df_Stay.set_axis(['0_Stay','1_Stay','2_Stay','3_Stay','4+_Stay'],axis=1)"
      ],
      "metadata": {
        "id": "36t53eBBZRQX"
      },
      "id": "36t53eBBZRQX",
      "execution_count": 26,
      "outputs": []
    },
    {
      "cell_type": "markdown",
      "source": [
        "Concatenamos las agrupaciones creando una nueva base de datos llamada 'data'."
      ],
      "metadata": {
        "id": "RdLY6ySEu7h9"
      },
      "id": "RdLY6ySEu7h9"
    },
    {
      "cell_type": "code",
      "source": [
        "data = pd.concat([df_User_Product, df_Occupation, df_City, df_Stay, df_Marital, df_Product_Category_1, df_Product_Category_2, df_Product_Category_3, df_Age, df_Gender], axis = 1)\n",
        "data"
      ],
      "metadata": {
        "colab": {
          "base_uri": "https://localhost:8080/",
          "height": 499
        },
        "id": "37mX_Ps-ihBQ",
        "outputId": "2b3ee8fa-da2f-426c-c7f3-735d2351004a"
      },
      "id": "37mX_Ps-ihBQ",
      "execution_count": 27,
      "outputs": [
        {
          "output_type": "execute_result",
          "data": {
            "text/plain": [
              "         P00000142  P00000242  P00000342  P00000442  P00000542  P00000642  \\\n",
              "User_ID                                                                     \n",
              "1000001      False      False      False      False      False      False   \n",
              "1000002      False      False      False      False      False      False   \n",
              "1000003      False      False      False      False      False      False   \n",
              "1000004      False      False      False      False      False      False   \n",
              "1000005      False      False      False      False      False       True   \n",
              "...            ...        ...        ...        ...        ...        ...   \n",
              "1006036      False      False      False      False      False      False   \n",
              "1006037      False      False      False      False      False      False   \n",
              "1006038      False      False      False      False      False      False   \n",
              "1006039      False      False      False      False      False      False   \n",
              "1006040      False      False      False      False      False      False   \n",
              "\n",
              "         P00000742  P00000842  P00000942  P00001042  ...  18_PC3   0-17  \\\n",
              "User_ID                                              ...                  \n",
              "1000001      False      False      False      False  ...   False   True   \n",
              "1000002      False      False      False      False  ...   False  False   \n",
              "1000003      False      False      False      False  ...    True  False   \n",
              "1000004      False      False      False      False  ...   False  False   \n",
              "1000005      False      False      False      False  ...   False  False   \n",
              "...            ...        ...        ...        ...  ...     ...    ...   \n",
              "1006036      False      False      False      False  ...    True  False   \n",
              "1006037      False      False      False      False  ...   False  False   \n",
              "1006038      False      False      False      False  ...   False  False   \n",
              "1006039      False      False      False      False  ...   False  False   \n",
              "1006040      False      False      False      False  ...   False  False   \n",
              "\n",
              "         18-25  26-35  36-45  46-50  51-55    55+      F      M  \n",
              "User_ID                                                          \n",
              "1000001  False  False  False  False  False  False   True  False  \n",
              "1000002  False  False  False  False  False   True  False   True  \n",
              "1000003  False   True  False  False  False  False  False   True  \n",
              "1000004  False  False  False   True  False  False  False   True  \n",
              "1000005  False   True  False  False  False  False  False   True  \n",
              "...        ...    ...    ...    ...    ...    ...    ...    ...  \n",
              "1006036  False   True  False  False  False  False   True  False  \n",
              "1006037  False  False  False   True  False  False   True  False  \n",
              "1006038  False  False  False  False  False   True   True  False  \n",
              "1006039  False  False  False   True  False  False   True  False  \n",
              "1006040  False   True  False  False  False  False  False   True  \n",
              "\n",
              "[5891 rows x 3583 columns]"
            ],
            "text/html": [
              "\n",
              "  <div id=\"df-0a2adbbc-921d-42c7-aa26-8740279e5bb7\">\n",
              "    <div class=\"colab-df-container\">\n",
              "      <div>\n",
              "<style scoped>\n",
              "    .dataframe tbody tr th:only-of-type {\n",
              "        vertical-align: middle;\n",
              "    }\n",
              "\n",
              "    .dataframe tbody tr th {\n",
              "        vertical-align: top;\n",
              "    }\n",
              "\n",
              "    .dataframe thead th {\n",
              "        text-align: right;\n",
              "    }\n",
              "</style>\n",
              "<table border=\"1\" class=\"dataframe\">\n",
              "  <thead>\n",
              "    <tr style=\"text-align: right;\">\n",
              "      <th></th>\n",
              "      <th>P00000142</th>\n",
              "      <th>P00000242</th>\n",
              "      <th>P00000342</th>\n",
              "      <th>P00000442</th>\n",
              "      <th>P00000542</th>\n",
              "      <th>P00000642</th>\n",
              "      <th>P00000742</th>\n",
              "      <th>P00000842</th>\n",
              "      <th>P00000942</th>\n",
              "      <th>P00001042</th>\n",
              "      <th>...</th>\n",
              "      <th>18_PC3</th>\n",
              "      <th>0-17</th>\n",
              "      <th>18-25</th>\n",
              "      <th>26-35</th>\n",
              "      <th>36-45</th>\n",
              "      <th>46-50</th>\n",
              "      <th>51-55</th>\n",
              "      <th>55+</th>\n",
              "      <th>F</th>\n",
              "      <th>M</th>\n",
              "    </tr>\n",
              "    <tr>\n",
              "      <th>User_ID</th>\n",
              "      <th></th>\n",
              "      <th></th>\n",
              "      <th></th>\n",
              "      <th></th>\n",
              "      <th></th>\n",
              "      <th></th>\n",
              "      <th></th>\n",
              "      <th></th>\n",
              "      <th></th>\n",
              "      <th></th>\n",
              "      <th></th>\n",
              "      <th></th>\n",
              "      <th></th>\n",
              "      <th></th>\n",
              "      <th></th>\n",
              "      <th></th>\n",
              "      <th></th>\n",
              "      <th></th>\n",
              "      <th></th>\n",
              "      <th></th>\n",
              "      <th></th>\n",
              "    </tr>\n",
              "  </thead>\n",
              "  <tbody>\n",
              "    <tr>\n",
              "      <th>1000001</th>\n",
              "      <td>False</td>\n",
              "      <td>False</td>\n",
              "      <td>False</td>\n",
              "      <td>False</td>\n",
              "      <td>False</td>\n",
              "      <td>False</td>\n",
              "      <td>False</td>\n",
              "      <td>False</td>\n",
              "      <td>False</td>\n",
              "      <td>False</td>\n",
              "      <td>...</td>\n",
              "      <td>False</td>\n",
              "      <td>True</td>\n",
              "      <td>False</td>\n",
              "      <td>False</td>\n",
              "      <td>False</td>\n",
              "      <td>False</td>\n",
              "      <td>False</td>\n",
              "      <td>False</td>\n",
              "      <td>True</td>\n",
              "      <td>False</td>\n",
              "    </tr>\n",
              "    <tr>\n",
              "      <th>1000002</th>\n",
              "      <td>False</td>\n",
              "      <td>False</td>\n",
              "      <td>False</td>\n",
              "      <td>False</td>\n",
              "      <td>False</td>\n",
              "      <td>False</td>\n",
              "      <td>False</td>\n",
              "      <td>False</td>\n",
              "      <td>False</td>\n",
              "      <td>False</td>\n",
              "      <td>...</td>\n",
              "      <td>False</td>\n",
              "      <td>False</td>\n",
              "      <td>False</td>\n",
              "      <td>False</td>\n",
              "      <td>False</td>\n",
              "      <td>False</td>\n",
              "      <td>False</td>\n",
              "      <td>True</td>\n",
              "      <td>False</td>\n",
              "      <td>True</td>\n",
              "    </tr>\n",
              "    <tr>\n",
              "      <th>1000003</th>\n",
              "      <td>False</td>\n",
              "      <td>False</td>\n",
              "      <td>False</td>\n",
              "      <td>False</td>\n",
              "      <td>False</td>\n",
              "      <td>False</td>\n",
              "      <td>False</td>\n",
              "      <td>False</td>\n",
              "      <td>False</td>\n",
              "      <td>False</td>\n",
              "      <td>...</td>\n",
              "      <td>True</td>\n",
              "      <td>False</td>\n",
              "      <td>False</td>\n",
              "      <td>True</td>\n",
              "      <td>False</td>\n",
              "      <td>False</td>\n",
              "      <td>False</td>\n",
              "      <td>False</td>\n",
              "      <td>False</td>\n",
              "      <td>True</td>\n",
              "    </tr>\n",
              "    <tr>\n",
              "      <th>1000004</th>\n",
              "      <td>False</td>\n",
              "      <td>False</td>\n",
              "      <td>False</td>\n",
              "      <td>False</td>\n",
              "      <td>False</td>\n",
              "      <td>False</td>\n",
              "      <td>False</td>\n",
              "      <td>False</td>\n",
              "      <td>False</td>\n",
              "      <td>False</td>\n",
              "      <td>...</td>\n",
              "      <td>False</td>\n",
              "      <td>False</td>\n",
              "      <td>False</td>\n",
              "      <td>False</td>\n",
              "      <td>False</td>\n",
              "      <td>True</td>\n",
              "      <td>False</td>\n",
              "      <td>False</td>\n",
              "      <td>False</td>\n",
              "      <td>True</td>\n",
              "    </tr>\n",
              "    <tr>\n",
              "      <th>1000005</th>\n",
              "      <td>False</td>\n",
              "      <td>False</td>\n",
              "      <td>False</td>\n",
              "      <td>False</td>\n",
              "      <td>False</td>\n",
              "      <td>True</td>\n",
              "      <td>False</td>\n",
              "      <td>False</td>\n",
              "      <td>False</td>\n",
              "      <td>False</td>\n",
              "      <td>...</td>\n",
              "      <td>False</td>\n",
              "      <td>False</td>\n",
              "      <td>False</td>\n",
              "      <td>True</td>\n",
              "      <td>False</td>\n",
              "      <td>False</td>\n",
              "      <td>False</td>\n",
              "      <td>False</td>\n",
              "      <td>False</td>\n",
              "      <td>True</td>\n",
              "    </tr>\n",
              "    <tr>\n",
              "      <th>...</th>\n",
              "      <td>...</td>\n",
              "      <td>...</td>\n",
              "      <td>...</td>\n",
              "      <td>...</td>\n",
              "      <td>...</td>\n",
              "      <td>...</td>\n",
              "      <td>...</td>\n",
              "      <td>...</td>\n",
              "      <td>...</td>\n",
              "      <td>...</td>\n",
              "      <td>...</td>\n",
              "      <td>...</td>\n",
              "      <td>...</td>\n",
              "      <td>...</td>\n",
              "      <td>...</td>\n",
              "      <td>...</td>\n",
              "      <td>...</td>\n",
              "      <td>...</td>\n",
              "      <td>...</td>\n",
              "      <td>...</td>\n",
              "      <td>...</td>\n",
              "    </tr>\n",
              "    <tr>\n",
              "      <th>1006036</th>\n",
              "      <td>False</td>\n",
              "      <td>False</td>\n",
              "      <td>False</td>\n",
              "      <td>False</td>\n",
              "      <td>False</td>\n",
              "      <td>False</td>\n",
              "      <td>False</td>\n",
              "      <td>False</td>\n",
              "      <td>False</td>\n",
              "      <td>False</td>\n",
              "      <td>...</td>\n",
              "      <td>True</td>\n",
              "      <td>False</td>\n",
              "      <td>False</td>\n",
              "      <td>True</td>\n",
              "      <td>False</td>\n",
              "      <td>False</td>\n",
              "      <td>False</td>\n",
              "      <td>False</td>\n",
              "      <td>True</td>\n",
              "      <td>False</td>\n",
              "    </tr>\n",
              "    <tr>\n",
              "      <th>1006037</th>\n",
              "      <td>False</td>\n",
              "      <td>False</td>\n",
              "      <td>False</td>\n",
              "      <td>False</td>\n",
              "      <td>False</td>\n",
              "      <td>False</td>\n",
              "      <td>False</td>\n",
              "      <td>False</td>\n",
              "      <td>False</td>\n",
              "      <td>False</td>\n",
              "      <td>...</td>\n",
              "      <td>False</td>\n",
              "      <td>False</td>\n",
              "      <td>False</td>\n",
              "      <td>False</td>\n",
              "      <td>False</td>\n",
              "      <td>True</td>\n",
              "      <td>False</td>\n",
              "      <td>False</td>\n",
              "      <td>True</td>\n",
              "      <td>False</td>\n",
              "    </tr>\n",
              "    <tr>\n",
              "      <th>1006038</th>\n",
              "      <td>False</td>\n",
              "      <td>False</td>\n",
              "      <td>False</td>\n",
              "      <td>False</td>\n",
              "      <td>False</td>\n",
              "      <td>False</td>\n",
              "      <td>False</td>\n",
              "      <td>False</td>\n",
              "      <td>False</td>\n",
              "      <td>False</td>\n",
              "      <td>...</td>\n",
              "      <td>False</td>\n",
              "      <td>False</td>\n",
              "      <td>False</td>\n",
              "      <td>False</td>\n",
              "      <td>False</td>\n",
              "      <td>False</td>\n",
              "      <td>False</td>\n",
              "      <td>True</td>\n",
              "      <td>True</td>\n",
              "      <td>False</td>\n",
              "    </tr>\n",
              "    <tr>\n",
              "      <th>1006039</th>\n",
              "      <td>False</td>\n",
              "      <td>False</td>\n",
              "      <td>False</td>\n",
              "      <td>False</td>\n",
              "      <td>False</td>\n",
              "      <td>False</td>\n",
              "      <td>False</td>\n",
              "      <td>False</td>\n",
              "      <td>False</td>\n",
              "      <td>False</td>\n",
              "      <td>...</td>\n",
              "      <td>False</td>\n",
              "      <td>False</td>\n",
              "      <td>False</td>\n",
              "      <td>False</td>\n",
              "      <td>False</td>\n",
              "      <td>True</td>\n",
              "      <td>False</td>\n",
              "      <td>False</td>\n",
              "      <td>True</td>\n",
              "      <td>False</td>\n",
              "    </tr>\n",
              "    <tr>\n",
              "      <th>1006040</th>\n",
              "      <td>False</td>\n",
              "      <td>False</td>\n",
              "      <td>False</td>\n",
              "      <td>False</td>\n",
              "      <td>False</td>\n",
              "      <td>False</td>\n",
              "      <td>False</td>\n",
              "      <td>False</td>\n",
              "      <td>False</td>\n",
              "      <td>False</td>\n",
              "      <td>...</td>\n",
              "      <td>False</td>\n",
              "      <td>False</td>\n",
              "      <td>False</td>\n",
              "      <td>True</td>\n",
              "      <td>False</td>\n",
              "      <td>False</td>\n",
              "      <td>False</td>\n",
              "      <td>False</td>\n",
              "      <td>False</td>\n",
              "      <td>True</td>\n",
              "    </tr>\n",
              "  </tbody>\n",
              "</table>\n",
              "<p>5891 rows × 3583 columns</p>\n",
              "</div>\n",
              "      <button class=\"colab-df-convert\" onclick=\"convertToInteractive('df-0a2adbbc-921d-42c7-aa26-8740279e5bb7')\"\n",
              "              title=\"Convert this dataframe to an interactive table.\"\n",
              "              style=\"display:none;\">\n",
              "        \n",
              "  <svg xmlns=\"http://www.w3.org/2000/svg\" height=\"24px\"viewBox=\"0 0 24 24\"\n",
              "       width=\"24px\">\n",
              "    <path d=\"M0 0h24v24H0V0z\" fill=\"none\"/>\n",
              "    <path d=\"M18.56 5.44l.94 2.06.94-2.06 2.06-.94-2.06-.94-.94-2.06-.94 2.06-2.06.94zm-11 1L8.5 8.5l.94-2.06 2.06-.94-2.06-.94L8.5 2.5l-.94 2.06-2.06.94zm10 10l.94 2.06.94-2.06 2.06-.94-2.06-.94-.94-2.06-.94 2.06-2.06.94z\"/><path d=\"M17.41 7.96l-1.37-1.37c-.4-.4-.92-.59-1.43-.59-.52 0-1.04.2-1.43.59L10.3 9.45l-7.72 7.72c-.78.78-.78 2.05 0 2.83L4 21.41c.39.39.9.59 1.41.59.51 0 1.02-.2 1.41-.59l7.78-7.78 2.81-2.81c.8-.78.8-2.07 0-2.86zM5.41 20L4 18.59l7.72-7.72 1.47 1.35L5.41 20z\"/>\n",
              "  </svg>\n",
              "      </button>\n",
              "      \n",
              "  <style>\n",
              "    .colab-df-container {\n",
              "      display:flex;\n",
              "      flex-wrap:wrap;\n",
              "      gap: 12px;\n",
              "    }\n",
              "\n",
              "    .colab-df-convert {\n",
              "      background-color: #E8F0FE;\n",
              "      border: none;\n",
              "      border-radius: 50%;\n",
              "      cursor: pointer;\n",
              "      display: none;\n",
              "      fill: #1967D2;\n",
              "      height: 32px;\n",
              "      padding: 0 0 0 0;\n",
              "      width: 32px;\n",
              "    }\n",
              "\n",
              "    .colab-df-convert:hover {\n",
              "      background-color: #E2EBFA;\n",
              "      box-shadow: 0px 1px 2px rgba(60, 64, 67, 0.3), 0px 1px 3px 1px rgba(60, 64, 67, 0.15);\n",
              "      fill: #174EA6;\n",
              "    }\n",
              "\n",
              "    [theme=dark] .colab-df-convert {\n",
              "      background-color: #3B4455;\n",
              "      fill: #D2E3FC;\n",
              "    }\n",
              "\n",
              "    [theme=dark] .colab-df-convert:hover {\n",
              "      background-color: #434B5C;\n",
              "      box-shadow: 0px 1px 3px 1px rgba(0, 0, 0, 0.15);\n",
              "      filter: drop-shadow(0px 1px 2px rgba(0, 0, 0, 0.3));\n",
              "      fill: #FFFFFF;\n",
              "    }\n",
              "  </style>\n",
              "\n",
              "      <script>\n",
              "        const buttonEl =\n",
              "          document.querySelector('#df-0a2adbbc-921d-42c7-aa26-8740279e5bb7 button.colab-df-convert');\n",
              "        buttonEl.style.display =\n",
              "          google.colab.kernel.accessAllowed ? 'block' : 'none';\n",
              "\n",
              "        async function convertToInteractive(key) {\n",
              "          const element = document.querySelector('#df-0a2adbbc-921d-42c7-aa26-8740279e5bb7');\n",
              "          const dataTable =\n",
              "            await google.colab.kernel.invokeFunction('convertToInteractive',\n",
              "                                                     [key], {});\n",
              "          if (!dataTable) return;\n",
              "\n",
              "          const docLinkHtml = 'Like what you see? Visit the ' +\n",
              "            '<a target=\"_blank\" href=https://colab.research.google.com/notebooks/data_table.ipynb>data table notebook</a>'\n",
              "            + ' to learn more about interactive tables.';\n",
              "          element.innerHTML = '';\n",
              "          dataTable['output_type'] = 'display_data';\n",
              "          await google.colab.output.renderOutput(dataTable, element);\n",
              "          const docLink = document.createElement('div');\n",
              "          docLink.innerHTML = docLinkHtml;\n",
              "          element.appendChild(docLink);\n",
              "        }\n",
              "      </script>\n",
              "    </div>\n",
              "  </div>\n",
              "  "
            ]
          },
          "metadata": {},
          "execution_count": 27
        }
      ]
    },
    {
      "cell_type": "markdown",
      "source": [
        "Una vez creada la base de datos, y aplicado el one-hot enconding con False y True aplicamos el método apriori con un soporte de 0.5:"
      ],
      "metadata": {
        "id": "yeQ6fqVXvXSe"
      },
      "id": "yeQ6fqVXvXSe"
    },
    {
      "cell_type": "code",
      "source": [
        "frequent_itemsets = apriori(data, min_support=0.5, use_colnames=True)\n",
        "print(frequent_itemsets)"
      ],
      "metadata": {
        "colab": {
          "base_uri": "https://localhost:8080/"
        },
        "id": "kica7vUDb1-v",
        "outputId": "708eee30-03c3-4226-d6ef-a001e75289ff"
      },
      "id": "kica7vUDb1-v",
      "execution_count": 28,
      "outputs": [
        {
          "output_type": "stream",
          "name": "stdout",
          "text": [
            "      support                                           itemsets\n",
            "0    0.532847                                                (C)\n",
            "1    0.580037                                        (0_Marital)\n",
            "2    0.905958                                            (1_PC1)\n",
            "3    0.536581                                            (2_PC1)\n",
            "4    0.852996                                            (5_PC1)\n",
            "..        ...                                                ...\n",
            "754  0.511119       (14_PC2, 16_PC2, 8_PC2, 0_PC2, 5_PC1, 0_PC3)\n",
            "755  0.506196  (2_PC2, 1_PC1, 8_PC2, 0_PC2, 8_PC1, 5_PC1, 0_PC3)\n",
            "756  0.539467  (14_PC2, 1_PC1, 8_PC2, 0_PC2, 8_PC1, 5_PC1, 0_...\n",
            "757  0.508403  (1_PC1, 16_PC2, 8_PC2, 0_PC2, 8_PC1, 5_PC1, 0_...\n",
            "758  0.512137  (14_PC2, 2_PC2, 1_PC1, 8_PC2, 0_PC2, 5_PC1, 0_...\n",
            "\n",
            "[759 rows x 2 columns]\n"
          ]
        }
      ]
    },
    {
      "cell_type": "markdown",
      "source": [
        "A continuación se diferencias las longitudes de itemsets frecuentes, e imprimimos la primera longitud."
      ],
      "metadata": {
        "id": "Xui4x3N-3l0a"
      },
      "id": "Xui4x3N-3l0a"
    },
    {
      "cell_type": "code",
      "source": [
        "#Para k=1\n",
        "\n",
        "frequent_itemsets['length'] = frequent_itemsets['itemsets'].apply(lambda x: len(x))\n",
        "frequent_itemsets1=frequent_itemsets[frequent_itemsets['length'] == 1]\n",
        "frequent_itemsets1"
      ],
      "metadata": {
        "id": "qfz1r4EPsr8Q",
        "outputId": "6b568946-68a3-46ef-e04d-ebeec883dcd0",
        "colab": {
          "base_uri": "https://localhost:8080/",
          "height": 771
        }
      },
      "id": "qfz1r4EPsr8Q",
      "execution_count": 29,
      "outputs": [
        {
          "output_type": "execute_result",
          "data": {
            "text/plain": [
              "     support     itemsets  length\n",
              "0   0.532847          (C)       1\n",
              "1   0.580037  (0_Marital)       1\n",
              "2   0.905958      (1_PC1)       1\n",
              "3   0.536581      (2_PC1)       1\n",
              "4   0.852996      (5_PC1)       1\n",
              "5   0.521643      (6_PC1)       1\n",
              "6   0.767951      (8_PC1)       1\n",
              "7   0.944152      (0_PC2)       1\n",
              "8   0.729588      (2_PC2)       1\n",
              "9   0.527075      (4_PC2)       1\n",
              "10  0.592938      (5_PC2)       1\n",
              "11  0.516890      (6_PC2)       1\n",
              "12  0.830929      (8_PC2)       1\n",
              "13  0.757936     (14_PC2)       1\n",
              "14  0.656765     (15_PC2)       1\n",
              "15  0.723986     (16_PC2)       1\n",
              "16  0.997963      (0_PC3)       1\n",
              "17  0.533865      (5_PC3)       1\n",
              "18  0.538618     (14_PC3)       1\n",
              "19  0.565099     (15_PC3)       1\n",
              "20  0.670175     (16_PC3)       1\n",
              "21  0.556782     (17_PC3)       1\n",
              "22  0.717196          (M)       1"
            ],
            "text/html": [
              "\n",
              "  <div id=\"df-042effb3-1710-462a-9e42-9746500a34b7\">\n",
              "    <div class=\"colab-df-container\">\n",
              "      <div>\n",
              "<style scoped>\n",
              "    .dataframe tbody tr th:only-of-type {\n",
              "        vertical-align: middle;\n",
              "    }\n",
              "\n",
              "    .dataframe tbody tr th {\n",
              "        vertical-align: top;\n",
              "    }\n",
              "\n",
              "    .dataframe thead th {\n",
              "        text-align: right;\n",
              "    }\n",
              "</style>\n",
              "<table border=\"1\" class=\"dataframe\">\n",
              "  <thead>\n",
              "    <tr style=\"text-align: right;\">\n",
              "      <th></th>\n",
              "      <th>support</th>\n",
              "      <th>itemsets</th>\n",
              "      <th>length</th>\n",
              "    </tr>\n",
              "  </thead>\n",
              "  <tbody>\n",
              "    <tr>\n",
              "      <th>0</th>\n",
              "      <td>0.532847</td>\n",
              "      <td>(C)</td>\n",
              "      <td>1</td>\n",
              "    </tr>\n",
              "    <tr>\n",
              "      <th>1</th>\n",
              "      <td>0.580037</td>\n",
              "      <td>(0_Marital)</td>\n",
              "      <td>1</td>\n",
              "    </tr>\n",
              "    <tr>\n",
              "      <th>2</th>\n",
              "      <td>0.905958</td>\n",
              "      <td>(1_PC1)</td>\n",
              "      <td>1</td>\n",
              "    </tr>\n",
              "    <tr>\n",
              "      <th>3</th>\n",
              "      <td>0.536581</td>\n",
              "      <td>(2_PC1)</td>\n",
              "      <td>1</td>\n",
              "    </tr>\n",
              "    <tr>\n",
              "      <th>4</th>\n",
              "      <td>0.852996</td>\n",
              "      <td>(5_PC1)</td>\n",
              "      <td>1</td>\n",
              "    </tr>\n",
              "    <tr>\n",
              "      <th>5</th>\n",
              "      <td>0.521643</td>\n",
              "      <td>(6_PC1)</td>\n",
              "      <td>1</td>\n",
              "    </tr>\n",
              "    <tr>\n",
              "      <th>6</th>\n",
              "      <td>0.767951</td>\n",
              "      <td>(8_PC1)</td>\n",
              "      <td>1</td>\n",
              "    </tr>\n",
              "    <tr>\n",
              "      <th>7</th>\n",
              "      <td>0.944152</td>\n",
              "      <td>(0_PC2)</td>\n",
              "      <td>1</td>\n",
              "    </tr>\n",
              "    <tr>\n",
              "      <th>8</th>\n",
              "      <td>0.729588</td>\n",
              "      <td>(2_PC2)</td>\n",
              "      <td>1</td>\n",
              "    </tr>\n",
              "    <tr>\n",
              "      <th>9</th>\n",
              "      <td>0.527075</td>\n",
              "      <td>(4_PC2)</td>\n",
              "      <td>1</td>\n",
              "    </tr>\n",
              "    <tr>\n",
              "      <th>10</th>\n",
              "      <td>0.592938</td>\n",
              "      <td>(5_PC2)</td>\n",
              "      <td>1</td>\n",
              "    </tr>\n",
              "    <tr>\n",
              "      <th>11</th>\n",
              "      <td>0.516890</td>\n",
              "      <td>(6_PC2)</td>\n",
              "      <td>1</td>\n",
              "    </tr>\n",
              "    <tr>\n",
              "      <th>12</th>\n",
              "      <td>0.830929</td>\n",
              "      <td>(8_PC2)</td>\n",
              "      <td>1</td>\n",
              "    </tr>\n",
              "    <tr>\n",
              "      <th>13</th>\n",
              "      <td>0.757936</td>\n",
              "      <td>(14_PC2)</td>\n",
              "      <td>1</td>\n",
              "    </tr>\n",
              "    <tr>\n",
              "      <th>14</th>\n",
              "      <td>0.656765</td>\n",
              "      <td>(15_PC2)</td>\n",
              "      <td>1</td>\n",
              "    </tr>\n",
              "    <tr>\n",
              "      <th>15</th>\n",
              "      <td>0.723986</td>\n",
              "      <td>(16_PC2)</td>\n",
              "      <td>1</td>\n",
              "    </tr>\n",
              "    <tr>\n",
              "      <th>16</th>\n",
              "      <td>0.997963</td>\n",
              "      <td>(0_PC3)</td>\n",
              "      <td>1</td>\n",
              "    </tr>\n",
              "    <tr>\n",
              "      <th>17</th>\n",
              "      <td>0.533865</td>\n",
              "      <td>(5_PC3)</td>\n",
              "      <td>1</td>\n",
              "    </tr>\n",
              "    <tr>\n",
              "      <th>18</th>\n",
              "      <td>0.538618</td>\n",
              "      <td>(14_PC3)</td>\n",
              "      <td>1</td>\n",
              "    </tr>\n",
              "    <tr>\n",
              "      <th>19</th>\n",
              "      <td>0.565099</td>\n",
              "      <td>(15_PC3)</td>\n",
              "      <td>1</td>\n",
              "    </tr>\n",
              "    <tr>\n",
              "      <th>20</th>\n",
              "      <td>0.670175</td>\n",
              "      <td>(16_PC3)</td>\n",
              "      <td>1</td>\n",
              "    </tr>\n",
              "    <tr>\n",
              "      <th>21</th>\n",
              "      <td>0.556782</td>\n",
              "      <td>(17_PC3)</td>\n",
              "      <td>1</td>\n",
              "    </tr>\n",
              "    <tr>\n",
              "      <th>22</th>\n",
              "      <td>0.717196</td>\n",
              "      <td>(M)</td>\n",
              "      <td>1</td>\n",
              "    </tr>\n",
              "  </tbody>\n",
              "</table>\n",
              "</div>\n",
              "      <button class=\"colab-df-convert\" onclick=\"convertToInteractive('df-042effb3-1710-462a-9e42-9746500a34b7')\"\n",
              "              title=\"Convert this dataframe to an interactive table.\"\n",
              "              style=\"display:none;\">\n",
              "        \n",
              "  <svg xmlns=\"http://www.w3.org/2000/svg\" height=\"24px\"viewBox=\"0 0 24 24\"\n",
              "       width=\"24px\">\n",
              "    <path d=\"M0 0h24v24H0V0z\" fill=\"none\"/>\n",
              "    <path d=\"M18.56 5.44l.94 2.06.94-2.06 2.06-.94-2.06-.94-.94-2.06-.94 2.06-2.06.94zm-11 1L8.5 8.5l.94-2.06 2.06-.94-2.06-.94L8.5 2.5l-.94 2.06-2.06.94zm10 10l.94 2.06.94-2.06 2.06-.94-2.06-.94-.94-2.06-.94 2.06-2.06.94z\"/><path d=\"M17.41 7.96l-1.37-1.37c-.4-.4-.92-.59-1.43-.59-.52 0-1.04.2-1.43.59L10.3 9.45l-7.72 7.72c-.78.78-.78 2.05 0 2.83L4 21.41c.39.39.9.59 1.41.59.51 0 1.02-.2 1.41-.59l7.78-7.78 2.81-2.81c.8-.78.8-2.07 0-2.86zM5.41 20L4 18.59l7.72-7.72 1.47 1.35L5.41 20z\"/>\n",
              "  </svg>\n",
              "      </button>\n",
              "      \n",
              "  <style>\n",
              "    .colab-df-container {\n",
              "      display:flex;\n",
              "      flex-wrap:wrap;\n",
              "      gap: 12px;\n",
              "    }\n",
              "\n",
              "    .colab-df-convert {\n",
              "      background-color: #E8F0FE;\n",
              "      border: none;\n",
              "      border-radius: 50%;\n",
              "      cursor: pointer;\n",
              "      display: none;\n",
              "      fill: #1967D2;\n",
              "      height: 32px;\n",
              "      padding: 0 0 0 0;\n",
              "      width: 32px;\n",
              "    }\n",
              "\n",
              "    .colab-df-convert:hover {\n",
              "      background-color: #E2EBFA;\n",
              "      box-shadow: 0px 1px 2px rgba(60, 64, 67, 0.3), 0px 1px 3px 1px rgba(60, 64, 67, 0.15);\n",
              "      fill: #174EA6;\n",
              "    }\n",
              "\n",
              "    [theme=dark] .colab-df-convert {\n",
              "      background-color: #3B4455;\n",
              "      fill: #D2E3FC;\n",
              "    }\n",
              "\n",
              "    [theme=dark] .colab-df-convert:hover {\n",
              "      background-color: #434B5C;\n",
              "      box-shadow: 0px 1px 3px 1px rgba(0, 0, 0, 0.15);\n",
              "      filter: drop-shadow(0px 1px 2px rgba(0, 0, 0, 0.3));\n",
              "      fill: #FFFFFF;\n",
              "    }\n",
              "  </style>\n",
              "\n",
              "      <script>\n",
              "        const buttonEl =\n",
              "          document.querySelector('#df-042effb3-1710-462a-9e42-9746500a34b7 button.colab-df-convert');\n",
              "        buttonEl.style.display =\n",
              "          google.colab.kernel.accessAllowed ? 'block' : 'none';\n",
              "\n",
              "        async function convertToInteractive(key) {\n",
              "          const element = document.querySelector('#df-042effb3-1710-462a-9e42-9746500a34b7');\n",
              "          const dataTable =\n",
              "            await google.colab.kernel.invokeFunction('convertToInteractive',\n",
              "                                                     [key], {});\n",
              "          if (!dataTable) return;\n",
              "\n",
              "          const docLinkHtml = 'Like what you see? Visit the ' +\n",
              "            '<a target=\"_blank\" href=https://colab.research.google.com/notebooks/data_table.ipynb>data table notebook</a>'\n",
              "            + ' to learn more about interactive tables.';\n",
              "          element.innerHTML = '';\n",
              "          dataTable['output_type'] = 'display_data';\n",
              "          await google.colab.output.renderOutput(dataTable, element);\n",
              "          const docLink = document.createElement('div');\n",
              "          docLink.innerHTML = docLinkHtml;\n",
              "          element.appendChild(docLink);\n",
              "        }\n",
              "      </script>\n",
              "    </div>\n",
              "  </div>\n",
              "  "
            ]
          },
          "metadata": {},
          "execution_count": 29
        }
      ]
    },
    {
      "cell_type": "markdown",
      "source": [
        "Tal y como se plantea, se muestra para cada longitud, los itemsets frecuentes, hasta que no se generen nuevos es decir, hasta alcanzar su máxima longitud. "
      ],
      "metadata": {
        "id": "SXdDy7Tj4VFQ"
      },
      "id": "SXdDy7Tj4VFQ"
    },
    {
      "cell_type": "code",
      "source": [
        "i=2\n",
        "frequent_itemsets['length'] = frequent_itemsets['itemsets'].apply(lambda x: len(x))\n",
        "while i <= max(frequent_itemsets['length']):\n",
        "  print(frequent_itemsets[frequent_itemsets['length'] == i]) \n",
        "  i=i+1"
      ],
      "metadata": {
        "id": "gBV230lP4xSH",
        "outputId": "89160bb6-6de7-4598-9581-0e0d14653e84",
        "colab": {
          "base_uri": "https://localhost:8080/"
        }
      },
      "id": "gBV230lP4xSH",
      "execution_count": 30,
      "outputs": [
        {
          "output_type": "stream",
          "name": "stdout",
          "text": [
            "      support            itemsets  length\n",
            "23   0.531149          (C, 0_PC3)       2\n",
            "24   0.527245  (0_Marital, 1_PC1)       2\n",
            "25   0.546936  (0_Marital, 0_PC2)       2\n",
            "26   0.578679  (0_Marital, 0_PC3)       2\n",
            "27   0.516551      (2_PC1, 1_PC1)       2\n",
            "..        ...                 ...     ...\n",
            "125  0.564420     (15_PC3, 0_PC3)       2\n",
            "126  0.669496     (16_PC3, 0_PC3)       2\n",
            "127  0.556782     (0_PC3, 17_PC3)       2\n",
            "128  0.715498          (M, 0_PC3)       2\n",
            "129  0.503650         (M, 16_PC3)       2\n",
            "\n",
            "[107 rows x 3 columns]\n",
            "      support                   itemsets  length\n",
            "130  0.526226  (0_PC3, 0_Marital, 1_PC1)       3\n",
            "131  0.546936  (0_Marital, 0_PC2, 0_PC3)       3\n",
            "132  0.500934      (2_PC1, 0_PC2, 1_PC1)       3\n",
            "133  0.516041      (2_PC1, 0_PC3, 1_PC1)       3\n",
            "134  0.647938      (8_PC1, 5_PC1, 1_PC1)       3\n",
            "..        ...                        ...     ...\n",
            "336  0.544050    (15_PC2, 16_PC3, 0_PC3)       3\n",
            "337  0.504838         (M, 15_PC2, 0_PC3)       3\n",
            "338  0.553217    (16_PC2, 16_PC3, 0_PC3)       3\n",
            "339  0.539127         (16_PC2, M, 0_PC3)       3\n",
            "340  0.503140         (M, 16_PC3, 0_PC3)       3\n",
            "\n",
            "[211 rows x 3 columns]\n",
            "      support                        itemsets  length\n",
            "341  0.500934    (2_PC1, 0_PC3, 0_PC2, 1_PC1)       4\n",
            "342  0.630962    (8_PC1, 5_PC1, 0_PC2, 1_PC1)       4\n",
            "343  0.548973    (2_PC2, 8_PC1, 5_PC1, 1_PC1)       4\n",
            "344  0.601935    (8_PC1, 8_PC2, 5_PC1, 1_PC1)       4\n",
            "345  0.578849   (14_PC2, 8_PC1, 5_PC1, 1_PC1)       4\n",
            "..        ...                             ...     ...\n",
            "567  0.524868   (16_PC2, 2_PC2, 8_PC2, 0_PC3)       4\n",
            "568  0.518248   (2_PC2, 8_PC2, 16_PC3, 0_PC3)       4\n",
            "569  0.538109  (16_PC2, 14_PC2, 8_PC2, 0_PC3)       4\n",
            "570  0.518927  (14_PC2, 8_PC2, 16_PC3, 0_PC3)       4\n",
            "571  0.511119  (16_PC2, 8_PC2, 16_PC3, 0_PC3)       4\n",
            "\n",
            "[231 rows x 3 columns]\n",
            "      support                               itemsets  length\n",
            "572  0.535393    (2_PC2, 1_PC1, 0_PC2, 8_PC1, 5_PC1)       5\n",
            "573  0.591580    (1_PC1, 8_PC2, 0_PC2, 8_PC1, 5_PC1)       5\n",
            "574  0.566797   (14_PC2, 1_PC1, 0_PC2, 8_PC1, 5_PC1)       5\n",
            "575  0.537769   (1_PC1, 16_PC2, 0_PC2, 8_PC1, 5_PC1)       5\n",
            "576  0.630962    (1_PC1, 0_PC2, 8_PC1, 5_PC1, 0_PC3)       5\n",
            "..        ...                                    ...     ...\n",
            "709  0.513156   (2_PC2, 16_PC2, 8_PC2, 0_PC2, 0_PC3)       5\n",
            "710  0.506875   (2_PC2, 16_PC3, 8_PC2, 0_PC2, 0_PC3)       5\n",
            "711  0.529791  (14_PC2, 16_PC2, 8_PC2, 0_PC2, 0_PC3)       5\n",
            "712  0.510949  (14_PC2, 16_PC3, 8_PC2, 0_PC2, 0_PC3)       5\n",
            "713  0.500764  (16_PC3, 16_PC2, 8_PC2, 0_PC2, 0_PC3)       5\n",
            "\n",
            "[142 rows x 3 columns]\n",
            "      support                                      itemsets  length\n",
            "714  0.506196    (2_PC2, 1_PC1, 8_PC2, 0_PC2, 8_PC1, 5_PC1)       6\n",
            "715  0.535393    (2_PC2, 1_PC1, 0_PC2, 8_PC1, 5_PC1, 0_PC3)       6\n",
            "716  0.539467   (14_PC2, 1_PC1, 8_PC2, 0_PC2, 8_PC1, 5_PC1)       6\n",
            "717  0.508403   (1_PC1, 16_PC2, 8_PC2, 0_PC2, 8_PC1, 5_PC1)       6\n",
            "718  0.591580    (1_PC1, 8_PC2, 0_PC2, 8_PC1, 5_PC1, 0_PC3)       6\n",
            "719  0.566797   (14_PC2, 1_PC1, 0_PC2, 8_PC1, 5_PC1, 0_PC3)       6\n",
            "720  0.537769   (1_PC1, 16_PC2, 0_PC2, 8_PC1, 5_PC1, 0_PC3)       6\n",
            "721  0.504329   (16_PC3, 1_PC1, 0_PC2, 8_PC1, 5_PC1, 0_PC3)       6\n",
            "722  0.514174    (2_PC2, 1_PC1, 8_PC2, 8_PC1, 5_PC1, 0_PC3)       6\n",
            "723  0.546597   (14_PC2, 1_PC1, 8_PC2, 8_PC1, 5_PC1, 0_PC3)       6\n",
            "724  0.515193   (1_PC1, 16_PC2, 8_PC2, 8_PC1, 5_PC1, 0_PC3)       6\n",
            "725  0.512137   (2_PC2, 14_PC2, 1_PC1, 8_PC2, 0_PC2, 5_PC1)       6\n",
            "726  0.574775    (2_PC2, 1_PC1, 8_PC2, 0_PC2, 5_PC1, 0_PC3)       6\n",
            "727  0.543371   (14_PC2, 2_PC2, 1_PC1, 0_PC2, 5_PC1, 0_PC3)       6\n",
            "728  0.514174   (2_PC2, 1_PC1, 16_PC2, 0_PC2, 5_PC1, 0_PC3)       6\n",
            "729  0.504668   (2_PC2, 16_PC3, 1_PC1, 0_PC2, 5_PC1, 0_PC3)       6\n",
            "730  0.598540   (14_PC2, 1_PC1, 8_PC2, 0_PC2, 5_PC1, 0_PC3)       6\n",
            "731  0.519267   (1_PC1, 8_PC2, 15_PC2, 0_PC2, 5_PC1, 0_PC3)       6\n",
            "732  0.558140   (1_PC1, 16_PC2, 8_PC2, 0_PC2, 5_PC1, 0_PC3)       6\n",
            "733  0.535902   (16_PC3, 1_PC1, 8_PC2, 0_PC2, 5_PC1, 0_PC3)       6\n",
            "734  0.501103        (1_PC1, 8_PC2, 0_PC2, M, 5_PC1, 0_PC3)       6\n",
            "735  0.525717  (14_PC2, 1_PC1, 16_PC2, 0_PC2, 5_PC1, 0_PC3)       6\n",
            "736  0.502461  (14_PC2, 16_PC3, 1_PC1, 0_PC2, 5_PC1, 0_PC3)       6\n",
            "737  0.518757   (2_PC2, 14_PC2, 1_PC1, 8_PC2, 5_PC1, 0_PC3)       6\n",
            "738  0.503819  (14_PC2, 1_PC1, 16_PC2, 8_PC2, 5_PC1, 0_PC3)       6\n",
            "739  0.528433    (2_PC2, 1_PC1, 8_PC2, 0_PC2, 8_PC1, 0_PC3)       6\n",
            "740  0.505856   (14_PC2, 2_PC2, 1_PC1, 0_PC2, 8_PC1, 0_PC3)       6\n",
            "741  0.558479   (14_PC2, 1_PC1, 8_PC2, 0_PC2, 8_PC1, 0_PC3)       6\n",
            "742  0.533356   (1_PC1, 16_PC2, 8_PC2, 0_PC2, 8_PC1, 0_PC3)       6\n",
            "743  0.503819   (16_PC3, 1_PC1, 8_PC2, 0_PC2, 8_PC1, 0_PC3)       6\n",
            "744  0.507893  (14_PC2, 1_PC1, 16_PC2, 0_PC2, 8_PC1, 0_PC3)       6\n",
            "745  0.528773   (2_PC2, 14_PC2, 1_PC1, 8_PC2, 0_PC2, 0_PC3)       6\n",
            "746  0.513156   (2_PC2, 1_PC1, 16_PC2, 8_PC2, 0_PC2, 0_PC3)       6\n",
            "747  0.506875   (2_PC2, 16_PC3, 1_PC1, 8_PC2, 0_PC2, 0_PC3)       6\n",
            "748  0.517569  (14_PC2, 1_PC1, 16_PC2, 8_PC2, 0_PC2, 0_PC3)       6\n",
            "749  0.506196    (2_PC2, 8_PC2, 0_PC2, 8_PC1, 5_PC1, 0_PC3)       6\n",
            "750  0.563572   (14_PC2, 8_PC2, 0_PC2, 8_PC1, 5_PC1, 0_PC3)       6\n",
            "751  0.523850   (16_PC2, 8_PC2, 0_PC2, 8_PC1, 5_PC1, 0_PC3)       6\n",
            "752  0.501782  (14_PC2, 16_PC2, 0_PC2, 8_PC1, 5_PC1, 0_PC3)       6\n",
            "753  0.512137   (2_PC2, 14_PC2, 8_PC2, 0_PC2, 5_PC1, 0_PC3)       6\n",
            "754  0.511119  (14_PC2, 16_PC2, 8_PC2, 0_PC2, 5_PC1, 0_PC3)       6\n",
            "      support                                           itemsets  length\n",
            "755  0.506196  (2_PC2, 1_PC1, 8_PC2, 0_PC2, 8_PC1, 5_PC1, 0_PC3)       7\n",
            "756  0.539467  (14_PC2, 1_PC1, 8_PC2, 0_PC2, 8_PC1, 5_PC1, 0_...       7\n",
            "757  0.508403  (1_PC1, 16_PC2, 8_PC2, 0_PC2, 8_PC1, 5_PC1, 0_...       7\n",
            "758  0.512137  (14_PC2, 2_PC2, 1_PC1, 8_PC2, 0_PC2, 5_PC1, 0_...       7\n"
          ]
        }
      ]
    },
    {
      "cell_type": "markdown",
      "source": [
        "Observamos que se crean cadenas de items de longitud 7 con un soporte mayor que 0.5. "
      ],
      "metadata": {
        "id": "tjCevPRz4ib7"
      },
      "id": "tjCevPRz4ib7"
    },
    {
      "cell_type": "markdown",
      "source": [
        "Lo próximo es calcular todas las posibles reglas, evaluando así la confianza de cada una. Pero para ello primero se debe hacer un proceso de limpieza, ya que anteriormente se reemplazaron las categorías de los productos con NaN's por 0's. No se desea que estos 0's produzcan reglas de asociación, ya que en verdad, son inexistentes, no implican ninguna información útil. \n",
        "\n",
        "Los borramos así de los itemsets frecuentes: "
      ],
      "metadata": {
        "id": "W4k3tgpI4xet"
      },
      "id": "W4k3tgpI4xet"
    },
    {
      "cell_type": "code",
      "source": [
        "frequents_with_zero=frequent_itemsets['itemsets'].apply(lambda x: '0_PC2' in x) |frequent_itemsets['itemsets'].apply(lambda x: '0_PC3' in x)\n",
        "\n"
      ],
      "metadata": {
        "id": "J3q0EQwdHWds"
      },
      "id": "J3q0EQwdHWds",
      "execution_count": 31,
      "outputs": []
    },
    {
      "cell_type": "code",
      "source": [
        "frequent_itemsets = frequent_itemsets.drop(frequent_itemsets[frequents_with_zero].index)"
      ],
      "metadata": {
        "id": "aKfn79iNH3DM"
      },
      "id": "aKfn79iNH3DM",
      "execution_count": 32,
      "outputs": []
    },
    {
      "cell_type": "markdown",
      "source": [
        "Una vez realizado, se procede a calcular la confianza de todas las reglas, sin umbral mínimo: "
      ],
      "metadata": {
        "id": "1-ibNS8W5fw2"
      },
      "id": "1-ibNS8W5fw2"
    },
    {
      "cell_type": "code",
      "source": [
        "rules = association_rules(frequent_itemsets, metric='confidence', min_threshold=0)\n",
        "rules"
      ],
      "metadata": {
        "id": "KaEkdtva73Ap",
        "outputId": "cd255f2b-debc-48b4-c3e7-9f4ee043ca40",
        "colab": {
          "base_uri": "https://localhost:8080/",
          "height": 424
        }
      },
      "id": "KaEkdtva73Ap",
      "execution_count": 33,
      "outputs": [
        {
          "output_type": "execute_result",
          "data": {
            "text/plain": [
              "      antecedents                     consequents  antecedent support  \\\n",
              "0     (0_Marital)                         (1_PC1)            0.580037   \n",
              "1         (1_PC1)                     (0_Marital)            0.905958   \n",
              "2         (2_PC1)                         (1_PC1)            0.536581   \n",
              "3         (1_PC1)                         (2_PC1)            0.905958   \n",
              "4         (5_PC1)                         (1_PC1)            0.852996   \n",
              "...           ...                             ...                 ...   \n",
              "1265     (14_PC2)   (16_PC2, 8_PC2, 5_PC1, 1_PC1)            0.757936   \n",
              "1266      (1_PC1)  (16_PC2, 14_PC2, 8_PC2, 5_PC1)            0.905958   \n",
              "1267     (16_PC2)   (14_PC2, 8_PC2, 5_PC1, 1_PC1)            0.723986   \n",
              "1268      (8_PC2)  (16_PC2, 14_PC2, 5_PC1, 1_PC1)            0.830929   \n",
              "1269      (5_PC1)  (16_PC2, 14_PC2, 8_PC2, 1_PC1)            0.852996   \n",
              "\n",
              "      consequent support   support  confidence      lift  leverage  conviction  \n",
              "0               0.905958  0.527245    0.908984  1.003340  0.001755    1.033250  \n",
              "1               0.580037  0.527245    0.581975  1.003340  0.001755    1.004635  \n",
              "2               0.905958  0.516551    0.962670  1.062599  0.030430    2.519203  \n",
              "3               0.536581  0.516551    0.570171  1.062599  0.030430    1.078146  \n",
              "4               0.905958  0.781531    0.916219  1.011326  0.008752    1.122470  \n",
              "...                  ...       ...         ...       ...       ...         ...  \n",
              "1265            0.567306  0.503819    0.664726  1.171723  0.073838    1.290567  \n",
              "1266            0.516551  0.503819    0.556118  1.076598  0.035846    1.089138  \n",
              "1267            0.607707  0.503819    0.695897  1.145120  0.063848    1.290001  \n",
              "1268            0.533186  0.503819    0.606333  1.137188  0.060780    1.185809  \n",
              "1269            0.525378  0.503819    0.590647  1.124233  0.055674    1.159444  \n",
              "\n",
              "[1270 rows x 9 columns]"
            ],
            "text/html": [
              "\n",
              "  <div id=\"df-d1db3982-c13f-4dfa-8ee0-d5910d5080b1\">\n",
              "    <div class=\"colab-df-container\">\n",
              "      <div>\n",
              "<style scoped>\n",
              "    .dataframe tbody tr th:only-of-type {\n",
              "        vertical-align: middle;\n",
              "    }\n",
              "\n",
              "    .dataframe tbody tr th {\n",
              "        vertical-align: top;\n",
              "    }\n",
              "\n",
              "    .dataframe thead th {\n",
              "        text-align: right;\n",
              "    }\n",
              "</style>\n",
              "<table border=\"1\" class=\"dataframe\">\n",
              "  <thead>\n",
              "    <tr style=\"text-align: right;\">\n",
              "      <th></th>\n",
              "      <th>antecedents</th>\n",
              "      <th>consequents</th>\n",
              "      <th>antecedent support</th>\n",
              "      <th>consequent support</th>\n",
              "      <th>support</th>\n",
              "      <th>confidence</th>\n",
              "      <th>lift</th>\n",
              "      <th>leverage</th>\n",
              "      <th>conviction</th>\n",
              "    </tr>\n",
              "  </thead>\n",
              "  <tbody>\n",
              "    <tr>\n",
              "      <th>0</th>\n",
              "      <td>(0_Marital)</td>\n",
              "      <td>(1_PC1)</td>\n",
              "      <td>0.580037</td>\n",
              "      <td>0.905958</td>\n",
              "      <td>0.527245</td>\n",
              "      <td>0.908984</td>\n",
              "      <td>1.003340</td>\n",
              "      <td>0.001755</td>\n",
              "      <td>1.033250</td>\n",
              "    </tr>\n",
              "    <tr>\n",
              "      <th>1</th>\n",
              "      <td>(1_PC1)</td>\n",
              "      <td>(0_Marital)</td>\n",
              "      <td>0.905958</td>\n",
              "      <td>0.580037</td>\n",
              "      <td>0.527245</td>\n",
              "      <td>0.581975</td>\n",
              "      <td>1.003340</td>\n",
              "      <td>0.001755</td>\n",
              "      <td>1.004635</td>\n",
              "    </tr>\n",
              "    <tr>\n",
              "      <th>2</th>\n",
              "      <td>(2_PC1)</td>\n",
              "      <td>(1_PC1)</td>\n",
              "      <td>0.536581</td>\n",
              "      <td>0.905958</td>\n",
              "      <td>0.516551</td>\n",
              "      <td>0.962670</td>\n",
              "      <td>1.062599</td>\n",
              "      <td>0.030430</td>\n",
              "      <td>2.519203</td>\n",
              "    </tr>\n",
              "    <tr>\n",
              "      <th>3</th>\n",
              "      <td>(1_PC1)</td>\n",
              "      <td>(2_PC1)</td>\n",
              "      <td>0.905958</td>\n",
              "      <td>0.536581</td>\n",
              "      <td>0.516551</td>\n",
              "      <td>0.570171</td>\n",
              "      <td>1.062599</td>\n",
              "      <td>0.030430</td>\n",
              "      <td>1.078146</td>\n",
              "    </tr>\n",
              "    <tr>\n",
              "      <th>4</th>\n",
              "      <td>(5_PC1)</td>\n",
              "      <td>(1_PC1)</td>\n",
              "      <td>0.852996</td>\n",
              "      <td>0.905958</td>\n",
              "      <td>0.781531</td>\n",
              "      <td>0.916219</td>\n",
              "      <td>1.011326</td>\n",
              "      <td>0.008752</td>\n",
              "      <td>1.122470</td>\n",
              "    </tr>\n",
              "    <tr>\n",
              "      <th>...</th>\n",
              "      <td>...</td>\n",
              "      <td>...</td>\n",
              "      <td>...</td>\n",
              "      <td>...</td>\n",
              "      <td>...</td>\n",
              "      <td>...</td>\n",
              "      <td>...</td>\n",
              "      <td>...</td>\n",
              "      <td>...</td>\n",
              "    </tr>\n",
              "    <tr>\n",
              "      <th>1265</th>\n",
              "      <td>(14_PC2)</td>\n",
              "      <td>(16_PC2, 8_PC2, 5_PC1, 1_PC1)</td>\n",
              "      <td>0.757936</td>\n",
              "      <td>0.567306</td>\n",
              "      <td>0.503819</td>\n",
              "      <td>0.664726</td>\n",
              "      <td>1.171723</td>\n",
              "      <td>0.073838</td>\n",
              "      <td>1.290567</td>\n",
              "    </tr>\n",
              "    <tr>\n",
              "      <th>1266</th>\n",
              "      <td>(1_PC1)</td>\n",
              "      <td>(16_PC2, 14_PC2, 8_PC2, 5_PC1)</td>\n",
              "      <td>0.905958</td>\n",
              "      <td>0.516551</td>\n",
              "      <td>0.503819</td>\n",
              "      <td>0.556118</td>\n",
              "      <td>1.076598</td>\n",
              "      <td>0.035846</td>\n",
              "      <td>1.089138</td>\n",
              "    </tr>\n",
              "    <tr>\n",
              "      <th>1267</th>\n",
              "      <td>(16_PC2)</td>\n",
              "      <td>(14_PC2, 8_PC2, 5_PC1, 1_PC1)</td>\n",
              "      <td>0.723986</td>\n",
              "      <td>0.607707</td>\n",
              "      <td>0.503819</td>\n",
              "      <td>0.695897</td>\n",
              "      <td>1.145120</td>\n",
              "      <td>0.063848</td>\n",
              "      <td>1.290001</td>\n",
              "    </tr>\n",
              "    <tr>\n",
              "      <th>1268</th>\n",
              "      <td>(8_PC2)</td>\n",
              "      <td>(16_PC2, 14_PC2, 5_PC1, 1_PC1)</td>\n",
              "      <td>0.830929</td>\n",
              "      <td>0.533186</td>\n",
              "      <td>0.503819</td>\n",
              "      <td>0.606333</td>\n",
              "      <td>1.137188</td>\n",
              "      <td>0.060780</td>\n",
              "      <td>1.185809</td>\n",
              "    </tr>\n",
              "    <tr>\n",
              "      <th>1269</th>\n",
              "      <td>(5_PC1)</td>\n",
              "      <td>(16_PC2, 14_PC2, 8_PC2, 1_PC1)</td>\n",
              "      <td>0.852996</td>\n",
              "      <td>0.525378</td>\n",
              "      <td>0.503819</td>\n",
              "      <td>0.590647</td>\n",
              "      <td>1.124233</td>\n",
              "      <td>0.055674</td>\n",
              "      <td>1.159444</td>\n",
              "    </tr>\n",
              "  </tbody>\n",
              "</table>\n",
              "<p>1270 rows × 9 columns</p>\n",
              "</div>\n",
              "      <button class=\"colab-df-convert\" onclick=\"convertToInteractive('df-d1db3982-c13f-4dfa-8ee0-d5910d5080b1')\"\n",
              "              title=\"Convert this dataframe to an interactive table.\"\n",
              "              style=\"display:none;\">\n",
              "        \n",
              "  <svg xmlns=\"http://www.w3.org/2000/svg\" height=\"24px\"viewBox=\"0 0 24 24\"\n",
              "       width=\"24px\">\n",
              "    <path d=\"M0 0h24v24H0V0z\" fill=\"none\"/>\n",
              "    <path d=\"M18.56 5.44l.94 2.06.94-2.06 2.06-.94-2.06-.94-.94-2.06-.94 2.06-2.06.94zm-11 1L8.5 8.5l.94-2.06 2.06-.94-2.06-.94L8.5 2.5l-.94 2.06-2.06.94zm10 10l.94 2.06.94-2.06 2.06-.94-2.06-.94-.94-2.06-.94 2.06-2.06.94z\"/><path d=\"M17.41 7.96l-1.37-1.37c-.4-.4-.92-.59-1.43-.59-.52 0-1.04.2-1.43.59L10.3 9.45l-7.72 7.72c-.78.78-.78 2.05 0 2.83L4 21.41c.39.39.9.59 1.41.59.51 0 1.02-.2 1.41-.59l7.78-7.78 2.81-2.81c.8-.78.8-2.07 0-2.86zM5.41 20L4 18.59l7.72-7.72 1.47 1.35L5.41 20z\"/>\n",
              "  </svg>\n",
              "      </button>\n",
              "      \n",
              "  <style>\n",
              "    .colab-df-container {\n",
              "      display:flex;\n",
              "      flex-wrap:wrap;\n",
              "      gap: 12px;\n",
              "    }\n",
              "\n",
              "    .colab-df-convert {\n",
              "      background-color: #E8F0FE;\n",
              "      border: none;\n",
              "      border-radius: 50%;\n",
              "      cursor: pointer;\n",
              "      display: none;\n",
              "      fill: #1967D2;\n",
              "      height: 32px;\n",
              "      padding: 0 0 0 0;\n",
              "      width: 32px;\n",
              "    }\n",
              "\n",
              "    .colab-df-convert:hover {\n",
              "      background-color: #E2EBFA;\n",
              "      box-shadow: 0px 1px 2px rgba(60, 64, 67, 0.3), 0px 1px 3px 1px rgba(60, 64, 67, 0.15);\n",
              "      fill: #174EA6;\n",
              "    }\n",
              "\n",
              "    [theme=dark] .colab-df-convert {\n",
              "      background-color: #3B4455;\n",
              "      fill: #D2E3FC;\n",
              "    }\n",
              "\n",
              "    [theme=dark] .colab-df-convert:hover {\n",
              "      background-color: #434B5C;\n",
              "      box-shadow: 0px 1px 3px 1px rgba(0, 0, 0, 0.15);\n",
              "      filter: drop-shadow(0px 1px 2px rgba(0, 0, 0, 0.3));\n",
              "      fill: #FFFFFF;\n",
              "    }\n",
              "  </style>\n",
              "\n",
              "      <script>\n",
              "        const buttonEl =\n",
              "          document.querySelector('#df-d1db3982-c13f-4dfa-8ee0-d5910d5080b1 button.colab-df-convert');\n",
              "        buttonEl.style.display =\n",
              "          google.colab.kernel.accessAllowed ? 'block' : 'none';\n",
              "\n",
              "        async function convertToInteractive(key) {\n",
              "          const element = document.querySelector('#df-d1db3982-c13f-4dfa-8ee0-d5910d5080b1');\n",
              "          const dataTable =\n",
              "            await google.colab.kernel.invokeFunction('convertToInteractive',\n",
              "                                                     [key], {});\n",
              "          if (!dataTable) return;\n",
              "\n",
              "          const docLinkHtml = 'Like what you see? Visit the ' +\n",
              "            '<a target=\"_blank\" href=https://colab.research.google.com/notebooks/data_table.ipynb>data table notebook</a>'\n",
              "            + ' to learn more about interactive tables.';\n",
              "          element.innerHTML = '';\n",
              "          dataTable['output_type'] = 'display_data';\n",
              "          await google.colab.output.renderOutput(dataTable, element);\n",
              "          const docLink = document.createElement('div');\n",
              "          docLink.innerHTML = docLinkHtml;\n",
              "          element.appendChild(docLink);\n",
              "        }\n",
              "      </script>\n",
              "    </div>\n",
              "  </div>\n",
              "  "
            ]
          },
          "metadata": {},
          "execution_count": 33
        }
      ]
    },
    {
      "cell_type": "markdown",
      "source": [
        "Ahora mostramos aquellas reglas que sean de alta confianza. El criterio para ello es que el umbral mínimo sea de 0.95, es decir, la implicación del antecedente, tiende a la ocurrencia del consecuente.\n",
        "Además, modificando el umbral mínimo, se van a devolver todas las reglas que cumplan con dicha confianza."
      ],
      "metadata": {
        "id": "20UqDuNA5qR0"
      },
      "id": "20UqDuNA5qR0"
    },
    {
      "cell_type": "code",
      "source": [
        "rulesaltaconfianza = association_rules(frequent_itemsets, metric='confidence', min_threshold=0.95)\n",
        "rulesaltaconfianza"
      ],
      "metadata": {
        "colab": {
          "base_uri": "https://localhost:8080/",
          "height": 424
        },
        "id": "hZ8Ym0HXH6G4",
        "outputId": "c00f7914-2ec1-47ed-950c-fa79a6f6554a"
      },
      "id": "hZ8Ym0HXH6G4",
      "execution_count": 34,
      "outputs": [
        {
          "output_type": "execute_result",
          "data": {
            "text/plain": [
              "                       antecedents     consequents  antecedent support  \\\n",
              "0                          (2_PC1)         (1_PC1)            0.536581   \n",
              "1                          (2_PC2)         (1_PC1)            0.729588   \n",
              "2                          (4_PC2)         (1_PC1)            0.527075   \n",
              "3                          (5_PC2)         (1_PC1)            0.592938   \n",
              "4                          (6_PC2)         (1_PC1)            0.516890   \n",
              "..                             ...             ...                 ...   \n",
              "87   (14_PC2, 2_PC2, 8_PC2, 1_PC1)         (5_PC1)            0.537430   \n",
              "88   (14_PC2, 2_PC2, 8_PC2, 5_PC1)         (1_PC1)            0.518757   \n",
              "89          (14_PC2, 2_PC2, 8_PC2)  (5_PC1, 1_PC1)            0.537430   \n",
              "90  (16_PC2, 14_PC2, 8_PC2, 1_PC1)         (5_PC1)            0.525378   \n",
              "91  (16_PC2, 14_PC2, 8_PC2, 5_PC1)         (1_PC1)            0.516551   \n",
              "\n",
              "    consequent support   support  confidence      lift  leverage  conviction  \n",
              "0             0.905958  0.516551    0.962670  1.062599  0.030430    2.519203  \n",
              "1             0.905958  0.729588    1.000000  1.103804  0.068612         inf  \n",
              "2             0.905958  0.500934    0.950403  1.049058  0.023426    1.896102  \n",
              "3             0.905958  0.571550    0.963928  1.063987  0.034372    2.607047  \n",
              "4             0.905958  0.502971    0.973071  1.074079  0.034690    3.492160  \n",
              "..                 ...       ...         ...       ...       ...         ...  \n",
              "87            0.852996  0.518757    0.965256  1.131606  0.060332    4.231040  \n",
              "88            0.905958  0.518757    1.000000  1.103804  0.048785         inf  \n",
              "89            0.781531  0.518757    0.965256  1.235083  0.098739    6.287931  \n",
              "90            0.852996  0.503819    0.958966  1.124233  0.055674    3.582497  \n",
              "91            0.905958  0.503819    0.975353  1.076598  0.035846    3.815588  \n",
              "\n",
              "[92 rows x 9 columns]"
            ],
            "text/html": [
              "\n",
              "  <div id=\"df-b1c18ce5-ff06-41b3-871d-0bb03442d1fb\">\n",
              "    <div class=\"colab-df-container\">\n",
              "      <div>\n",
              "<style scoped>\n",
              "    .dataframe tbody tr th:only-of-type {\n",
              "        vertical-align: middle;\n",
              "    }\n",
              "\n",
              "    .dataframe tbody tr th {\n",
              "        vertical-align: top;\n",
              "    }\n",
              "\n",
              "    .dataframe thead th {\n",
              "        text-align: right;\n",
              "    }\n",
              "</style>\n",
              "<table border=\"1\" class=\"dataframe\">\n",
              "  <thead>\n",
              "    <tr style=\"text-align: right;\">\n",
              "      <th></th>\n",
              "      <th>antecedents</th>\n",
              "      <th>consequents</th>\n",
              "      <th>antecedent support</th>\n",
              "      <th>consequent support</th>\n",
              "      <th>support</th>\n",
              "      <th>confidence</th>\n",
              "      <th>lift</th>\n",
              "      <th>leverage</th>\n",
              "      <th>conviction</th>\n",
              "    </tr>\n",
              "  </thead>\n",
              "  <tbody>\n",
              "    <tr>\n",
              "      <th>0</th>\n",
              "      <td>(2_PC1)</td>\n",
              "      <td>(1_PC1)</td>\n",
              "      <td>0.536581</td>\n",
              "      <td>0.905958</td>\n",
              "      <td>0.516551</td>\n",
              "      <td>0.962670</td>\n",
              "      <td>1.062599</td>\n",
              "      <td>0.030430</td>\n",
              "      <td>2.519203</td>\n",
              "    </tr>\n",
              "    <tr>\n",
              "      <th>1</th>\n",
              "      <td>(2_PC2)</td>\n",
              "      <td>(1_PC1)</td>\n",
              "      <td>0.729588</td>\n",
              "      <td>0.905958</td>\n",
              "      <td>0.729588</td>\n",
              "      <td>1.000000</td>\n",
              "      <td>1.103804</td>\n",
              "      <td>0.068612</td>\n",
              "      <td>inf</td>\n",
              "    </tr>\n",
              "    <tr>\n",
              "      <th>2</th>\n",
              "      <td>(4_PC2)</td>\n",
              "      <td>(1_PC1)</td>\n",
              "      <td>0.527075</td>\n",
              "      <td>0.905958</td>\n",
              "      <td>0.500934</td>\n",
              "      <td>0.950403</td>\n",
              "      <td>1.049058</td>\n",
              "      <td>0.023426</td>\n",
              "      <td>1.896102</td>\n",
              "    </tr>\n",
              "    <tr>\n",
              "      <th>3</th>\n",
              "      <td>(5_PC2)</td>\n",
              "      <td>(1_PC1)</td>\n",
              "      <td>0.592938</td>\n",
              "      <td>0.905958</td>\n",
              "      <td>0.571550</td>\n",
              "      <td>0.963928</td>\n",
              "      <td>1.063987</td>\n",
              "      <td>0.034372</td>\n",
              "      <td>2.607047</td>\n",
              "    </tr>\n",
              "    <tr>\n",
              "      <th>4</th>\n",
              "      <td>(6_PC2)</td>\n",
              "      <td>(1_PC1)</td>\n",
              "      <td>0.516890</td>\n",
              "      <td>0.905958</td>\n",
              "      <td>0.502971</td>\n",
              "      <td>0.973071</td>\n",
              "      <td>1.074079</td>\n",
              "      <td>0.034690</td>\n",
              "      <td>3.492160</td>\n",
              "    </tr>\n",
              "    <tr>\n",
              "      <th>...</th>\n",
              "      <td>...</td>\n",
              "      <td>...</td>\n",
              "      <td>...</td>\n",
              "      <td>...</td>\n",
              "      <td>...</td>\n",
              "      <td>...</td>\n",
              "      <td>...</td>\n",
              "      <td>...</td>\n",
              "      <td>...</td>\n",
              "    </tr>\n",
              "    <tr>\n",
              "      <th>87</th>\n",
              "      <td>(14_PC2, 2_PC2, 8_PC2, 1_PC1)</td>\n",
              "      <td>(5_PC1)</td>\n",
              "      <td>0.537430</td>\n",
              "      <td>0.852996</td>\n",
              "      <td>0.518757</td>\n",
              "      <td>0.965256</td>\n",
              "      <td>1.131606</td>\n",
              "      <td>0.060332</td>\n",
              "      <td>4.231040</td>\n",
              "    </tr>\n",
              "    <tr>\n",
              "      <th>88</th>\n",
              "      <td>(14_PC2, 2_PC2, 8_PC2, 5_PC1)</td>\n",
              "      <td>(1_PC1)</td>\n",
              "      <td>0.518757</td>\n",
              "      <td>0.905958</td>\n",
              "      <td>0.518757</td>\n",
              "      <td>1.000000</td>\n",
              "      <td>1.103804</td>\n",
              "      <td>0.048785</td>\n",
              "      <td>inf</td>\n",
              "    </tr>\n",
              "    <tr>\n",
              "      <th>89</th>\n",
              "      <td>(14_PC2, 2_PC2, 8_PC2)</td>\n",
              "      <td>(5_PC1, 1_PC1)</td>\n",
              "      <td>0.537430</td>\n",
              "      <td>0.781531</td>\n",
              "      <td>0.518757</td>\n",
              "      <td>0.965256</td>\n",
              "      <td>1.235083</td>\n",
              "      <td>0.098739</td>\n",
              "      <td>6.287931</td>\n",
              "    </tr>\n",
              "    <tr>\n",
              "      <th>90</th>\n",
              "      <td>(16_PC2, 14_PC2, 8_PC2, 1_PC1)</td>\n",
              "      <td>(5_PC1)</td>\n",
              "      <td>0.525378</td>\n",
              "      <td>0.852996</td>\n",
              "      <td>0.503819</td>\n",
              "      <td>0.958966</td>\n",
              "      <td>1.124233</td>\n",
              "      <td>0.055674</td>\n",
              "      <td>3.582497</td>\n",
              "    </tr>\n",
              "    <tr>\n",
              "      <th>91</th>\n",
              "      <td>(16_PC2, 14_PC2, 8_PC2, 5_PC1)</td>\n",
              "      <td>(1_PC1)</td>\n",
              "      <td>0.516551</td>\n",
              "      <td>0.905958</td>\n",
              "      <td>0.503819</td>\n",
              "      <td>0.975353</td>\n",
              "      <td>1.076598</td>\n",
              "      <td>0.035846</td>\n",
              "      <td>3.815588</td>\n",
              "    </tr>\n",
              "  </tbody>\n",
              "</table>\n",
              "<p>92 rows × 9 columns</p>\n",
              "</div>\n",
              "      <button class=\"colab-df-convert\" onclick=\"convertToInteractive('df-b1c18ce5-ff06-41b3-871d-0bb03442d1fb')\"\n",
              "              title=\"Convert this dataframe to an interactive table.\"\n",
              "              style=\"display:none;\">\n",
              "        \n",
              "  <svg xmlns=\"http://www.w3.org/2000/svg\" height=\"24px\"viewBox=\"0 0 24 24\"\n",
              "       width=\"24px\">\n",
              "    <path d=\"M0 0h24v24H0V0z\" fill=\"none\"/>\n",
              "    <path d=\"M18.56 5.44l.94 2.06.94-2.06 2.06-.94-2.06-.94-.94-2.06-.94 2.06-2.06.94zm-11 1L8.5 8.5l.94-2.06 2.06-.94-2.06-.94L8.5 2.5l-.94 2.06-2.06.94zm10 10l.94 2.06.94-2.06 2.06-.94-2.06-.94-.94-2.06-.94 2.06-2.06.94z\"/><path d=\"M17.41 7.96l-1.37-1.37c-.4-.4-.92-.59-1.43-.59-.52 0-1.04.2-1.43.59L10.3 9.45l-7.72 7.72c-.78.78-.78 2.05 0 2.83L4 21.41c.39.39.9.59 1.41.59.51 0 1.02-.2 1.41-.59l7.78-7.78 2.81-2.81c.8-.78.8-2.07 0-2.86zM5.41 20L4 18.59l7.72-7.72 1.47 1.35L5.41 20z\"/>\n",
              "  </svg>\n",
              "      </button>\n",
              "      \n",
              "  <style>\n",
              "    .colab-df-container {\n",
              "      display:flex;\n",
              "      flex-wrap:wrap;\n",
              "      gap: 12px;\n",
              "    }\n",
              "\n",
              "    .colab-df-convert {\n",
              "      background-color: #E8F0FE;\n",
              "      border: none;\n",
              "      border-radius: 50%;\n",
              "      cursor: pointer;\n",
              "      display: none;\n",
              "      fill: #1967D2;\n",
              "      height: 32px;\n",
              "      padding: 0 0 0 0;\n",
              "      width: 32px;\n",
              "    }\n",
              "\n",
              "    .colab-df-convert:hover {\n",
              "      background-color: #E2EBFA;\n",
              "      box-shadow: 0px 1px 2px rgba(60, 64, 67, 0.3), 0px 1px 3px 1px rgba(60, 64, 67, 0.15);\n",
              "      fill: #174EA6;\n",
              "    }\n",
              "\n",
              "    [theme=dark] .colab-df-convert {\n",
              "      background-color: #3B4455;\n",
              "      fill: #D2E3FC;\n",
              "    }\n",
              "\n",
              "    [theme=dark] .colab-df-convert:hover {\n",
              "      background-color: #434B5C;\n",
              "      box-shadow: 0px 1px 3px 1px rgba(0, 0, 0, 0.15);\n",
              "      filter: drop-shadow(0px 1px 2px rgba(0, 0, 0, 0.3));\n",
              "      fill: #FFFFFF;\n",
              "    }\n",
              "  </style>\n",
              "\n",
              "      <script>\n",
              "        const buttonEl =\n",
              "          document.querySelector('#df-b1c18ce5-ff06-41b3-871d-0bb03442d1fb button.colab-df-convert');\n",
              "        buttonEl.style.display =\n",
              "          google.colab.kernel.accessAllowed ? 'block' : 'none';\n",
              "\n",
              "        async function convertToInteractive(key) {\n",
              "          const element = document.querySelector('#df-b1c18ce5-ff06-41b3-871d-0bb03442d1fb');\n",
              "          const dataTable =\n",
              "            await google.colab.kernel.invokeFunction('convertToInteractive',\n",
              "                                                     [key], {});\n",
              "          if (!dataTable) return;\n",
              "\n",
              "          const docLinkHtml = 'Like what you see? Visit the ' +\n",
              "            '<a target=\"_blank\" href=https://colab.research.google.com/notebooks/data_table.ipynb>data table notebook</a>'\n",
              "            + ' to learn more about interactive tables.';\n",
              "          element.innerHTML = '';\n",
              "          dataTable['output_type'] = 'display_data';\n",
              "          await google.colab.output.renderOutput(dataTable, element);\n",
              "          const docLink = document.createElement('div');\n",
              "          docLink.innerHTML = docLinkHtml;\n",
              "          element.appendChild(docLink);\n",
              "        }\n",
              "      </script>\n",
              "    </div>\n",
              "  </div>\n",
              "  "
            ]
          },
          "metadata": {},
          "execution_count": 34
        }
      ]
    },
    {
      "cell_type": "markdown",
      "source": [
        "Dado un antecedente, se desea que se muestren todas las reglas que lo contengan. Pongamonos en el suceso de que queremos hacer una comparación de sexo, para ello imprimimos todas aquellas reglas cuyo antecedente, contenga sexo masculino, y luego femenino."
      ],
      "metadata": {
        "id": "tnOykqoZ6ouV"
      },
      "id": "tnOykqoZ6ouV"
    },
    {
      "cell_type": "code",
      "source": [
        "print(rules[rules['antecedents'].apply(lambda x: 'M' in x)])\n"
      ],
      "metadata": {
        "id": "ju9vYorMA3IV",
        "outputId": "a2dd0e08-cf89-45e9-d727-281144cdbd73",
        "colab": {
          "base_uri": "https://localhost:8080/"
        }
      },
      "id": "ju9vYorMA3IV",
      "execution_count": 35,
      "outputs": [
        {
          "output_type": "stream",
          "name": "stdout",
          "text": [
            "           antecedents            consequents  antecedent support  \\\n",
            "34                 (M)                (1_PC1)            0.717196   \n",
            "59                 (M)                (5_PC1)            0.717196   \n",
            "73                 (M)                (8_PC1)            0.717196   \n",
            "89                 (M)                (2_PC2)            0.717196   \n",
            "109                (M)                (8_PC2)            0.717196   \n",
            "117                (M)               (14_PC2)            0.717196   \n",
            "122                (M)               (15_PC2)            0.717196   \n",
            "127                (M)               (16_PC2)            0.717196   \n",
            "128                (M)               (16_PC3)            0.717196   \n",
            "184         (M, 5_PC1)                (1_PC1)            0.608216   \n",
            "186         (M, 1_PC1)                (5_PC1)            0.663724   \n",
            "188                (M)         (5_PC1, 1_PC1)            0.717196   \n",
            "226         (8_PC1, M)                (1_PC1)            0.550331   \n",
            "228         (M, 1_PC1)                (8_PC1)            0.663724   \n",
            "230                (M)         (8_PC1, 1_PC1)            0.717196   \n",
            "274         (2_PC2, M)                (1_PC1)            0.551859   \n",
            "276         (M, 1_PC1)                (2_PC2)            0.663724   \n",
            "278                (M)         (2_PC2, 1_PC1)            0.717196   \n",
            "316         (8_PC2, M)                (1_PC1)            0.596673   \n",
            "318         (M, 1_PC1)                (8_PC2)            0.663724   \n",
            "320                (M)         (8_PC2, 1_PC1)            0.717196   \n",
            "358        (16_PC2, M)                (1_PC1)            0.539127   \n",
            "360         (M, 1_PC1)               (16_PC2)            0.663724   \n",
            "362                (M)        (16_PC2, 1_PC1)            0.717196   \n",
            "461         (M, 5_PC1)                (8_PC2)            0.608216   \n",
            "462         (8_PC2, M)                (5_PC1)            0.596673   \n",
            "465                (M)         (8_PC2, 5_PC1)            0.717196   \n",
            "784  (M, 8_PC2, 5_PC1)                (1_PC1)            0.539976   \n",
            "786  (M, 5_PC1, 1_PC1)                (8_PC2)            0.569683   \n",
            "787  (8_PC2, M, 1_PC1)                (5_PC1)            0.565948   \n",
            "789         (M, 5_PC1)         (8_PC2, 1_PC1)            0.608216   \n",
            "791         (8_PC2, M)         (5_PC1, 1_PC1)            0.596673   \n",
            "793         (M, 1_PC1)         (8_PC2, 5_PC1)            0.663724   \n",
            "796                (M)  (8_PC2, 5_PC1, 1_PC1)            0.717196   \n",
            "\n",
            "     consequent support   support  confidence      lift  leverage  conviction  \n",
            "34             0.905958  0.663724    0.925444  1.021508  0.013975    1.261354  \n",
            "59             0.852996  0.608216    0.848047  0.994198 -0.003549    0.967432  \n",
            "73             0.767951  0.550331    0.767337  0.999201 -0.000440    0.997362  \n",
            "89             0.729588  0.551859    0.769467  1.054661  0.028602    1.172991  \n",
            "109            0.830929  0.596673    0.831953  1.001233  0.000734    1.006094  \n",
            "117            0.757936  0.527924    0.736095  0.971183 -0.015664    0.917239  \n",
            "122            0.656765  0.505177    0.704379  1.072498  0.034149    1.161065  \n",
            "127            0.723986  0.539127    0.751716  1.038302  0.019888    1.111688  \n",
            "128            0.670175  0.503650    0.702249  1.047859  0.023003    1.107720  \n",
            "184            0.905958  0.569683    0.936645  1.033872  0.018664    1.484368  \n",
            "186            0.852996  0.569683    0.858312  1.006232  0.003528    1.037519  \n",
            "188            0.781531  0.569683    0.794320  1.016363  0.009172    1.062176  \n",
            "226            0.905958  0.518418    0.942011  1.039795  0.019841    1.621720  \n",
            "228            0.767951  0.518418    0.781074  1.017088  0.008710    1.059943  \n",
            "230            0.711254  0.518418    0.722840  1.016289  0.008309    1.041802  \n",
            "274            0.905958  0.551859    1.000000  1.103804  0.051898         inf  \n",
            "276            0.729588  0.551859    0.831458  1.139627  0.067614    1.604420  \n",
            "278            0.729588  0.551859    0.769467  1.054661  0.028602    1.172991  \n",
            "316            0.905958  0.565948    0.948506  1.046965  0.025387    1.826281  \n",
            "318            0.830929  0.565948    0.852685  1.026184  0.014441    1.147690  \n",
            "320            0.773892  0.565948    0.789112  1.019667  0.010916    1.072171  \n",
            "358            0.905958  0.518927    0.962531  1.062446  0.030500    2.509888  \n",
            "360            0.723986  0.518927    0.781841  1.079913  0.038400    1.265200  \n",
            "362            0.688678  0.518927    0.723550  1.050637  0.025011    1.126145  \n",
            "461            0.830929  0.539976    0.887804  1.068448  0.034592    1.506923  \n",
            "462            0.852996  0.539976    0.904979  1.060941  0.031017    1.547062  \n",
            "465            0.756748  0.539976    0.752899  0.994915 -0.002760    0.984427  \n",
            "784            0.905958  0.513835    0.951588  1.050366  0.024639    1.942512  \n",
            "786            0.830929  0.513835    0.901967  1.085492  0.040469    1.724632  \n",
            "787            0.852996  0.513835    0.907918  1.064388  0.031083    1.596453  \n",
            "789            0.773892  0.513835    0.844823  1.091654  0.043141    1.457093  \n",
            "791            0.781531  0.513835    0.861166  1.101896  0.047516    1.573602  \n",
            "793            0.756748  0.513835    0.774169  1.023021  0.011563    1.077143  \n",
            "796            0.705653  0.513835    0.716450  1.015301  0.007744    1.038078  \n"
          ]
        }
      ]
    },
    {
      "cell_type": "markdown",
      "source": [
        "Ahora imprimimos aquellas de sexo femenino: "
      ],
      "metadata": {
        "id": "fAiDC7cA7vhQ"
      },
      "id": "fAiDC7cA7vhQ"
    },
    {
      "cell_type": "code",
      "source": [
        "print(rules[rules['antecedents'].apply(lambda x: 'F' in x)])"
      ],
      "metadata": {
        "id": "5Z8WX3vY7sTS",
        "outputId": "d17574e9-de9a-439f-c56d-0f0e5bcea6bb",
        "colab": {
          "base_uri": "https://localhost:8080/"
        }
      },
      "id": "5Z8WX3vY7sTS",
      "execution_count": 36,
      "outputs": [
        {
          "output_type": "stream",
          "name": "stdout",
          "text": [
            "Empty DataFrame\n",
            "Columns: [antecedents, consequents, antecedent support, consequent support, support, confidence, lift, leverage, conviction]\n",
            "Index: []\n"
          ]
        }
      ]
    },
    {
      "cell_type": "markdown",
      "source": [
        "Para un soporte de 0.5 encontramos que no hay ninguna regla de asociación que incluya en el antecedente mujeres. De aquí se puede concluir que la información recolectada en esta base de datos se ve mayormente influida por hombres que por mujeres, es decir, se ha recolectado una gran cantidad de información mayor de hombres. En el caso de que esta base de datos sea aleatoria y no se encuentre sesgada, se deduce que el día de black friday, en este comercio, acuden más hombres que mujeres. "
      ],
      "metadata": {
        "id": "bIU1Bfps73kA"
      },
      "id": "bIU1Bfps73kA"
    },
    {
      "cell_type": "markdown",
      "source": [
        "Ahora procedemos a representar gráficamente las reglas obtenidas. "
      ],
      "metadata": {
        "id": "RD1m1FJ3d2ZK"
      },
      "id": "RD1m1FJ3d2ZK"
    },
    {
      "cell_type": "markdown",
      "source": [
        "Representamos lift contra soporte: "
      ],
      "metadata": {
        "id": "E4XETRaCtNx2"
      },
      "id": "E4XETRaCtNx2"
    },
    {
      "cell_type": "code",
      "source": [
        "plt.scatter(rules['lift'], rules['support'])\n",
        "plt.xlabel('lift')\n",
        "plt.ylabel('support')\n",
        "plt.show()"
      ],
      "metadata": {
        "colab": {
          "base_uri": "https://localhost:8080/",
          "height": 279
        },
        "id": "JRjaFGMJRQ-h",
        "outputId": "5663769d-db7e-4dc3-9820-b0b859d02b9b"
      },
      "id": "JRjaFGMJRQ-h",
      "execution_count": 37,
      "outputs": [
        {
          "output_type": "display_data",
          "data": {
            "text/plain": [
              "<Figure size 432x288 with 1 Axes>"
            ],
            "image/png": "[encoded data removed]"
          },
          "metadata": {
            "needs_background": "light"
          }
        }
      ]
    },
    {
      "cell_type": "markdown",
      "source": [
        "Efectivamente, no hay ninguna relación lineal entre el lift y el soporte. Lo que sí que se puede observar es que hay reglas que mientras tienen un soporte muy alto, el valor de lift es considerablemente bajo. Es decir, un conjunto de itemsets frecuentes con un umbral soporte aceptable, pero el lift a la hora de la creación de las reglas indica que son negativamente correlados. "
      ],
      "metadata": {
        "id": "-RYly6uktWKI"
      },
      "id": "-RYly6uktWKI"
    },
    {
      "cell_type": "markdown",
      "source": [
        "Observemos la confianza frente al soporte: "
      ],
      "metadata": {
        "id": "rmaPLDMzsVgu"
      },
      "id": "rmaPLDMzsVgu"
    },
    {
      "cell_type": "code",
      "source": [
        "plt.scatter(rules['confidence'], rules['support'])\n",
        "plt.xlabel('confidence')\n",
        "plt.ylabel('support')\n",
        "plt.show()"
      ],
      "metadata": {
        "id": "J56eWxMBRkzg",
        "colab": {
          "base_uri": "https://localhost:8080/",
          "height": 279
        },
        "outputId": "a00bbf32-b79a-4591-ad65-ba9053f4a653"
      },
      "id": "J56eWxMBRkzg",
      "execution_count": 38,
      "outputs": [
        {
          "output_type": "display_data",
          "data": {
            "text/plain": [
              "<Figure size 432x288 with 1 Axes>"
            ],
            "image/png": "[encoded data removed]"
          },
          "metadata": {
            "needs_background": "light"
          }
        }
      ]
    },
    {
      "cell_type": "markdown",
      "source": [
        "Es lógico que tenga esta forma, ya que la confianza se calcula como: \n",
        "\n",
        "\n",
        "![image.png](data:image/png;base64,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)"
      ],
      "metadata": {
        "id": "4RU8O4RxsZnd"
      },
      "id": "4RU8O4RxsZnd"
    },
    {
      "cell_type": "markdown",
      "source": [
        "Mientras que el soporte es: Frecuencia de un conjunto entre el total de\n",
        "transacciones. \n",
        "\n",
        "Por lo que a medida que aumenta la frecuencia de aparición de los itemsets del denominador, mayor será el valor de la confianza. "
      ],
      "metadata": {
        "id": "s05Qk2jYstBX"
      },
      "id": "s05Qk2jYstBX"
    },
    {
      "cell_type": "markdown",
      "source": [
        "Veamos ahora mediante otro diagrama de dispersión distintos criterios para clasificar si una regla es considerada como buena o mala. "
      ],
      "metadata": {
        "id": "DwWiHp5iuN2P"
      },
      "id": "DwWiHp5iuN2P"
    },
    {
      "cell_type": "code",
      "source": [
        "plt.scatter(rules['lift'], rules['confidence'])\n",
        "plt.xlabel('lift')\n",
        "plt.ylabel('confidence')\n",
        "plt.show()"
      ],
      "metadata": {
        "colab": {
          "base_uri": "https://localhost:8080/",
          "height": 279
        },
        "id": "9PncNYINnJZn",
        "outputId": "ba666438-fb18-4f3c-9d81-56afca2a5628"
      },
      "id": "9PncNYINnJZn",
      "execution_count": 39,
      "outputs": [
        {
          "output_type": "display_data",
          "data": {
            "text/plain": [
              "<Figure size 432x288 with 1 Axes>"
            ],
            "image/png": "[encoded data removed]"
          },
          "metadata": {
            "needs_background": "light"
          }
        }
      ]
    },
    {
      "cell_type": "markdown",
      "source": [
        "En esta gráfica se puede observar un poco de todo, es decir, parece que sutilmente hay una correlación lineal entre ambas pero no perfecta, ya que hay reglas que según el criterio de lift son negativamente correladas, es decir, no nos dicen nada, mientras que la confianza es superior a 0.7, es decir, se podrían incluso interpretar como potencialmente buenas. Es por eso que es importante respaldarse en distintos criterios. Sin embargo, por lo general, a medida que aumenta el lift, aumenta la confianza. "
      ],
      "metadata": {
        "id": "9UXF20TZuyY5"
      },
      "id": "9UXF20TZuyY5"
    },
    {
      "cell_type": "markdown",
      "source": [
        "Ahora se quiere observar cómo varía la confianza de una regla a medida que va a aumentando la longitud de los antecedentes. Para ello debemos crear una nueva columna en la cual se guarde registro de la longitud. "
      ],
      "metadata": {
        "id": "oABraWw4okRF"
      },
      "id": "oABraWw4okRF"
    },
    {
      "cell_type": "code",
      "source": [
        "rules['length'] = rules['antecedents'].apply(lambda x: len(x))"
      ],
      "metadata": {
        "id": "TB5A3aQzmOiT"
      },
      "id": "TB5A3aQzmOiT",
      "execution_count": 40,
      "outputs": []
    },
    {
      "cell_type": "code",
      "source": [
        "plt.scatter(rules['length'], rules['confidence'] )\n",
        "plt.xlabel('length')\n",
        "plt.ylabel('confidence')\n",
        "plt.show()"
      ],
      "metadata": {
        "id": "dBnv8DMJRURx",
        "outputId": "87434150-5cc7-4981-b685-00591d16e23f",
        "colab": {
          "base_uri": "https://localhost:8080/",
          "height": 279
        }
      },
      "id": "dBnv8DMJRURx",
      "execution_count": 41,
      "outputs": [
        {
          "output_type": "display_data",
          "data": {
            "text/plain": [
              "<Figure size 432x288 with 1 Axes>"
            ],
            "image/png": "[encoded data removed]"
          },
          "metadata": {
            "needs_background": "light"
          }
        }
      ]
    },
    {
      "cell_type": "markdown",
      "source": [
        "Se puede observar cómo a medida que aumenta la longitud del antecedente de la regla, la confianza mínima aumenta. Esto se debe a que como bien hemos visto, la confianza se trata de: \n",
        "\n",
        "![image.png](data:image/png;base64,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)\n",
        "\n",
        "\n"
      ],
      "metadata": {
        "id": "e3iFMoUdsHYT"
      },
      "id": "e3iFMoUdsHYT"
    },
    {
      "cell_type": "markdown",
      "source": [
        "Por lo que se puede concluir que a medida que el denominador disminuye, significa que la longitud del antecedente es mayor, ya que la probabilidad de que aparezca un subconjunto de mayor longitud es menor, a que aparezca uno de longitud más pequeña. Es por eso que el valor de la confianza aumenta, a medida que la longitud del antecedente aumenta. "
      ],
      "metadata": {
        "id": "efpUOjvhvsef"
      },
      "id": "efpUOjvhvsef"
    },
    {
      "cell_type": "markdown",
      "source": [
        "##Preguntas \n"
      ],
      "metadata": {
        "id": "SntYc8LorRsJ"
      },
      "id": "SntYc8LorRsJ"
    },
    {
      "cell_type": "markdown",
      "source": [
        "### 1. Prueba al menos tres configuraciones de soporte y frecuencia para cada género, edad y tipo de producto."
      ],
      "metadata": {
        "id": "6KfI5hFSrbgo"
      },
      "id": "6KfI5hFSrbgo"
    },
    {
      "cell_type": "markdown",
      "source": [
        "Para satisfacer el objetivo, primero se debe crear la base de datos únicamente con los atributos de género, edad y tipo de producto. \n",
        "\n",
        "Para ello concatenamos cada uno de ellos en data1, que será la base de datos con la que se trabaje a lo largo de la práctica.\n",
        "\n",
        "Se pone en formato lista cada atributo que se quiere añadir, y se concatenan una detrás de otra."
      ],
      "metadata": {
        "id": "bwTRnABwgUfK"
      },
      "id": "bwTRnABwgUfK"
    },
    {
      "cell_type": "code",
      "source": [
        "\n",
        "Age_Range = df_Age.columns.values.tolist()\n",
        "PC1_Range = df_Product_Category_1.columns.values.tolist()\n",
        "PC2_Range = df_Product_Category_2.columns.values.tolist()\n",
        "PC3_Range = df_Product_Category_3.columns.values.tolist()\n",
        "Gender_Range = df_Gender.columns.values.tolist()\n",
        "Names_Range=[Age_Range, PC1_Range, PC2_Range, PC3_Range, Gender_Range] "
      ],
      "metadata": {
        "id": "OJoYzVrvrefU"
      },
      "id": "OJoYzVrvrefU",
      "execution_count": 42,
      "outputs": []
    },
    {
      "cell_type": "code",
      "source": [
        "data1 = pd.concat([df_Product_Category_1, df_Product_Category_2, df_Product_Category_3, df_Age, df_Gender], axis = 1)\n"
      ],
      "metadata": {
        "id": "xySNHmk_Sq4h"
      },
      "id": "xySNHmk_Sq4h",
      "execution_count": 43,
      "outputs": []
    },
    {
      "cell_type": "markdown",
      "source": [
        "Tal y como se dice, se prueban tres configuraciones diferentes para el soporte. Estos van a ser 0.4, 0.6 y 0.8. Obviamente se encontrarán más itemsets frecuentes en aquellos cuyo umbral sea mínimo, ya que más elementos satisfacen la condición. \n",
        "\n",
        "Guardamos en cada variable los itemsets frecuentes correspondientes a cada umbral. "
      ],
      "metadata": {
        "id": "Q5Pt_hI8g66q"
      },
      "id": "Q5Pt_hI8g66q"
    },
    {
      "cell_type": "code",
      "source": [
        "frequent_itemsets_40 = apriori(data1, min_support=0.4, use_colnames=True)\n",
        "frequent_itemsets_60 = apriori(data1, min_support=0.6, use_colnames=True)\n",
        "frequent_itemsets_80 = apriori(data1, min_support=0.8, use_colnames=True)"
      ],
      "metadata": {
        "id": "ZjsghPpmTbr6"
      },
      "id": "ZjsghPpmTbr6",
      "execution_count": 44,
      "outputs": []
    },
    {
      "cell_type": "markdown",
      "source": [
        "Según cómo se ha realizado tomando la base de datos original, se deben eliminar las categorías 0 que se había mencionado anteriormente así como relleno de NaN's, ya que esa información es inutil, y así ahorrar coste computacional "
      ],
      "metadata": {
        "id": "f7Eak9Lamju2"
      },
      "id": "f7Eak9Lamju2"
    },
    {
      "cell_type": "code",
      "source": [
        "frequents_with_zero_40=frequent_itemsets_40['itemsets'].apply(lambda x: '0_PC2' in x) |frequent_itemsets_40['itemsets'].apply(lambda x: '0_PC3' in x)\n",
        "frequent_itemsets_40 = frequent_itemsets_40.drop(frequent_itemsets_40[frequents_with_zero_40].index)\n",
        "frequents_with_zero_60=frequent_itemsets_60['itemsets'].apply(lambda x: '0_PC2' in x) |frequent_itemsets_60['itemsets'].apply(lambda x: '0_PC3' in x)\n",
        "frequent_itemsets_60 = frequent_itemsets_60.drop(frequent_itemsets_60[frequents_with_zero_60].index)\n",
        "frequents_with_zero_80=frequent_itemsets_80['itemsets'].apply(lambda x: '0_PC2' in x) |frequent_itemsets_80['itemsets'].apply(lambda x: '0_PC3' in x)\n",
        "frequent_itemsets_80 = frequent_itemsets_80.drop(frequent_itemsets_80[frequents_with_zero_80].index)"
      ],
      "metadata": {
        "id": "-bMJZWNxXS7A"
      },
      "id": "-bMJZWNxXS7A",
      "execution_count": 45,
      "outputs": []
    },
    {
      "cell_type": "markdown",
      "source": [
        "Una vez ya han sido limpiados, creamos las reglas correspondientes, pero todas bajo el criterio de confianza, y un umbral mínimo de 0.6"
      ],
      "metadata": {
        "id": "NwuOqvvrnFxN"
      },
      "id": "NwuOqvvrnFxN"
    },
    {
      "cell_type": "code",
      "source": [
        "rules_40 = association_rules(frequent_itemsets_40, metric='confidence', min_threshold=0.6, support_only=True)\n",
        "rules_60 = association_rules(frequent_itemsets_60, metric='confidence', min_threshold=0.6, support_only=True)\n",
        "rules_80 = association_rules(frequent_itemsets_80, metric='confidence', min_threshold=0.6, support_only=True)"
      ],
      "metadata": {
        "id": "UqBWAX2zW2VD"
      },
      "id": "UqBWAX2zW2VD",
      "execution_count": 46,
      "outputs": []
    },
    {
      "cell_type": "markdown",
      "source": [
        "Observemos si por tanto la cantidad de reglas con un soporte de 0.4, debe de ser mayor a las que se ha usado un 0.8. "
      ],
      "metadata": {
        "id": "sFx0M8TUb1jT"
      },
      "id": "sFx0M8TUb1jT"
    },
    {
      "cell_type": "code",
      "source": [
        "len(rules_40)"
      ],
      "metadata": {
        "id": "4HoypifWb-HZ",
        "outputId": "fab66dec-beba-49ed-9ce4-a81008416615",
        "colab": {
          "base_uri": "https://localhost:8080/"
        }
      },
      "id": "4HoypifWb-HZ",
      "execution_count": 68,
      "outputs": [
        {
          "output_type": "execute_result",
          "data": {
            "text/plain": [
              "152"
            ]
          },
          "metadata": {},
          "execution_count": 68
        }
      ]
    },
    {
      "cell_type": "code",
      "source": [
        "len(rules_60)"
      ],
      "metadata": {
        "id": "NQWe0AW1cAYX",
        "outputId": "e9ebdc8c-4870-485b-872b-e7573137d048",
        "colab": {
          "base_uri": "https://localhost:8080/"
        }
      },
      "id": "NQWe0AW1cAYX",
      "execution_count": 66,
      "outputs": [
        {
          "output_type": "execute_result",
          "data": {
            "text/plain": [
              "152"
            ]
          },
          "metadata": {},
          "execution_count": 66
        }
      ]
    },
    {
      "cell_type": "code",
      "source": [
        "len(rules_80)"
      ],
      "metadata": {
        "id": "fcUrd7HFcCBR",
        "outputId": "e46d8617-5df0-42e4-8c22-b32d4ab3ec00",
        "colab": {
          "base_uri": "https://localhost:8080/"
        }
      },
      "id": "fcUrd7HFcCBR",
      "execution_count": 67,
      "outputs": [
        {
          "output_type": "execute_result",
          "data": {
            "text/plain": [
              "0"
            ]
          },
          "metadata": {},
          "execution_count": 67
        }
      ]
    },
    {
      "cell_type": "markdown",
      "source": [
        "### 2. ¿Qué diferencias hay entre usar soporte y frecuencia? Respalda la respuesta con datos (1 punto) "
      ],
      "metadata": {
        "id": "xaCdFSNNVsZD"
      },
      "id": "xaCdFSNNVsZD"
    },
    {
      "cell_type": "markdown",
      "source": [
        "La diferencia entre usar soporte y frecuencia a nivel teórico es que: \n",
        "- Frecuencia: El número de veces que aparece el/los elemento/s\n",
        "- Soporte: El número de veces que aparece el/los elemento/s / total\n",
        "\n",
        "Por lo que si estamos usando un umbral soporte de 0.6, tomamos el número de veces que ha aparecido ese item, entre el total, que en este caso según vemos es 5891, para que sean equivalentes. \n"
      ],
      "metadata": {
        "id": "GX4fJnTlnypI"
      },
      "id": "GX4fJnTlnypI"
    },
    {
      "cell_type": "code",
      "source": [
        "len(data1)"
      ],
      "metadata": {
        "colab": {
          "base_uri": "https://localhost:8080/"
        },
        "id": "Y6-2koEnpKrN",
        "outputId": "90d4ba7e-01d0-4f0f-a553-10a09df7f08b"
      },
      "id": "Y6-2koEnpKrN",
      "execution_count": 47,
      "outputs": [
        {
          "output_type": "execute_result",
          "data": {
            "text/plain": [
              "5891"
            ]
          },
          "metadata": {},
          "execution_count": 47
        }
      ]
    },
    {
      "cell_type": "code",
      "source": [
        "frequent_itemsets_60['frecuencia'] = frequent_itemsets_60['support']*len(data1)"
      ],
      "metadata": {
        "id": "3n6T3isMnkjT"
      },
      "id": "3n6T3isMnkjT",
      "execution_count": 48,
      "outputs": []
    },
    {
      "cell_type": "code",
      "source": [
        "frequent_itemsets_60.head()"
      ],
      "metadata": {
        "colab": {
          "base_uri": "https://localhost:8080/",
          "height": 206
        },
        "id": "FUHjomxWoDJS",
        "outputId": "26010ffa-0fb1-4fe5-d7ee-2a81b227c3bf"
      },
      "id": "FUHjomxWoDJS",
      "execution_count": 49,
      "outputs": [
        {
          "output_type": "execute_result",
          "data": {
            "text/plain": [
              "    support itemsets  frecuencia\n",
              "0  0.905958  (1_PC1)      5337.0\n",
              "1  0.852996  (5_PC1)      5025.0\n",
              "2  0.767951  (8_PC1)      4524.0\n",
              "4  0.729588  (2_PC2)      4298.0\n",
              "5  0.830929  (8_PC2)      4895.0"
            ],
            "text/html": [
              "\n",
              "  <div id=\"df-72aa6209-5765-444a-80d3-f50500a34f81\">\n",
              "    <div class=\"colab-df-container\">\n",
              "      <div>\n",
              "<style scoped>\n",
              "    .dataframe tbody tr th:only-of-type {\n",
              "        vertical-align: middle;\n",
              "    }\n",
              "\n",
              "    .dataframe tbody tr th {\n",
              "        vertical-align: top;\n",
              "    }\n",
              "\n",
              "    .dataframe thead th {\n",
              "        text-align: right;\n",
              "    }\n",
              "</style>\n",
              "<table border=\"1\" class=\"dataframe\">\n",
              "  <thead>\n",
              "    <tr style=\"text-align: right;\">\n",
              "      <th></th>\n",
              "      <th>support</th>\n",
              "      <th>itemsets</th>\n",
              "      <th>frecuencia</th>\n",
              "    </tr>\n",
              "  </thead>\n",
              "  <tbody>\n",
              "    <tr>\n",
              "      <th>0</th>\n",
              "      <td>0.905958</td>\n",
              "      <td>(1_PC1)</td>\n",
              "      <td>5337.0</td>\n",
              "    </tr>\n",
              "    <tr>\n",
              "      <th>1</th>\n",
              "      <td>0.852996</td>\n",
              "      <td>(5_PC1)</td>\n",
              "      <td>5025.0</td>\n",
              "    </tr>\n",
              "    <tr>\n",
              "      <th>2</th>\n",
              "      <td>0.767951</td>\n",
              "      <td>(8_PC1)</td>\n",
              "      <td>4524.0</td>\n",
              "    </tr>\n",
              "    <tr>\n",
              "      <th>4</th>\n",
              "      <td>0.729588</td>\n",
              "      <td>(2_PC2)</td>\n",
              "      <td>4298.0</td>\n",
              "    </tr>\n",
              "    <tr>\n",
              "      <th>5</th>\n",
              "      <td>0.830929</td>\n",
              "      <td>(8_PC2)</td>\n",
              "      <td>4895.0</td>\n",
              "    </tr>\n",
              "  </tbody>\n",
              "</table>\n",
              "</div>\n",
              "      <button class=\"colab-df-convert\" onclick=\"convertToInteractive('df-72aa6209-5765-444a-80d3-f50500a34f81')\"\n",
              "              title=\"Convert this dataframe to an interactive table.\"\n",
              "              style=\"display:none;\">\n",
              "        \n",
              "  <svg xmlns=\"http://www.w3.org/2000/svg\" height=\"24px\"viewBox=\"0 0 24 24\"\n",
              "       width=\"24px\">\n",
              "    <path d=\"M0 0h24v24H0V0z\" fill=\"none\"/>\n",
              "    <path d=\"M18.56 5.44l.94 2.06.94-2.06 2.06-.94-2.06-.94-.94-2.06-.94 2.06-2.06.94zm-11 1L8.5 8.5l.94-2.06 2.06-.94-2.06-.94L8.5 2.5l-.94 2.06-2.06.94zm10 10l.94 2.06.94-2.06 2.06-.94-2.06-.94-.94-2.06-.94 2.06-2.06.94z\"/><path d=\"M17.41 7.96l-1.37-1.37c-.4-.4-.92-.59-1.43-.59-.52 0-1.04.2-1.43.59L10.3 9.45l-7.72 7.72c-.78.78-.78 2.05 0 2.83L4 21.41c.39.39.9.59 1.41.59.51 0 1.02-.2 1.41-.59l7.78-7.78 2.81-2.81c.8-.78.8-2.07 0-2.86zM5.41 20L4 18.59l7.72-7.72 1.47 1.35L5.41 20z\"/>\n",
              "  </svg>\n",
              "      </button>\n",
              "      \n",
              "  <style>\n",
              "    .colab-df-container {\n",
              "      display:flex;\n",
              "      flex-wrap:wrap;\n",
              "      gap: 12px;\n",
              "    }\n",
              "\n",
              "    .colab-df-convert {\n",
              "      background-color: #E8F0FE;\n",
              "      border: none;\n",
              "      border-radius: 50%;\n",
              "      cursor: pointer;\n",
              "      display: none;\n",
              "      fill: #1967D2;\n",
              "      height: 32px;\n",
              "      padding: 0 0 0 0;\n",
              "      width: 32px;\n",
              "    }\n",
              "\n",
              "    .colab-df-convert:hover {\n",
              "      background-color: #E2EBFA;\n",
              "      box-shadow: 0px 1px 2px rgba(60, 64, 67, 0.3), 0px 1px 3px 1px rgba(60, 64, 67, 0.15);\n",
              "      fill: #174EA6;\n",
              "    }\n",
              "\n",
              "    [theme=dark] .colab-df-convert {\n",
              "      background-color: #3B4455;\n",
              "      fill: #D2E3FC;\n",
              "    }\n",
              "\n",
              "    [theme=dark] .colab-df-convert:hover {\n",
              "      background-color: #434B5C;\n",
              "      box-shadow: 0px 1px 3px 1px rgba(0, 0, 0, 0.15);\n",
              "      filter: drop-shadow(0px 1px 2px rgba(0, 0, 0, 0.3));\n",
              "      fill: #FFFFFF;\n",
              "    }\n",
              "  </style>\n",
              "\n",
              "      <script>\n",
              "        const buttonEl =\n",
              "          document.querySelector('#df-72aa6209-5765-444a-80d3-f50500a34f81 button.colab-df-convert');\n",
              "        buttonEl.style.display =\n",
              "          google.colab.kernel.accessAllowed ? 'block' : 'none';\n",
              "\n",
              "        async function convertToInteractive(key) {\n",
              "          const element = document.querySelector('#df-72aa6209-5765-444a-80d3-f50500a34f81');\n",
              "          const dataTable =\n",
              "            await google.colab.kernel.invokeFunction('convertToInteractive',\n",
              "                                                     [key], {});\n",
              "          if (!dataTable) return;\n",
              "\n",
              "          const docLinkHtml = 'Like what you see? Visit the ' +\n",
              "            '<a target=\"_blank\" href=https://colab.research.google.com/notebooks/data_table.ipynb>data table notebook</a>'\n",
              "            + ' to learn more about interactive tables.';\n",
              "          element.innerHTML = '';\n",
              "          dataTable['output_type'] = 'display_data';\n",
              "          await google.colab.output.renderOutput(dataTable, element);\n",
              "          const docLink = document.createElement('div');\n",
              "          docLink.innerHTML = docLinkHtml;\n",
              "          element.appendChild(docLink);\n",
              "        }\n",
              "      </script>\n",
              "    </div>\n",
              "  </div>\n",
              "  "
            ]
          },
          "metadata": {},
          "execution_count": 49
        }
      ]
    },
    {
      "cell_type": "markdown",
      "source": [
        "Tomemos el primer ejemplo. Según hemos visto, la frecuencia será igual a el soporte * n:  \n",
        "\n"
      ],
      "metadata": {
        "id": "c41sAxtio06h"
      },
      "id": "c41sAxtio06h"
    },
    {
      "cell_type": "code",
      "source": [
        "0.905958*len(data1)"
      ],
      "metadata": {
        "colab": {
          "base_uri": "https://localhost:8080/"
        },
        "id": "9gbqWZ2qpd5e",
        "outputId": "72a0ad5d-7f40-4e80-ebc7-2cdeca8a736f"
      },
      "id": "9gbqWZ2qpd5e",
      "execution_count": 50,
      "outputs": [
        {
          "output_type": "execute_result",
          "data": {
            "text/plain": [
              "5336.998578000001"
            ]
          },
          "metadata": {},
          "execution_count": 50
        }
      ]
    },
    {
      "cell_type": "markdown",
      "source": [
        "Efectivamente se ha calculado de manera correcta, por lo que es insignificante usar frecuencia o soporte mientras se respete la equivalencia, es decir, no se puede poner como soporte mínimo 5000, ya que este oscila entre [0-1], mientras que la frecuencia oscila entre [0-len(data1)]."
      ],
      "metadata": {
        "id": "XhnrRNEepjCg"
      },
      "id": "XhnrRNEepjCg"
    },
    {
      "cell_type": "markdown",
      "source": [
        "### 3. ¿Qué tipo reglas desaparecen según la configuración y categorías (género, edad y tipo de producto)consideradas? ¿Por qué? "
      ],
      "metadata": {
        "id": "VFgNqe7kVeDp"
      },
      "id": "VFgNqe7kVeDp"
    },
    {
      "cell_type": "markdown",
      "source": [
        "En cuanto al soporte, las reglas más específicas son aquellas cuyo umbral es menor, ya que incluye más items tanto en el antecedente como en el consecuente, ya que la confianza consiste en: Frecuencia con que los elementos en Y aparecen en\n",
        "transacciones que contienen a X. Es decir, cuantos más elementos tengamos en el antecedente, mejor, ya que como es el denominador, cuanto más pequeño sea, significa que esa serie de itemsets aparece poco, por lo que mayor será el valor de la confianza. \n",
        "\n",
        "Además, como hemos tomado en la selección de los itemsets frecuentes, obviamente los que tengan menor umbral de soporte, contendrán más items frecuentes, por lo que a la hora de la creación de las reglas, se obtendrán más, ya que la longitud es mayor. \n",
        "\n",
        " Sin embargo, conseguimos mayor precisión con un soporte mayor. "
      ],
      "metadata": {
        "id": "ZeB2RHpaVi4J"
      },
      "id": "ZeB2RHpaVi4J"
    },
    {
      "cell_type": "code",
      "source": [
        "rules_40 = association_rules(frequent_itemsets_40, metric='confidence', min_threshold=0.6, support_only=True)\n",
        "rules_60 = association_rules(frequent_itemsets_60, metric='confidence', min_threshold=0.6, support_only=True)\n",
        "rules_80 = association_rules(frequent_itemsets_80, metric='confidence', min_threshold=0.6, support_only=True)"
      ],
      "metadata": {
        "id": "0ebqxpuhiiD0"
      },
      "id": "0ebqxpuhiiD0",
      "execution_count": 51,
      "outputs": []
    },
    {
      "cell_type": "markdown",
      "source": [
        "Además según las categorías tomadas, todas aquellas reglas que contuviese tanto en el antecedente como en la consecuencia, un valor que no pertenezca a estas categorías, no será tomada, es decir, no se tomará en cuenta si el usuario está casado o no, la ciudad de residencia, o su trabajo. "
      ],
      "metadata": {
        "id": "NTuY_d-ssIm8"
      },
      "id": "NTuY_d-ssIm8"
    },
    {
      "cell_type": "markdown",
      "source": [
        "### 4. Para una de las configuraciones, interpreta algunas de las reglas que te hayan resultado interesantes obtenidas usando la clase association_rules y un par de configuraciones cambiando la variable metric y min_threshold. Justifica los resultados."
      ],
      "metadata": {
        "id": "2DRdTM7kWjaA"
      },
      "id": "2DRdTM7kWjaA"
    },
    {
      "cell_type": "code",
      "source": [
        "frequent_itemsets_40_RULES =association_rules(frequent_itemsets_40, metric='lift', min_threshold=1.3)"
      ],
      "metadata": {
        "id": "7WaNzkC2Wo63"
      },
      "id": "7WaNzkC2Wo63",
      "execution_count": 52,
      "outputs": []
    },
    {
      "cell_type": "code",
      "source": [
        "frequent_itemsets_40_RULES"
      ],
      "metadata": {
        "id": "3teOOIDzZd78",
        "outputId": "6d7b8143-fc3f-41da-c054-fc41de144977",
        "colab": {
          "base_uri": "https://localhost:8080/",
          "height": 424
        }
      },
      "id": "3teOOIDzZd78",
      "execution_count": 53,
      "outputs": [
        {
          "output_type": "execute_result",
          "data": {
            "text/plain": [
              "          antecedents                             consequents  \\\n",
              "0             (2_PC1)                                 (5_PC2)   \n",
              "1             (5_PC2)                                 (2_PC1)   \n",
              "2             (2_PC1)                                (15_PC3)   \n",
              "3            (15_PC3)                                 (2_PC1)   \n",
              "4             (3_PC1)                                 (4_PC2)   \n",
              "...               ...                                     ...   \n",
              "4693  (16_PC2, 8_PC2)   (14_PC2, 16_PC3, 1_PC1, 8_PC1, 5_PC1)   \n",
              "4694  (16_PC2, 8_PC1)   (14_PC2, 16_PC3, 1_PC1, 8_PC2, 5_PC1)   \n",
              "4695  (16_PC2, 5_PC1)   (14_PC2, 16_PC3, 1_PC1, 8_PC2, 8_PC1)   \n",
              "4696   (8_PC1, 8_PC2)  (14_PC2, 16_PC3, 1_PC1, 16_PC2, 5_PC1)   \n",
              "4697   (8_PC1, 5_PC1)  (14_PC2, 16_PC3, 1_PC1, 16_PC2, 8_PC2)   \n",
              "\n",
              "      antecedent support  consequent support   support  confidence      lift  \\\n",
              "0               0.536581            0.592938  0.422169    0.786776  1.326911   \n",
              "1               0.592938            0.536581  0.422169    0.711995  1.326911   \n",
              "2               0.536581            0.565099  0.407062    0.758621  1.342456   \n",
              "3               0.565099            0.536581  0.407062    0.720336  1.342456   \n",
              "4               0.485317            0.527075  0.446953    0.920951  1.747287   \n",
              "...                  ...                 ...       ...         ...       ...   \n",
              "4693            0.635715            0.467323  0.407401    0.640854  1.371331   \n",
              "4694            0.620098            0.487354  0.407401    0.656994  1.348085   \n",
              "4695            0.639620            0.465116  0.407401    0.636943  1.369427   \n",
              "4696            0.674419            0.445595  0.407401    0.604078  1.355665   \n",
              "4697            0.692073            0.446953  0.407401    0.588668  1.317070   \n",
              "\n",
              "      leverage  conviction  \n",
              "0     0.104010    1.909083  \n",
              "1     0.104010    1.609067  \n",
              "2     0.103840    1.801731  \n",
              "3     0.103840    1.657058  \n",
              "4     0.191155    5.982708  \n",
              "...        ...         ...  \n",
              "4693  0.110317    1.483179  \n",
              "4694  0.105194    1.494571  \n",
              "4695  0.109904    1.473276  \n",
              "4696  0.106884    1.400287  \n",
              "4697  0.098077    1.344528  \n",
              "\n",
              "[4698 rows x 9 columns]"
            ],
            "text/html": [
              "\n",
              "  <div id=\"df-0bd7917a-df48-48fe-9488-c23123062f54\">\n",
              "    <div class=\"colab-df-container\">\n",
              "      <div>\n",
              "<style scoped>\n",
              "    .dataframe tbody tr th:only-of-type {\n",
              "        vertical-align: middle;\n",
              "    }\n",
              "\n",
              "    .dataframe tbody tr th {\n",
              "        vertical-align: top;\n",
              "    }\n",
              "\n",
              "    .dataframe thead th {\n",
              "        text-align: right;\n",
              "    }\n",
              "</style>\n",
              "<table border=\"1\" class=\"dataframe\">\n",
              "  <thead>\n",
              "    <tr style=\"text-align: right;\">\n",
              "      <th></th>\n",
              "      <th>antecedents</th>\n",
              "      <th>consequents</th>\n",
              "      <th>antecedent support</th>\n",
              "      <th>consequent support</th>\n",
              "      <th>support</th>\n",
              "      <th>confidence</th>\n",
              "      <th>lift</th>\n",
              "      <th>leverage</th>\n",
              "      <th>conviction</th>\n",
              "    </tr>\n",
              "  </thead>\n",
              "  <tbody>\n",
              "    <tr>\n",
              "      <th>0</th>\n",
              "      <td>(2_PC1)</td>\n",
              "      <td>(5_PC2)</td>\n",
              "      <td>0.536581</td>\n",
              "      <td>0.592938</td>\n",
              "      <td>0.422169</td>\n",
              "      <td>0.786776</td>\n",
              "      <td>1.326911</td>\n",
              "      <td>0.104010</td>\n",
              "      <td>1.909083</td>\n",
              "    </tr>\n",
              "    <tr>\n",
              "      <th>1</th>\n",
              "      <td>(5_PC2)</td>\n",
              "      <td>(2_PC1)</td>\n",
              "      <td>0.592938</td>\n",
              "      <td>0.536581</td>\n",
              "      <td>0.422169</td>\n",
              "      <td>0.711995</td>\n",
              "      <td>1.326911</td>\n",
              "      <td>0.104010</td>\n",
              "      <td>1.609067</td>\n",
              "    </tr>\n",
              "    <tr>\n",
              "      <th>2</th>\n",
              "      <td>(2_PC1)</td>\n",
              "      <td>(15_PC3)</td>\n",
              "      <td>0.536581</td>\n",
              "      <td>0.565099</td>\n",
              "      <td>0.407062</td>\n",
              "      <td>0.758621</td>\n",
              "      <td>1.342456</td>\n",
              "      <td>0.103840</td>\n",
              "      <td>1.801731</td>\n",
              "    </tr>\n",
              "    <tr>\n",
              "      <th>3</th>\n",
              "      <td>(15_PC3)</td>\n",
              "      <td>(2_PC1)</td>\n",
              "      <td>0.565099</td>\n",
              "      <td>0.536581</td>\n",
              "      <td>0.407062</td>\n",
              "      <td>0.720336</td>\n",
              "      <td>1.342456</td>\n",
              "      <td>0.103840</td>\n",
              "      <td>1.657058</td>\n",
              "    </tr>\n",
              "    <tr>\n",
              "      <th>4</th>\n",
              "      <td>(3_PC1)</td>\n",
              "      <td>(4_PC2)</td>\n",
              "      <td>0.485317</td>\n",
              "      <td>0.527075</td>\n",
              "      <td>0.446953</td>\n",
              "      <td>0.920951</td>\n",
              "      <td>1.747287</td>\n",
              "      <td>0.191155</td>\n",
              "      <td>5.982708</td>\n",
              "    </tr>\n",
              "    <tr>\n",
              "      <th>...</th>\n",
              "      <td>...</td>\n",
              "      <td>...</td>\n",
              "      <td>...</td>\n",
              "      <td>...</td>\n",
              "      <td>...</td>\n",
              "      <td>...</td>\n",
              "      <td>...</td>\n",
              "      <td>...</td>\n",
              "      <td>...</td>\n",
              "    </tr>\n",
              "    <tr>\n",
              "      <th>4693</th>\n",
              "      <td>(16_PC2, 8_PC2)</td>\n",
              "      <td>(14_PC2, 16_PC3, 1_PC1, 8_PC1, 5_PC1)</td>\n",
              "      <td>0.635715</td>\n",
              "      <td>0.467323</td>\n",
              "      <td>0.407401</td>\n",
              "      <td>0.640854</td>\n",
              "      <td>1.371331</td>\n",
              "      <td>0.110317</td>\n",
              "      <td>1.483179</td>\n",
              "    </tr>\n",
              "    <tr>\n",
              "      <th>4694</th>\n",
              "      <td>(16_PC2, 8_PC1)</td>\n",
              "      <td>(14_PC2, 16_PC3, 1_PC1, 8_PC2, 5_PC1)</td>\n",
              "      <td>0.620098</td>\n",
              "      <td>0.487354</td>\n",
              "      <td>0.407401</td>\n",
              "      <td>0.656994</td>\n",
              "      <td>1.348085</td>\n",
              "      <td>0.105194</td>\n",
              "      <td>1.494571</td>\n",
              "    </tr>\n",
              "    <tr>\n",
              "      <th>4695</th>\n",
              "      <td>(16_PC2, 5_PC1)</td>\n",
              "      <td>(14_PC2, 16_PC3, 1_PC1, 8_PC2, 8_PC1)</td>\n",
              "      <td>0.639620</td>\n",
              "      <td>0.465116</td>\n",
              "      <td>0.407401</td>\n",
              "      <td>0.636943</td>\n",
              "      <td>1.369427</td>\n",
              "      <td>0.109904</td>\n",
              "      <td>1.473276</td>\n",
              "    </tr>\n",
              "    <tr>\n",
              "      <th>4696</th>\n",
              "      <td>(8_PC1, 8_PC2)</td>\n",
              "      <td>(14_PC2, 16_PC3, 1_PC1, 16_PC2, 5_PC1)</td>\n",
              "      <td>0.674419</td>\n",
              "      <td>0.445595</td>\n",
              "      <td>0.407401</td>\n",
              "      <td>0.604078</td>\n",
              "      <td>1.355665</td>\n",
              "      <td>0.106884</td>\n",
              "      <td>1.400287</td>\n",
              "    </tr>\n",
              "    <tr>\n",
              "      <th>4697</th>\n",
              "      <td>(8_PC1, 5_PC1)</td>\n",
              "      <td>(14_PC2, 16_PC3, 1_PC1, 16_PC2, 8_PC2)</td>\n",
              "      <td>0.692073</td>\n",
              "      <td>0.446953</td>\n",
              "      <td>0.407401</td>\n",
              "      <td>0.588668</td>\n",
              "      <td>1.317070</td>\n",
              "      <td>0.098077</td>\n",
              "      <td>1.344528</td>\n",
              "    </tr>\n",
              "  </tbody>\n",
              "</table>\n",
              "<p>4698 rows × 9 columns</p>\n",
              "</div>\n",
              "      <button class=\"colab-df-convert\" onclick=\"convertToInteractive('df-0bd7917a-df48-48fe-9488-c23123062f54')\"\n",
              "              title=\"Convert this dataframe to an interactive table.\"\n",
              "              style=\"display:none;\">\n",
              "        \n",
              "  <svg xmlns=\"http://www.w3.org/2000/svg\" height=\"24px\"viewBox=\"0 0 24 24\"\n",
              "       width=\"24px\">\n",
              "    <path d=\"M0 0h24v24H0V0z\" fill=\"none\"/>\n",
              "    <path d=\"M18.56 5.44l.94 2.06.94-2.06 2.06-.94-2.06-.94-.94-2.06-.94 2.06-2.06.94zm-11 1L8.5 8.5l.94-2.06 2.06-.94-2.06-.94L8.5 2.5l-.94 2.06-2.06.94zm10 10l.94 2.06.94-2.06 2.06-.94-2.06-.94-.94-2.06-.94 2.06-2.06.94z\"/><path d=\"M17.41 7.96l-1.37-1.37c-.4-.4-.92-.59-1.43-.59-.52 0-1.04.2-1.43.59L10.3 9.45l-7.72 7.72c-.78.78-.78 2.05 0 2.83L4 21.41c.39.39.9.59 1.41.59.51 0 1.02-.2 1.41-.59l7.78-7.78 2.81-2.81c.8-.78.8-2.07 0-2.86zM5.41 20L4 18.59l7.72-7.72 1.47 1.35L5.41 20z\"/>\n",
              "  </svg>\n",
              "      </button>\n",
              "      \n",
              "  <style>\n",
              "    .colab-df-container {\n",
              "      display:flex;\n",
              "      flex-wrap:wrap;\n",
              "      gap: 12px;\n",
              "    }\n",
              "\n",
              "    .colab-df-convert {\n",
              "      background-color: #E8F0FE;\n",
              "      border: none;\n",
              "      border-radius: 50%;\n",
              "      cursor: pointer;\n",
              "      display: none;\n",
              "      fill: #1967D2;\n",
              "      height: 32px;\n",
              "      padding: 0 0 0 0;\n",
              "      width: 32px;\n",
              "    }\n",
              "\n",
              "    .colab-df-convert:hover {\n",
              "      background-color: #E2EBFA;\n",
              "      box-shadow: 0px 1px 2px rgba(60, 64, 67, 0.3), 0px 1px 3px 1px rgba(60, 64, 67, 0.15);\n",
              "      fill: #174EA6;\n",
              "    }\n",
              "\n",
              "    [theme=dark] .colab-df-convert {\n",
              "      background-color: #3B4455;\n",
              "      fill: #D2E3FC;\n",
              "    }\n",
              "\n",
              "    [theme=dark] .colab-df-convert:hover {\n",
              "      background-color: #434B5C;\n",
              "      box-shadow: 0px 1px 3px 1px rgba(0, 0, 0, 0.15);\n",
              "      filter: drop-shadow(0px 1px 2px rgba(0, 0, 0, 0.3));\n",
              "      fill: #FFFFFF;\n",
              "    }\n",
              "  </style>\n",
              "\n",
              "      <script>\n",
              "        const buttonEl =\n",
              "          document.querySelector('#df-0bd7917a-df48-48fe-9488-c23123062f54 button.colab-df-convert');\n",
              "        buttonEl.style.display =\n",
              "          google.colab.kernel.accessAllowed ? 'block' : 'none';\n",
              "\n",
              "        async function convertToInteractive(key) {\n",
              "          const element = document.querySelector('#df-0bd7917a-df48-48fe-9488-c23123062f54');\n",
              "          const dataTable =\n",
              "            await google.colab.kernel.invokeFunction('convertToInteractive',\n",
              "                                                     [key], {});\n",
              "          if (!dataTable) return;\n",
              "\n",
              "          const docLinkHtml = 'Like what you see? Visit the ' +\n",
              "            '<a target=\"_blank\" href=https://colab.research.google.com/notebooks/data_table.ipynb>data table notebook</a>'\n",
              "            + ' to learn more about interactive tables.';\n",
              "          element.innerHTML = '';\n",
              "          dataTable['output_type'] = 'display_data';\n",
              "          await google.colab.output.renderOutput(dataTable, element);\n",
              "          const docLink = document.createElement('div');\n",
              "          docLink.innerHTML = docLinkHtml;\n",
              "          element.appendChild(docLink);\n",
              "        }\n",
              "      </script>\n",
              "    </div>\n",
              "  </div>\n",
              "  "
            ]
          },
          "metadata": {},
          "execution_count": 53
        }
      ]
    },
    {
      "cell_type": "code",
      "source": [
        "print(frequent_itemsets_40_RULES[frequent_itemsets_40_RULES['antecedents'].apply(lambda x: 'M' in x)])"
      ],
      "metadata": {
        "id": "mZnk_RiObqcs",
        "outputId": "b6462a11-6530-4ba4-ff67-47d30995a95b",
        "colab": {
          "base_uri": "https://localhost:8080/"
        }
      },
      "id": "mZnk_RiObqcs",
      "execution_count": 54,
      "outputs": [
        {
          "output_type": "stream",
          "name": "stdout",
          "text": [
            "            antecedents      consequents  antecedent support  \\\n",
            "106          (2_PC2, M)         (15_PC3)            0.551859   \n",
            "308   (2_PC2, M, 1_PC1)         (15_PC3)            0.551859   \n",
            "309          (2_PC2, M)  (15_PC3, 1_PC1)            0.551859   \n",
            "390  (M, 16_PC3, 1_PC1)         (15_PC2)            0.491767   \n",
            "391         (M, 16_PC3)  (15_PC2, 1_PC1)            0.503650   \n",
            "\n",
            "     consequent support   support  confidence      lift  leverage  conviction  \n",
            "106            0.565099  0.413342    0.749000  1.325431  0.101487    1.732674  \n",
            "308            0.565099  0.413342    0.749000  1.325431  0.101487    1.732674  \n",
            "309            0.560007  0.413342    0.749000  1.337484  0.104298    1.752963  \n",
            "390            0.656765  0.423358    0.860891  1.310805  0.100382    2.467377  \n",
            "391            0.638432  0.423358    0.840580  1.316633  0.101812    2.268021  \n"
          ]
        }
      ]
    },
    {
      "cell_type": "markdown",
      "source": [
        "Vemos que para un soporte de 0.4 no hay ni mujeres ni edades, por lo que disminuimos el soporte a 0.3, y hacemos la limpieza de los 0's tal y como se ha realizado a lo largo de la práctica. "
      ],
      "metadata": {
        "id": "zY14aaFRoawC"
      },
      "id": "zY14aaFRoawC"
    },
    {
      "cell_type": "code",
      "source": [
        "frequent_itemsets_30 = apriori(data1, min_support=0.3, use_colnames=True)\n",
        "frequents_with_zero_30=frequent_itemsets_30['itemsets'].apply(lambda x: '0_PC2' in x) |frequent_itemsets_30['itemsets'].apply(lambda x: '0_PC3' in x)\n",
        "frequent_itemsets_30 = frequent_itemsets_30.drop(frequent_itemsets_30[frequents_with_zero_30].index)"
      ],
      "metadata": {
        "id": "7jO00R_Jw2U-"
      },
      "id": "7jO00R_Jw2U-",
      "execution_count": 55,
      "outputs": []
    },
    {
      "cell_type": "markdown",
      "source": [
        "Ahora creamos las reglas de asociación bajo el criterio de lift. Este criterio cuantifica la relación existente entre X e Y, es decir: ![image.png](data:image/png;base64,iVBORw0KGgoAAAANSUhEUgAAAUoAAABcCAYAAAAI0fw3AAAAAXNSR0IArs4c6QAAAARnQU1BAACxjwv8YQUAAAAJcEhZcwAAEnQAABJ0Ad5mH3gAACbGSURBVHhe7Z0JYA3X/se/d0siEYkIERGCilhSIolYa6nSPlXUWrR/aqkqXjWopbTVR5969Omqqqi21mqtqWepXSSxE2sWiSQkhMgiy71zv/+5S5IbWW4o2sb5MGTOTM6cmXvnO7+zfUdBbRqvXopCUroelap7wbtBddjhMaG7jZjjR3Ey6hru5Clh7+KBRn6BeNqzMpTmXYogpeHSob2IiM2ApqonmrRui2Y1bMwb89HhztVLiEpKh75SdXh5N0D1h35CEtIuHcLeiFhkaKrCs0lrtG1WA8VKcucqLkUlIV1fCdW9vNHgjxREdweP/HMq1/UtD4/jM/iDPI7rKagwKChj/lkgEAgEJVBi4CYQCASCQoRQCgQCgRWEUAoEAoEVhFAKBAKBFYRQCgQCgRWEUAoEAoEVhFAKBAKBFYRQCgQCgRWEUAoEAoEVhFAKBAKBFYRQCgQCgRWEUAoEAoEVhFAKBAKBFYRQCgQCgRWEUAoEAoEVhFAKBAKBFYRQCgQCgRWEUAoEAoEVhFAKBAKBFYRQCgQCgRWEUAoEAoEVhFAKBAKBFYRQCgQCgRWEUAoEAoEVhFAKBAKBFRSUMf8sEFQs8uKw+5vPsGz7McSm5sHWayD+8+M/4a82b69I6FMR8dMifLEhF/2+n4eeTqbku6mJSM2SYLzJFRo41nBHVVtAykxB0q0cc7oNqrjVhLONYeVxkYvb11KQoTXJj8K2KtzdHGH6aHJwK+kGMnWGbQqoHKrBLWEJhn8Ui4A3JuKN57xgZ9zvMWIQSoGgwpFzioue96Bnr8959OZtRswKpFPnRYyTzNspMenb3nSvVo/DN6Sb0/6eSNd2cEan2vTsFMwfT96kzpxOZjNiYVe6qxSEQk3PF+Zyz3XDBZCYum8GWzsp5XQbej73L+5NLbgwjwfdea4c5E1bBaiw8Wa/ryNY8Cloz3FFv/pUKxRUurTim2suyueUyejt8zigcS36DlvB89nmfR8TQigFFRAdz8/vwMp2bTnvQr5sSNTpLMUgi1tH16ez6/P8/MpjFomHSfoBzvB3okevJTyXY06zRErk0p7OVCprcNgmC3VJXcfBbhq6v/gVI0v6vcdB2i98taaSKo+RDClSBh0vfNyaNvYtGLw7Vf7kCpGSt/PtFk6s+8oqxj/Gj00IpaDioQ3j1KZqagL/xcjC8KoCksE9b/vQttZArkoqXTXSNgylm1LDwI8iTdGmlMzNo7zp7DeZv9/6Mx8S6Vz/iiuVGvmBdrnwg5KS1nKwZw12+yySueY0S7LDZtCvUnX2XhZXREQfJaoPZMy1cIHgoZJz7RQO7D2IiDNRSLpDOFZ3hUOR9kE9MuOOYf++Qzh2KRWq6rXhWsmif1FKReSeHQhLcYBXbSdj+5X+9iUc3LUXZ9OdUdcjv03LEj1uhHyId748DnWbfujTAEhO1cLRzRm25j2kGxdx9NR5XL58GQl5LqjtageFeVsBeTdwMfwA9h85i+uoBk9XLS4cOgttrVpwNBZRQmrkHuwIS4GDV204mQqHSwd3Ye/ZdDjX9YCjReFyky/g1IUrSEpKume5hnSVK1wrq8x7msiTyxh+YD+OnL0OVPOEq/YCDp3VolYtx4IeWH38dxgzehU0I7/Fot61UTSHQuzq2OLCitXYkVwLA4a3wa3vBqP/dzXx722L8bJHab91n+hTsG/NbuR6N4Jr8Q+lFGzhlnkYX28MhdR0JAb7V4ZCisGy1wZhtfdn2Di3E6oW+2AAtXsT2ER8hoWbdeg6uhs8H9IplIlZMAWCh4aUeoRf/J8/6/g8x5FTZ3FC19pUqzw4enth/UpK3s/5A5rRw6cbR055j8H9m9PFJYDBIcnGKEGXuJWTn/FmvdrOVGkaMfhgNhO2TGJnn6dYt5oNFWoPDl57vWhEoT3Fr17rzAAvJyoVtqze8Gk2b96c/gO+YkENXCb95Gr+s4OLvI8dn/sq6Z6oRMekHbPZq1FNencbxWkfzOSIdvVYt6EHKxuqiIbaqy6RWyc/Q+96tems0rBR8EFmJ2zhpM4+fKpuNdoo1PQYvJbG5kAjOdzxhidVahc26z6AQ4YO5dCh/dnOU0OF0pU9vok27yejS+KO2b3YqKY3u42axg9mjmC7enXZ0KMyPUaGsLDyrGP0gmdoq2nMKUdKirssyeLOMXWpsgnke99PZ6ua/py697Z520NCSmHIWF827PM1z2SZ08qBlPAlu1ZS0rnfKt6Wr9PJeR3p3iKYe8osnsTk715kZbUXx+5+PO0GQigFD5escH7csRod5C/77+YOgtwj77JJlR5cmmJclZXqMN9v7Uy7ZhO486ZZTXTnOaeVhppm0xiuzWbo3BGcuSuZ2fv/yac0rnx5WjB7DlzEo2lyfhEz6KtR0WP0dvnWuhctw6c1pUbTjvOjS6t3G/ZpJu/zNN87rjWnmcg4MJ3+jlUY9N5B+cY1kXvwHXqrFazcczlvyuvZoXM5YuYuJmfv5z+f0tD15WkM7jmQi0yF4wxfDVUeo1nwXNCd5ezA6uz8yUlZsgxoGf3DQHpp7NlsXAiTCwQ1gwem+9OxShDfO1hwdB58x5tqRWX2XG44ej6pXNGrMpXVhnBDOYQpZ598HeVzUNnUYd/lUaYq+MMm6yjntK/G2j0W8XiGOc0ausuc19aGKvdhXL19Cv08OnP+Kevipz3zIf01GjafeUK+mo8eIZSCh4iWp/8VxEpqb769z6LjIDeVcTHXC0Ti5Af+tJMjzOGbZGEpIIvrBzlTYdONXyebk2TSV/eXozYHuraZwn3m3XXn57CV8SY5XvwmkRL4eRdbquuP555S77dbssg4UlVzOLdY9p5qT/LDADtqfKcxzOJ3cw9NYiO1hkFzLxQVmPTV7O+sooNrG04pLJxJ8JvPZIEG665w79rdjDauS7y58x22cNDQo/e3vGgRDGpPfsgAOw19p4VZPAByeWhSI6o1QZxrGRbnHuG7TdTUtJjFE+VQCinhG75QRRZKOSredh8Rn1w9YOTe3xgSElKuZeu3o+lbSc2a3eYzrFyDCeTvwyw/apRVWNWlLvv/cKV8Ip7xI/tUVrJKv9XMNCc9SoRQCh4eOb9zXD01bVrP5fnSvu25hihMTZXXm9xlKVJyhLT0H3ZU2Hbj4vzIMz+aUtXlyG2Fd136ukF0Ubnx/zaVcMdnbuAQVxUd+6yU5bAUcnZyTB0VKz3/jUX1WE7e/Ra95Kp064+LCmLK0h50UNfn+HuU1xRpqlh35LbCoS3p6zjIRUW3/9tkfjAUJfv0f9mtuppOrWfxoOVzQpbG3W95UaVpzY8tBZEpXNrDobjwZ2/l6zWV1HT4D2OsKYsc6c3r7EHvxvVoIz+gXt9S3nBPJmcX35SvlaGV7r4WZVUOWlc+CcveNoLuSrmGMPRnplh8HmWSvZnDaihp0/kzJpT3d/4AYmaO4KGhO7MLexMU8O7yHJ4qpYFdit6P0Dg9nNp0QZDlqOG8szhzSQele0M0rGJOkxJwJPwKWKcnhjzraE7MxbH9YUi3C0CH1sWHHeedOYLjaUr4+AcgP5t7kaJCcfSavE+rIFQruAN0OLN7HxIV9dC2Qz2LjpE07N0djpzK/mjrn98dZEBCwpFwXGEd9BzyLApKd2w/wtLtENChdbFB0frEDRjb913sc34V3/38PtqZB4Ub0Z3B7n2JUNRriw71LC5e2l7sDs9BZf+2KHJ4ubw6HaBQqaAqocOjAH0iNrw1GIs0U/Dzxn+inc11bF3zP9wxb7aK7bP4PDoHubm55Vpu7g5GcwdnBExchU/7OpgzKQs9Ui7HIJUOaNX9WVQvtyLJ5224TJIWWlPCI0UIpeChkRd9GXE6Feo1bFhCb7QJbUwMrkryPj4+RYREFymLbBzh1qkbWuULQmYYQs/q4BjYvlAkdJewLzQBCt/2aF+ocmb0uB4WgRi6wS+gfqm9wGlh4Tivr46WQY0sypmH2Oir0Ck94OVVmCpFrcTibTehat4WbYrc95kICz0LnWMg2hcWDpf2hSJB4Yv27asVvbkyDmN2/5H44U5HzNvwFfp63FP2vFhEX5UfFB5eKDy8hKiVi7HtpgrN27ZBkcMrKsPBQQFmZSHLEMOVSCbC5w7Cm4c74Mvvx8H3qT54ua0tbm5fi5Bb5l3KgUqtho2NjdVFfWMTJo5aCYe3NyDkk+dRs1zqko1jR89Ap26CwMD8x0050N9FVjahsHc0j0J4tDyGQwieGFRqObpRQP5rgR63o6NxQ29aM0RASnm7vYODxZCcLBxcsRaRaISho7qjsjk190QoTmSo0CwwEPbmNNwOQ/h5wqNlK3jJSqjXmzM2chfhYaehtX0agS2LhF8W5OLMiUjkyDdmy5aGOXt6+Y8JSTL8pJf/N61DdxFLZnyLC5Ians394C7fLQXHyz2B0BMZUDULRGBh4RAWfh70aIlWpsKZ8tZFYfmwgZh7ph7+uWoVxvvKjwj9NfwydQwWn5HDQiMSTIeX/zclyIdfghnfXoCk9kRzP3f5ZpXzyy+sui68ZLHVJycgMT+LIkiIXzMGryzIxZvfL0Jvg2opa+Oll4Jgc3sn1mxKLjjvh4IUhSVvzETCsF+wdXaX8keGukiEn0iDwr0FAg3XrJzobybg2l0lXD09C74vjxIhlIKHhq0sXi1s8xC6biXOZuqhu30B2xe+hi69ZmFngum21Ph3QpuqxKWjEbhlTNIjeed7mLg0CU3HL8JUOeIxIeHKkQhcVdSFf6vCMYK6xHgkahVwdLZHyr656NN3PuSg00TeKYQeS4fKOwABVc1pxZCQkpIKahxgL13CmjdfwBs/35BLYYMmTeVIWK4C7wqJReaNo/huzEQc7TwAvnL+lSrb4sb+j9Hn5U9g0DbpyhFEXFWgrn8r1C4sHOITtVA4OsM+ZR/m9umL+aev4X+T+mLcVg36Ld6Aec8aIk0d4tZNQvDXV6GuaQ4fbZqgaUO1sfkiJDYTN45+hzETj6LzAF9570qobHsD+z+WI8JP5OjLsL/KEwEtagHJFxB5vbjkpR38EAPHrIVuwEeY0jo/FlXCzfspVFPcwa5lK3EpX5EfBiov9FwYgs0z26PqfaiKdGkHdssFMUTSdUqrhpRA3tmziJLs8HSgHzTmtEeKua1SIHgIZDBsQU/Ws1dSjhypsqnOp1/+gFtjLXshdLyyYQLbuLvSu0s/9u8RSO8GQRw6fw+vFWmUv8XveztS6dSXP1l2eqSFcGxDWyqUtqzZZhzXRhV2G0uxC/iMjZJuwzZbjDe8Fx2jFv+D1VUKqqs0ZK9/H2D+CCUpaSPfbCYfU6Ggxi2IY344z5ycQ5ze3L7weJdNx7v1fW86Kp3Yt2jhGDK2IW0VStrWbMNxa6OYumkYa6lApaMnff396S8vfo096CgfX9PyfZ4q6LGWmLTxTTZzlK+dQkO3oDH84XwOcw5NZ3N7BZW2Ndlm3FqaD28k67dR9FQ7sddy09hTExITfnmLfs5yPlCySsvJ3GXu1ZIStnBKuxpUyTV2Q2dL4Ht75U/sz0N7ZjmH+7sYOkqorOLLAf89UDAkq2xyeSi4kfys68ovCifvP1KEUAoeOrr0RF48H8Wk9DLGrejSmHDxHC/GpTL7Pr/rUuY1RsfeLCaG6WsG0Flpz+6Lr1kIR0loeTsumgnpJXQX69KZGJvINMuiZ11nTGxKGeJrgZTJa9GxvFmunYtjuHaxiWlFhj1lXY9hbEoJGWqPc1ZLOzp0/pRR1nq+KxLp2ziyjoYer25gqjnpUfPgQpmbxmvxcYyLy1/imXCztAFaEm+f3MQVy5Zx+crfWeo4YPnrkXRoOd8f3Zfdn2nDoDbP8Pk3VhSZVVFupJsMXzmTr/Waws3ytz79enxhWeMTmZr/vdOm83rBecQzOePP/8ZNnz6dNjY29PT0NC6GwH/JkiXGbfHx8cb1GjVqGLfZaNTs18qPE/67g7EPeHNWDHK46826VFXqyIWlf8EqHGm/v0Nfew/2/zHBysOhopDBw9Nb0sG9D5dZHRf18HhgodSeXcyehilYhjFT8qKwqc0XFp0sPgDYSCZ/GepqDLHVPpN4uMQZV9k88enzrKVRUOXeg3N+mssX3VR07LXivp8axWynpBTumBrEqkpDWZV0bvUWfzY/gqWbezirfTW5bHJVyONZztlfZHDbn8Iy+YFiuKaWy2+//WbcduPGDdaqVYtqtbpg28bl/+K8AY1Zy3cYVzxu/6m/CNLNX/iah4a1Bq+zmOnyJJDNM4v70Ms1gBM2xpYwU6kCIaUydMGL9HQN4tSdls0Nj54/UPXOZejkxlQbb1YV643dVfoIeW04pzXVyPvJIjVwbYntIrpz89jOXiHvkz8tKYPndq7l1hM3i1yQrO0T2NStOmt49OGSxBIuVWm2U1IiVw30oApq+kwOlUufj45nZwfQxrkzPzn51xGZVatW0cHBwSiELVq0MKeamDNnDjUaDStVqsQLFy6YEqVkbn+7BZ3qvsJVj9N/6k8nnXsWvM6ezWvQrd1UbrccQf7EoGX8jo850K8BW7y8kEfuZ+bN3wRd9BqO6+DNRl0n8odTjz+Y+QNCmcmfB5saYqGqxRHbyhIZiTqtlrm5WmpLjJa1PD6zOTXGvLz4VqkT3dO4abhB7OTItPEUFvcCKNt2Sopbxl7VlXLEKm/P7zm4HcLRT7my62f3TE/7C2AwdDAIpb29Pffs2WNMy8jIoLOzM1UqFefOnWtMKyA7jDP8KrF672UWBrUVnUxePrCNO45EM+1J1MgiZDH+1Lkis40qDJnRPHU+9U+7R/9AG6VprqnhRlbYWxgeFEHLyNUzOWHsGxwx/DUOGTyCn92rbtkpjDqyjEPqm6uS6vrs/lYwJ81YyZMFu0rMSIrkvqXD2MTWEHXK1WTvFzkhOJiTP/qZF81XT4r7it2qaNh0aphFxGiJjuc/7UwnpZoNxmznbSmTByb7snrnhTxXRr/Dw0BK3stVmy7cV9UoNDTUKJKG69KkSRNj2qRJk6hQKIztk3l5eca0QiReW/YSnTU+nHSo5CsgEAjunwcWSinhc3YxihaoafkBT5coNBJvn1vJV/NF8N6J/TIZO99nn+5+rGmwq5f3UdVswW4vvMAXR31bKF66WP40/kV2bmKOYBUaevh35wvyfj2D19MUPJbTdirnKD8ItKfCtjknL32Prdza89+nH72oSCkhHOvbkH2+PlPiHODSMJyjIXo0VMPnz59vbJs0COXu3bvNexRFSv6OL1ZW02vsbquiLN08x/27dnLnzvIsu3jgXFG3aYHgSeGBhTLzl6F0NXaOqIw+eaXelNoITm9maJ+URbAURxft0Rl8WmPKq/74PaXklc1tI2oZq93QtOCsYpYp5bedytwfzCY2CipVlRk0+/hjawDPOjqH7avVZo9Fx8s9fu3y5cu0s7MzPWjMS48ePcxbS0B7hh/6m9xrrLnK5ISMpIeqMN+yFxVrl2hrJhBUfB7wLYx5CJ/WEu3+HQmdwh7/WHIF20ZWN2+7hxvf4cV6o7AtC3Du9xOurH8Fll4AhpkZ1756HvXH7UQOqqDPyjj8MtTZvM0C3TG8598Gc05rofJ8A79dXoznLGep5YVhql97LLSZjvCID9GirFH++iQsfsEbY3dp8NznRxEytkGp84Ktob91DgfC43C3XFdRj8SN0zBh2Q10+HgTfp7UqsBMoSxGjx6N77//HnJVGxqNBjExMahdu7Z5671k4qeX3fHa7ufxU9J6DCrLl0Cfh5wcLaRylV0BlcYOdjYlT7uYM2cOVq5caV4TCB4vgYGB+PHHH81rD58HE0pZaL7s1gDjd+cY6t14/1gYPvAtWZnubhmO+r1XIJk2eOY/F/D7O5bOLAbuYtP/eeHllTeg1wRh7ulDmOZTXLb0iV/guacm4PccwOnlH3BlwxAUkdOcbRhR7yX80PATXNwTDEsDlnu5Gzod7fv8LEtKDGKUL2PlsTUYbJjI+wDk7h4L7+5fI/4+p4Mpqw7Cmqur0b8cBiunT59G+/btkZGRATmaxNatW81bSiIHW4bXRe9VTfHfmF0Yf6/5wiNi4cKFWLNmjXlNIHi8+Pn54ZtvvjGvPQIMQnnfZP3KV6srDQJbwhvULMll6BTzECJ1o5I7GHJNL4Iy5lVnDHeWklfG+lfoYqjqK2z4zMLY4m1l2Rv5mquSNp0+LbvHNzucswLc2HH+GUYt7UlXpZr1Rmz5AyP8ddRqc5mbW57lJncHN6eDcwCDf7M2e6SQc+fO0dHR0XiNevfubU4tDUMThTuVNs9wQWzZR5BSTnHnls3cvLk8yxbuOp0i2igFTyQPJJTa8GlsamxTVND+H9+ysMNbyxOf9KBfj3mmVV0MF3SwMQ5KV7oO4YYSBlpK8Z+xs7kn26HnslIEK5eHJ/mYBdebwSUJrsFgtK7K+Oa9c6WOIcjhiX+1oWvA+4wwCLI2kv/pWEUWlSYM3v+ofZIlJqx7lfWrt+WM3fcnOPcnlGancNvnucTyzQElINooBYLy8QD1Mj2uHQlDlNHCRA2fwCDkG7Xor/2MeYv+h/gq9U0J2jM4c1FnvNPUzQIRUEmPW9euy5XDQrLDw3Baa9wDPgGBpZitZuPSpTij/ZRC3RBNGtvIB7uNo3vCkVpu2ymD48giTFiYhqH/mYQAQ/umugnemjcOvjiPr9+Zj6O5pv0eBVLUErwxMwHDftmK2V2q35dtk87g0GpGq7ViU6q/iYRrd6F09YSnFf8p2xcW40pOyQasxZccxH7VveBNhgLBk8T9C6U+AdtCjiLPoG3KKvByl3AxMhKnDqzCtEHjsS7JBoGdOpj2hRa5eaafeOcydn45Gs91eAtrE/PVLQ+njxzFHcOqqgb8Aks3fFUZ7YzlfKQYHF7/Ez4d3Q09x3yLgzfNeVmxnUJWOD4eNQdHvAbg9XaFCmIXOEZe1+DusQUY9+9wZJnTHzYqr55YGLIZM9tXva+LbmifnDx5coFY7tu3D5999pnx5xLJO4uzURLsng6En1X/KRXU6pJNWIsvaqgftMdLIPi7Y44sy8ltbh7rzcrGYUGlLJZjJaVk/jrKm5UMtk4KW7q3HsWlJyzeOCRd4acdTVVzhf0/+G0Zk3Rv7Z7GoGpq074aZ/q8NIvb4oqOfynZdko+zLUtnBxUnWq5HIrKvhzzS7x5u8nyK9DF1N6qUNfkM3MOG7f8VTCMnSx2jeWlNHIPBbORxoFdv3h8L4cX/E0oYhRD5txKYnyBUcx1Wpo9ZacmFmyLT7jJLO1Jfjq07xNrvvLA4yjLTy5Tr1zgxYSi1lFG0tdyYFWDSClo03ZewQyb0pCyrjPq/EXG3y5lgHgFtJ3S6/WUo8kiiySVJoHp3DayDjUer3LD4/KfEvwtKGYUY5iltnIQvQ39Awobevf7mhEFMYyW51b0Y321ggqlC1u9ucZ4b2ZGb39izVceg1CWTvaON1jH0JmgcGDnTx/Ou4afPNupQjIOT2dLB3f2WRbzUK6l4E8mO5xLp0zmkj/qclGaUQzT+MurNalUeXDkPUNXdBc+Zmsbe7YI3k3z69lNPKHmK3+eUEoJ/KGv/CHJ0aRds2DufWhWy0+Q7VQBElNDF/BFT1cGTd35hNmMVVzSDe7oGh9OLtmXsJyUbRSTvv4Vuio1bDvvcuHDVUri2sGerNHtM0aWdOgn0HzlzxHK9E0c29iFNgbL+9ZvcbWlv/1DoeLbThWgi+aacR3o3agrJ/5wSo4RBMyM59Gdv3Lt6jX8ecsenojPLLl2IWXwSsRObly3jpv2nWfqPWG4LvUcf9+4maHx+Y9bibcv7ufmDSE8fq2076zEjCsR3LlxHddt2sfzxTK9ybO7fuXmIwkFxi1SWhQPblnHtVuOFjr/pIdzdjtHKh27c97BCEZERPDo+evFH/y627x8+Df+sm49t4ZeKWZ1aNUo5uYK9qqipMPz35hfxaFj9NJe9Kg/lOtKfWH2k2e+8ucIZWYUD2z9jftOJ8nx36OkAttOFZDJ6FPFb/InE4lJW95h61p12GH4NM6e/S5fDXKjWunMvj+aXxxjRGLy/vkc0MyDPt1Gcsp7wezf3IUuAcEMMYbjOiaFTGXnRvVZ21lFTeMpPJwdz82TOrNxwwZ0q6SgulZxh20peT/nD2hGD59uHDnlPQb3b04XlwAGh5g6F3UJWzm5kzfrezhRqWnCd0OzGLcxmB1qO1CjANVNpzJMq2PsqvHs3qYhXdQKqqrW49PNm7N58xZs/fYWC4+ATEaunshnvb3Z/tVgzhj/HD019nz63f0WpivlMIqRa3Zfdq1EpXM/rrpN5pycx47uLRi8p+y319yP+UpF4E9toxQIHiq5BzixoVxLee3XQkG5tZ5DPFpy1snCrsT0w++ztbMdm03YWfBiMd35OWyl0bDZtHBqs0M5d8RM7krO5v63n6KmRj9On/giX/nyBNNlybv+fR+6yNXVgNlnTb9sIP0w32/tTLtmE7izMFPOaaWhptk0hmuzePCjEZy1O5nZv49jPU0N9pn0Jrv1XciwW7e5ZXQjer3+a0FEqIv6hO00ajZ5t6RIMJdnv3qRHg4+HLEhztRJqjvL2QHysfxmsfBUy2MUo+PleW1po3LnsNXbOcXPg53nn7IufvdhvlIREEIpqDhk/8pXXVV07PwpLxbcvDlMjorlrfxahfYkP/C3o8pjODdZtlNkrecgZwVtun3NZHOSIWpb/0pVqhxc2ebdfbJImtCenU1/jZLur2/NT+HJD/xpp/Lg8KKZmmZJ2XTj14WZMn11fzrLQlvFfzL3ltJWcvvHl+mkqs5Xfy2ucLrzC9jRUcOn3tpVUCbe3sRhHmo6917BlPxzNXvGalrMKlPMtCdn0U8+nypVXVi3/w+8Uq7aSQZ/7COLcJV+XP2oJ7X9BXg8jgkCwePArhNeG9II2n1T0a3n+9gaY5gDZosaDbwK3jWdF7ocP57SwvOlIehmaWOVcwfp8u4K4x8zeZE4djoDcOmF6dOeKXR60uogyXvZVqpkWs8LxfIfT0Hr+RKGFM0Ud0yZQlGYKU5HnEKmwgOD/jUTHYtaaZnJxfHQ48jUNEfrIDtzWj65OLT4axzKbYnhb3WEze1YRGz5AuN6voH1mp6YO3sQquff1fqbuGF4ebpjFTgVHL846kZBaOkKZNn/Awu+HIy65ZpYoEYVJ3v5FFNxI62ECR4VDCGUggqEM7ou2IVtH70A2wMfoZd/W4xZF4PCCaASoveHIk7vhDZdgmApQXlnz+CSTgn3hg0LptHqk8MQFgV49XkVz1kIWm70ZcRLGjRo3Mi4LkXvR2icHk5tuqCIruWdxZlLOijdG6JhfqZSAo6EXwHr9sQrnUsx2ZNicSQiEcqGQQgqUD0zujPY8XscJHUcvh/QEq27D8MHq86h2tAVOH76F7zpaznJVAfDhC6FSgVVGUKpT7mMmFTCoVV3PHvv8crANFtOgrVZtRUBIZSCioXKHV2m/4pjoUvQv9pZfDt6PJYXTJnVIibmKiRVPfj4WCqaDpG79iKObujUrVXBfPbs8CM4rXNEYPsAiznudxG66zDSbQLxfPeaxhRtTAyuSirU8/EpIr66yF3YG0e4deqGVvkZZIYh9KwOjgHt4F/axPk7RxB2Tg9nv0A0vndOb140Ll3RwbbLXISdOY0T4fuwbfVX+PCN7vC+V3cVleHgoACzspBlmM9VCtnHjuKMTo0mgYHl8kc1ocfdrGzDlDo4OlZ8GRFCKagQ6FMPYeWaYwVz9Sv7vo5PJz4DddYlREbnx5QKOQpSyv/aGwWkgKyDWLE2Emg0FKO65/sAGHwIjuGOsg4aPlWoaPrrG/D1z4mo3mccXqtvqqMaIjalnJ29g0NhtV0uycEVaxGJRhg6qjvyc809EYoTGSo0k0VJrriWSN7FSFzKUaJOgwawMaZkIup8nFwiGaUaGrUCCqXhPCzIjcb/tsrlNa8aKYdRjPEhEX4CaQp3tAj0Kr+B9X2Yr1QEhFAKKgQ5B7/F1KlfYNctcwJyEJ+QAlbxRctG+WGZBv6d2qAqL+FoxC05JpLRJ2PnexOxNKkpxi+airb5mqi/Jld/YyHpM3A7zezKfPcclo6dhhDHgVj4776oYb57NP6d0KYqceloBAxNgvIvI3nne5i4NAlNxy/C1IJMJVw5EoGrirrwb1W7dFHS6+Uc5DyiLyL17lXs/LAvBs36HQmGYsiRbIdWlZEXug4rTqZBkrIQf3gF3nm+O6ZsjMUdSwNpa0YxBqRL2LH7EiSlB7zqlGZJUwL3Zb5SATB36ggEf2Mkxv84nL5uDnSq34F9hgxl/66+rNe4B2eFJBbOODGgu8INE9rQ3dWbXfr1Z49AbzYIGsr5e+4xUjb6EKjoVM+H3o3lPAf2YSefOmzW531uibl3wI7JXKWNuyu9u/Rj/x6B9G4QxKHz95gHcedzi9/3dqTSqS9/KmtmQFYoP5SVV6VQUGlXi23eXMlIi57lnMilHNLESd6uNL14rk47vv7ZocLebgtKM4oxoj3D5cP9TYbYyir0HfBfHih7+GQBT5r5ygO+M0cg+CuiQ2bKNSSnZkKq4i5XO53NVdfiSHcSEZ2UBTu3OqjtYlesapV3YCKadVmCp76KxZbBxJWrmajsWQ9uDmVUwqQ7SIxOQpadG+rUdoHdH6mv6TORFJUEXQ0v1HEu6SzuIiUmHumaGqjtUcaxdCfwflBbLHD6GKd2vo0G5a5bl0UGQkY1Q+/fOmLN6ZV42cWcXIERQikQFENC9PyOaDwjE1PDjmK2331USf+C3NkTjA4vroXPkjCsGeLxh9vbMkNnoONzy1H380NYP/zed2BVTP7oNRMIKiCZCAs7C0lTH94N/94iacCp8xysWtgKEW/3xsRNV/DgRv563DqyEK8MXALN+JVY/H9PhkgaEEIpENxL7gmEHs+EPvcYVs/fjEul9hj/XbBDszfWYf+qvkj+sCta9/0UYXfNm8qLFIO14zuhzbDf0HDubvzv464FnVlPAqLqLRAUIwNJUdeQIREKtRNqNahZMLzn789dXD0dB5tmjeF2X0KXhZjTV+Hc1AcuT0oYaYEQSoFAILCCqHoLBAKBFYRQCgQCgRWEUAoEAoEVhFAKBAKBFYRQCgQCgRWEUAoEAoEVhFAKBAKBFYRQCgQCgRWEUAoEAoEVhFAKBAKBFYRQCgQCgRWEUAoEAoEVhFAKBAKBFYRQCgQCgRWEUAoEAoEVhFAKBAKBFYRQCgQCQZkA/w/1tVEv+diODQAAAABJRU5ErkJggg==)"
      ],
      "metadata": {
        "id": "ojeu6kPfxNmu"
      },
      "id": "ojeu6kPfxNmu"
    },
    {
      "cell_type": "markdown",
      "source": [
        "Y además pondremos de umbral mínimo 1.01, ya que: \n",
        "- Lift(X → Y ) = 1, si X e Y son independientes.\n",
        "- Lift(X → Y ) < 1, si X e Y están negativamente correlados\n",
        "- Lift(X → Y ) > 1, si X e Y están positivamente correlados.\n",
        "\n",
        "Por lo que lo que se desea es que estén positivamente correlados, es decir, que en base a la ocurrencia de uno se pueda predecir la presencia de otro. "
      ],
      "metadata": {
        "id": "rbvEW2xHxext"
      },
      "id": "rbvEW2xHxext"
    },
    {
      "cell_type": "code",
      "source": [
        "frequent_itemsets_30_RULES =association_rules(frequent_itemsets_30, metric='lift', min_threshold=1.01)"
      ],
      "metadata": {
        "id": "7_ZpthaBqBGq"
      },
      "id": "7_ZpthaBqBGq",
      "execution_count": 56,
      "outputs": []
    },
    {
      "cell_type": "markdown",
      "source": [
        "Ahora obtengamos todas las reglas cuyo antecedente sea la edad comprendida entre 26-35, para observarlas y poder interpretarlas. Consideramos que la edad es un criterio interesante, ya que poder predecir lo que compran los jóvenes implica a proyecto futuro, observar aquellas calles que sean más frecuentadas por ese rango de edad, de tal manera que los mercados que se instalen ahí, puedan ofrecer productos que llamen la atención, y de esta manera optimizar las ventas. "
      ],
      "metadata": {
        "id": "O6FtIkNNx21X"
      },
      "id": "O6FtIkNNx21X"
    },
    {
      "cell_type": "code",
      "source": [
        "print(frequent_itemsets_30_RULES[frequent_itemsets_30_RULES['antecedents'].apply(lambda x: '26-35' in x)])"
      ],
      "metadata": {
        "id": "1-QcQgpmpnfL",
        "colab": {
          "base_uri": "https://localhost:8080/"
        },
        "outputId": "c9743c4b-b5ed-4a95-9765-298aa2d3fdbb"
      },
      "id": "1-QcQgpmpnfL",
      "execution_count": 57,
      "outputs": [
        {
          "output_type": "stream",
          "name": "stdout",
          "text": [
            "    antecedents consequents  antecedent support  consequent support   support  \\\n",
            "52      (26-35)     (1_PC1)            0.348498            0.905958  0.326600   \n",
            "194     (26-35)     (5_PC1)            0.348498            0.852996  0.301307   \n",
            "421     (26-35)     (8_PC2)            0.348498            0.830929  0.301477   \n",
            "\n",
            "     confidence      lift  leverage  conviction  \n",
            "52     0.937165  1.034446  0.010876    1.496649  \n",
            "194    0.864588  1.013590  0.004040    1.085608  \n",
            "421    0.865075  1.041095  0.011900    1.253082  \n"
          ]
        }
      ]
    },
    {
      "cell_type": "markdown",
      "source": [
        "Vemos que los que tienen una edad comprendida entre los 25 y 36 años, tienden a comprar productos de tipo 1_PC1 o 5_PC1, aunque el umbral mínimo obtenido es relativamente bajo, aunque son positivamente correlados. Además si se observa la confianza, según ese criterio son muy buenas reglas. Otra razón más por la que se debe comparar varios criterios de selección. "
      ],
      "metadata": {
        "id": "Z4mvOszrdpb1"
      },
      "id": "Z4mvOszrdpb1"
    },
    {
      "cell_type": "markdown",
      "source": [
        "Probemos a realizar una comparación de aparición de reglas con un umbral de soporte mínimo de 0.4, y en la creación de reglas, un criterio de confianza bajo un umbral de 0.6. \n",
        "Se predice que la cantidad de reglas generadas sea menor, ya que el umbral de soporte es mayor, y aunque el lift sea un mejor criterio para la obtención de reglas, según se ha visto en clase con las tablas de contingencia, el umbral es mínimo. "
      ],
      "metadata": {
        "id": "Rk9HGGGYzdo7"
      },
      "id": "Rk9HGGGYzdo7"
    },
    {
      "cell_type": "code",
      "source": [
        "print(frequent_itemsets_40_RULES[frequent_itemsets_40_RULES['antecedents'].apply(lambda x: '26-35' in x)])"
      ],
      "metadata": {
        "colab": {
          "base_uri": "https://localhost:8080/"
        },
        "id": "tGg_F-YN0Zc8",
        "outputId": "354c960e-50ba-4aaa-81c2-2bc88522c569"
      },
      "id": "tGg_F-YN0Zc8",
      "execution_count": 58,
      "outputs": [
        {
          "output_type": "stream",
          "name": "stdout",
          "text": [
            "Empty DataFrame\n",
            "Columns: [antecedents, consequents, antecedent support, consequent support, support, confidence, lift, leverage, conviction]\n",
            "Index: []\n"
          ]
        }
      ]
    },
    {
      "cell_type": "markdown",
      "source": [
        "Efectivamente, la aparición de reglas cuyo antecedente sea la edad comprendida entre 26 y 35 años es inexistente. "
      ],
      "metadata": {
        "id": "1spmFRsk0wgS"
      },
      "id": "1spmFRsk0wgS"
    },
    {
      "cell_type": "markdown",
      "source": [
        "### 5. - Dadas las mejores configuraciones. ¿Existen reglas o patrones que se repitan? ¿Podemos generalizar de alguna manera como se comportan los clientes? Expón las conclusiones respaldadas con datos"
      ],
      "metadata": {
        "id": "AbYAOc5ibv82"
      },
      "id": "AbYAOc5ibv82"
    },
    {
      "cell_type": "markdown",
      "source": [
        "Tomaremos como criterio que las mejores configuraciones son aquellas cuyo lift sea mayor que 1.3, y el umbral de soporte en la selección de items frecuentes es 40. \n"
      ],
      "metadata": {
        "id": "2EkZI7x6jBSq"
      },
      "id": "2EkZI7x6jBSq"
    },
    {
      "cell_type": "markdown",
      "source": [
        "Se debe tener en cuenta que cuando se usa el criterio de lift, una de sus carecterísticas es que es simétrico, es decir: Lift(X → Y) = Lift (Y → X) \n",
        "Esto quiere decir que las reglas X → Y van a aparecer también como Y → X. Pongamos un ejemplo: "
      ],
      "metadata": {
        "id": "ocTWAilx3mD6"
      },
      "id": "ocTWAilx3mD6"
    },
    {
      "cell_type": "code",
      "source": [
        "frequent_itemsets_40_RULES =association_rules(frequent_itemsets_40, metric='lift', min_threshold=1.01)"
      ],
      "metadata": {
        "id": "74OAQ72l5vdu"
      },
      "id": "74OAQ72l5vdu",
      "execution_count": 59,
      "outputs": []
    },
    {
      "cell_type": "code",
      "source": [
        "print(frequent_itemsets_40_RULES[frequent_itemsets_40_RULES['antecedents'].apply(lambda x: 'M' in x)])"
      ],
      "metadata": {
        "id": "yyI1yoH536Ly",
        "outputId": "cf682e8c-bf85-43ed-808e-9180f67f3443",
        "colab": {
          "base_uri": "https://localhost:8080/"
        }
      },
      "id": "yyI1yoH536Ly",
      "execution_count": 60,
      "outputs": [
        {
          "output_type": "stream",
          "name": "stdout",
          "text": [
            "             antecedents             consequents  antecedent support  \\\n",
            "44                   (M)                 (1_PC1)            0.717196   \n",
            "183                  (M)                 (2_PC2)            0.717196   \n",
            "212                  (M)                 (5_PC2)            0.717196   \n",
            "272                  (M)                (15_PC2)            0.717196   \n",
            "287                  (M)                (16_PC2)            0.717196   \n",
            "...                  ...                     ...                 ...   \n",
            "12977  (5_PC1, 8_PC1, M)         (14_PC2, 8_PC2)            0.494653   \n",
            "12980        (14_PC2, M)   (8_PC1, 8_PC2, 5_PC1)            0.527924   \n",
            "12983         (8_PC2, M)  (14_PC2, 5_PC1, 8_PC1)            0.596673   \n",
            "12985         (8_PC1, M)  (14_PC2, 8_PC2, 5_PC1)            0.550331   \n",
            "12987         (5_PC1, M)  (14_PC2, 8_PC2, 8_PC1)            0.608216   \n",
            "\n",
            "       consequent support   support  confidence      lift  leverage  \\\n",
            "44               0.905958  0.663724    0.925444  1.021508  0.013975   \n",
            "183              0.729588  0.551859    0.769467  1.054661  0.028602   \n",
            "212              0.592938  0.440502    0.614201  1.035860  0.015250   \n",
            "272              0.656765  0.505177    0.704379  1.072498  0.034149   \n",
            "287              0.723986  0.539127    0.751716  1.038302  0.019888   \n",
            "...                   ...       ...         ...       ...       ...   \n",
            "12977            0.671533  0.402309    0.813315  1.211132  0.070133   \n",
            "12980            0.634018  0.402309    0.762058  1.201950  0.067595   \n",
            "12983            0.613308  0.402309    0.674253  1.099370  0.036364   \n",
            "12985            0.642506  0.402309    0.731030  1.137780  0.048718   \n",
            "12987            0.593448  0.402309    0.661457  1.114600  0.041364   \n",
            "\n",
            "       conviction  \n",
            "44       1.261354  \n",
            "183      1.172991  \n",
            "212      1.055114  \n",
            "272      1.161065  \n",
            "287      1.111688  \n",
            "...           ...  \n",
            "12977    1.759473  \n",
            "12980    1.538114  \n",
            "12983    1.187092  \n",
            "12985    1.329125  \n",
            "12987    1.200888  \n",
            "\n",
            "[691 rows x 9 columns]\n"
          ]
        }
      ]
    },
    {
      "cell_type": "code",
      "source": [
        "print(frequent_itemsets_40_RULES[frequent_itemsets_40_RULES['consequents'].apply(lambda x: 'M' in x)])"
      ],
      "metadata": {
        "id": "EYeW1nkh4MYT",
        "outputId": "58c865a4-ec08-4c6b-db8c-592b54c567d2",
        "colab": {
          "base_uri": "https://localhost:8080/"
        }
      },
      "id": "EYeW1nkh4MYT",
      "execution_count": 61,
      "outputs": [
        {
          "output_type": "stream",
          "name": "stdout",
          "text": [
            "          antecedents                consequents  antecedent support  \\\n",
            "45            (1_PC1)                        (M)            0.905958   \n",
            "182           (2_PC2)                        (M)            0.729588   \n",
            "213           (5_PC2)                        (M)            0.592938   \n",
            "273          (15_PC2)                        (M)            0.656765   \n",
            "286          (16_PC2)                        (M)            0.723986   \n",
            "...               ...                        ...                 ...   \n",
            "12986  (8_PC1, 5_PC1)         (14_PC2, 8_PC2, M)            0.692073   \n",
            "12988        (14_PC2)   (5_PC1, 8_PC1, 8_PC2, M)            0.757936   \n",
            "12989         (8_PC2)  (5_PC1, 14_PC2, M, 8_PC1)            0.830929   \n",
            "12990         (8_PC1)  (5_PC1, 14_PC2, 8_PC2, M)            0.767951   \n",
            "12991         (5_PC1)  (14_PC2, 8_PC2, M, 8_PC1)            0.852996   \n",
            "\n",
            "       consequent support   support  confidence      lift  leverage  \\\n",
            "45               0.717196  0.663724    0.732621  1.021508  0.013975   \n",
            "182              0.717196  0.551859    0.756398  1.054661  0.028602   \n",
            "213              0.717196  0.440502    0.742914  1.035860  0.015250   \n",
            "273              0.717196  0.505177    0.769191  1.072498  0.034149   \n",
            "286              0.717196  0.539127    0.744666  1.038302  0.019888   \n",
            "...                   ...       ...         ...       ...       ...   \n",
            "12986            0.470718  0.402309    0.581310  1.234943  0.076538   \n",
            "12988            0.454422  0.402309    0.530795  1.168066  0.057886   \n",
            "12989            0.428959  0.402309    0.484168  1.128702  0.045874   \n",
            "12990            0.450348  0.402309    0.523873  1.163262  0.056463   \n",
            "12991            0.416907  0.402309    0.471642  1.131287  0.046688   \n",
            "\n",
            "       conviction  \n",
            "45       1.057692  \n",
            "182      1.160929  \n",
            "213      1.100039  \n",
            "273      1.225274  \n",
            "286      1.107585  \n",
            "...           ...  \n",
            "12986    1.264137  \n",
            "12988    1.162771  \n",
            "12989    1.107027  \n",
            "12990    1.154422  \n",
            "12991    1.103594  \n",
            "\n",
            "[691 rows x 9 columns]\n"
          ]
        }
      ]
    },
    {
      "cell_type": "markdown",
      "source": [
        "Se puede observar cómo si (2_PC2, M) → (15_PC3), pues entonces aparece también (15_PC3) → (2_PC2, M), obviamente, con el mismo Lift, debido a sus características. Por lo que repetirse como tal no se repiten, sin embargo, busca todas las reglas posibles para un itemset dado. \n",
        "\n",
        "Esta carecterística en concreto implica que, en un caso idílico en el que M → 1_PC1, ya sabemos que si es hombre, el producto que comprará seguro es de categoría uno de la primera categoría, pero según está característica de este criterio, si se compra un producto que pertenece a 1_PC1, seguro va a ser un hombre, ya que 1_PC1 → M. \n"
      ],
      "metadata": {
        "id": "IlNPSfXA4JJu"
      },
      "id": "IlNPSfXA4JJu"
    },
    {
      "cell_type": "markdown",
      "source": [
        "Dado a lo que se ha explicado anteriormente sobre la cantidad de información recogida de las mujeres, con estas configuraciones, no se encuentra ninguna información sobre ellas, por lo que no se puede concluir, sin embargo, sobre los hombres se puede decir que sólo se ha obtenido información sobre el tipo de producto que compran, no de la edad. "
      ],
      "metadata": {
        "id": "ZkrPEKm36jaf"
      },
      "id": "ZkrPEKm36jaf"
    },
    {
      "cell_type": "markdown",
      "source": [
        "##Evaluación y Despliegue\n",
        "\n",
        "Se ha ido haciendo en cada apartado."
      ],
      "metadata": {
        "id": "r83Nwp6yJjpS"
      },
      "id": "r83Nwp6yJjpS"
    }
  ],
  "metadata": {
    "kernelspec": {
      "display_name": "Python 3 (ipykernel)",
      "language": "python",
      "name": "python3"
    },
    "language_info": {
      "codemirror_mode": {
        "name": "ipython",
        "version": 3
      },
      "file_extension": ".py",
      "mimetype": "text/x-python",
      "name": "python",
      "nbconvert_exporter": "python",
      "pygments_lexer": "ipython3",
      "version": "3.8.8"
    },
    "colab": {
      "provenance": []
    }
  },
  "nbformat": 4,
  "nbformat_minor": 5
}