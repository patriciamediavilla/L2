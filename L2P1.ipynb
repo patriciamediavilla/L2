{
  "cells": [
    {
      "cell_type": "markdown",
      "source": [
        "PILAR ARIAS, YEDRA MARTÍN, PATRICIA MEDIAVILLA, AMAYA SARASA\n",
        "\n",
        "<GRUPO 9>"
      ],
      "metadata": {
        "id": "AGMZqcaTBYza"
      },
      "id": "AGMZqcaTBYza"
    },
    {
      "cell_type": "markdown",
      "source": [
        "#Práctica 1"
      ],
      "metadata": {
        "id": "LZljv2vyBktS"
      },
      "id": "LZljv2vyBktS"
    },
    {
      "cell_type": "markdown",
      "source": [
        "##Introducción"
      ],
      "metadata": {
        "id": "qkpnyf1hBoeg"
      },
      "id": "qkpnyf1hBoeg"
    },
    {
      "cell_type": "markdown",
      "source": [
        "Esta es la primera práctica del segundo laboratorio. Dada una base de datos en formato .csv, se nos pide contestar a una serie de cuestiones. Para ello, lo priemro que debemos hacer es cargar y leer la base de datos:"
      ],
      "metadata": {
        "id": "PIHHvmeOEPVQ"
      },
      "id": "PIHHvmeOEPVQ"
    },
    {
      "cell_type": "code",
      "source": [
        "#!pip install mlxtend==0.13.0"
      ],
      "metadata": {
        "id": "LiCU5tsXLmkm"
      },
      "id": "LiCU5tsXLmkm",
      "execution_count": 61,
      "outputs": []
    },
    {
      "cell_type": "code",
      "execution_count": 62,
      "id": "20a07e6b",
      "metadata": {
        "id": "20a07e6b",
        "outputId": "9a007948-b518-4574-d9cd-d502be06ab02",
        "colab": {
          "base_uri": "https://localhost:8080/",
          "height": 669
        }
      },
      "outputs": [
        {
          "output_type": "stream",
          "name": "stdout",
          "text": [
            "<class 'pandas.core.frame.DataFrame'>\n",
            "RangeIndex: 233599 entries, 0 to 233598\n",
            "Data columns (total 11 columns):\n",
            " #   Column                      Non-Null Count   Dtype  \n",
            "---  ------                      --------------   -----  \n",
            " 0   User_ID                     233599 non-null  int64  \n",
            " 1   Product_ID                  233599 non-null  object \n",
            " 2   Gender                      233599 non-null  object \n",
            " 3   Age                         233599 non-null  object \n",
            " 4   Occupation                  233599 non-null  int64  \n",
            " 5   City_Category               233599 non-null  object \n",
            " 6   Stay_In_Current_City_Years  233599 non-null  object \n",
            " 7   Marital_Status              233599 non-null  int64  \n",
            " 8   Product_Category_1          233599 non-null  int64  \n",
            " 9   Product_Category_2          161255 non-null  float64\n",
            " 10  Product_Category_3          71037 non-null   float64\n",
            "dtypes: float64(2), int64(4), object(5)\n",
            "memory usage: 19.6+ MB\n"
          ]
        },
        {
          "output_type": "execute_result",
          "data": {
            "text/plain": [
              "   User_ID Product_ID Gender    Age  Occupation City_Category  \\\n",
              "0  1000004  P00128942      M  46-50           7             B   \n",
              "1  1000009  P00113442      M  26-35          17             C   \n",
              "2  1000010  P00288442      F  36-45           1             B   \n",
              "3  1000010  P00145342      F  36-45           1             B   \n",
              "4  1000011  P00053842      F  26-35           1             C   \n",
              "\n",
              "  Stay_In_Current_City_Years  Marital_Status  Product_Category_1  \\\n",
              "0                          2               1                   1   \n",
              "1                          0               0                   3   \n",
              "2                         4+               1                   5   \n",
              "3                         4+               1                   4   \n",
              "4                          1               0                   4   \n",
              "\n",
              "   Product_Category_2  Product_Category_3  \n",
              "0                11.0                 NaN  \n",
              "1                 5.0                 NaN  \n",
              "2                14.0                 NaN  \n",
              "3                 9.0                 NaN  \n",
              "4                 5.0                12.0  "
            ],
            "text/html": [
              "\n",
              "  <div id=\"df-40c252c9-d578-4650-8825-148ee41287c0\">\n",
              "    <div class=\"colab-df-container\">\n",
              "      <div>\n",
              "<style scoped>\n",
              "    .dataframe tbody tr th:only-of-type {\n",
              "        vertical-align: middle;\n",
              "    }\n",
              "\n",
              "    .dataframe tbody tr th {\n",
              "        vertical-align: top;\n",
              "    }\n",
              "\n",
              "    .dataframe thead th {\n",
              "        text-align: right;\n",
              "    }\n",
              "</style>\n",
              "<table border=\"1\" class=\"dataframe\">\n",
              "  <thead>\n",
              "    <tr style=\"text-align: right;\">\n",
              "      <th></th>\n",
              "      <th>User_ID</th>\n",
              "      <th>Product_ID</th>\n",
              "      <th>Gender</th>\n",
              "      <th>Age</th>\n",
              "      <th>Occupation</th>\n",
              "      <th>City_Category</th>\n",
              "      <th>Stay_In_Current_City_Years</th>\n",
              "      <th>Marital_Status</th>\n",
              "      <th>Product_Category_1</th>\n",
              "      <th>Product_Category_2</th>\n",
              "      <th>Product_Category_3</th>\n",
              "    </tr>\n",
              "  </thead>\n",
              "  <tbody>\n",
              "    <tr>\n",
              "      <th>0</th>\n",
              "      <td>1000004</td>\n",
              "      <td>P00128942</td>\n",
              "      <td>M</td>\n",
              "      <td>46-50</td>\n",
              "      <td>7</td>\n",
              "      <td>B</td>\n",
              "      <td>2</td>\n",
              "      <td>1</td>\n",
              "      <td>1</td>\n",
              "      <td>11.0</td>\n",
              "      <td>NaN</td>\n",
              "    </tr>\n",
              "    <tr>\n",
              "      <th>1</th>\n",
              "      <td>1000009</td>\n",
              "      <td>P00113442</td>\n",
              "      <td>M</td>\n",
              "      <td>26-35</td>\n",
              "      <td>17</td>\n",
              "      <td>C</td>\n",
              "      <td>0</td>\n",
              "      <td>0</td>\n",
              "      <td>3</td>\n",
              "      <td>5.0</td>\n",
              "      <td>NaN</td>\n",
              "    </tr>\n",
              "    <tr>\n",
              "      <th>2</th>\n",
              "      <td>1000010</td>\n",
              "      <td>P00288442</td>\n",
              "      <td>F</td>\n",
              "      <td>36-45</td>\n",
              "      <td>1</td>\n",
              "      <td>B</td>\n",
              "      <td>4+</td>\n",
              "      <td>1</td>\n",
              "      <td>5</td>\n",
              "      <td>14.0</td>\n",
              "      <td>NaN</td>\n",
              "    </tr>\n",
              "    <tr>\n",
              "      <th>3</th>\n",
              "      <td>1000010</td>\n",
              "      <td>P00145342</td>\n",
              "      <td>F</td>\n",
              "      <td>36-45</td>\n",
              "      <td>1</td>\n",
              "      <td>B</td>\n",
              "      <td>4+</td>\n",
              "      <td>1</td>\n",
              "      <td>4</td>\n",
              "      <td>9.0</td>\n",
              "      <td>NaN</td>\n",
              "    </tr>\n",
              "    <tr>\n",
              "      <th>4</th>\n",
              "      <td>1000011</td>\n",
              "      <td>P00053842</td>\n",
              "      <td>F</td>\n",
              "      <td>26-35</td>\n",
              "      <td>1</td>\n",
              "      <td>C</td>\n",
              "      <td>1</td>\n",
              "      <td>0</td>\n",
              "      <td>4</td>\n",
              "      <td>5.0</td>\n",
              "      <td>12.0</td>\n",
              "    </tr>\n",
              "  </tbody>\n",
              "</table>\n",
              "</div>\n",
              "      <button class=\"colab-df-convert\" onclick=\"convertToInteractive('df-40c252c9-d578-4650-8825-148ee41287c0')\"\n",
              "              title=\"Convert this dataframe to an interactive table.\"\n",
              "              style=\"display:none;\">\n",
              "        \n",
              "  <svg xmlns=\"http://www.w3.org/2000/svg\" height=\"24px\"viewBox=\"0 0 24 24\"\n",
              "       width=\"24px\">\n",
              "    <path d=\"M0 0h24v24H0V0z\" fill=\"none\"/>\n",
              "    <path d=\"M18.56 5.44l.94 2.06.94-2.06 2.06-.94-2.06-.94-.94-2.06-.94 2.06-2.06.94zm-11 1L8.5 8.5l.94-2.06 2.06-.94-2.06-.94L8.5 2.5l-.94 2.06-2.06.94zm10 10l.94 2.06.94-2.06 2.06-.94-2.06-.94-.94-2.06-.94 2.06-2.06.94z\"/><path d=\"M17.41 7.96l-1.37-1.37c-.4-.4-.92-.59-1.43-.59-.52 0-1.04.2-1.43.59L10.3 9.45l-7.72 7.72c-.78.78-.78 2.05 0 2.83L4 21.41c.39.39.9.59 1.41.59.51 0 1.02-.2 1.41-.59l7.78-7.78 2.81-2.81c.8-.78.8-2.07 0-2.86zM5.41 20L4 18.59l7.72-7.72 1.47 1.35L5.41 20z\"/>\n",
              "  </svg>\n",
              "      </button>\n",
              "      \n",
              "  <style>\n",
              "    .colab-df-container {\n",
              "      display:flex;\n",
              "      flex-wrap:wrap;\n",
              "      gap: 12px;\n",
              "    }\n",
              "\n",
              "    .colab-df-convert {\n",
              "      background-color: #E8F0FE;\n",
              "      border: none;\n",
              "      border-radius: 50%;\n",
              "      cursor: pointer;\n",
              "      display: none;\n",
              "      fill: #1967D2;\n",
              "      height: 32px;\n",
              "      padding: 0 0 0 0;\n",
              "      width: 32px;\n",
              "    }\n",
              "\n",
              "    .colab-df-convert:hover {\n",
              "      background-color: #E2EBFA;\n",
              "      box-shadow: 0px 1px 2px rgba(60, 64, 67, 0.3), 0px 1px 3px 1px rgba(60, 64, 67, 0.15);\n",
              "      fill: #174EA6;\n",
              "    }\n",
              "\n",
              "    [theme=dark] .colab-df-convert {\n",
              "      background-color: #3B4455;\n",
              "      fill: #D2E3FC;\n",
              "    }\n",
              "\n",
              "    [theme=dark] .colab-df-convert:hover {\n",
              "      background-color: #434B5C;\n",
              "      box-shadow: 0px 1px 3px 1px rgba(0, 0, 0, 0.15);\n",
              "      filter: drop-shadow(0px 1px 2px rgba(0, 0, 0, 0.3));\n",
              "      fill: #FFFFFF;\n",
              "    }\n",
              "  </style>\n",
              "\n",
              "      <script>\n",
              "        const buttonEl =\n",
              "          document.querySelector('#df-40c252c9-d578-4650-8825-148ee41287c0 button.colab-df-convert');\n",
              "        buttonEl.style.display =\n",
              "          google.colab.kernel.accessAllowed ? 'block' : 'none';\n",
              "\n",
              "        async function convertToInteractive(key) {\n",
              "          const element = document.querySelector('#df-40c252c9-d578-4650-8825-148ee41287c0');\n",
              "          const dataTable =\n",
              "            await google.colab.kernel.invokeFunction('convertToInteractive',\n",
              "                                                     [key], {});\n",
              "          if (!dataTable) return;\n",
              "\n",
              "          const docLinkHtml = 'Like what you see? Visit the ' +\n",
              "            '<a target=\"_blank\" href=https://colab.research.google.com/notebooks/data_table.ipynb>data table notebook</a>'\n",
              "            + ' to learn more about interactive tables.';\n",
              "          element.innerHTML = '';\n",
              "          dataTable['output_type'] = 'display_data';\n",
              "          await google.colab.output.renderOutput(dataTable, element);\n",
              "          const docLink = document.createElement('div');\n",
              "          docLink.innerHTML = docLinkHtml;\n",
              "          element.appendChild(docLink);\n",
              "        }\n",
              "      </script>\n",
              "    </div>\n",
              "  </div>\n",
              "  "
            ]
          },
          "metadata": {},
          "execution_count": 62
        }
      ],
      "source": [
        "#Importar librerías\n",
        "#!apt install mlxtend\n",
        "import numpy as np #numpy\n",
        "import pandas as pd #pandas\n",
        "import sklearn as sk #scikit-learn\n",
        "import matplotlib.pyplot as plt #gráfica Matplotlib\n",
        "#from mlxtend.frequent_patterns import apriori\n",
        "#from apyori import apriori #apriori\n",
        "from mlxtend.preprocessing import TransactionEncoder\n",
        "#from mlxtend.frequent_patterns import association_rules\n",
        "from mlxtend.frequent_patterns import apriori, association_rules\n",
        "#from mlxtend.frequent_patterns import frequent_patterns\n",
        "#from mlxtend import frequent_patterns\n",
        "#from mlxtend.frequent_patterns import frequent_patterns\n",
        "\n",
        "#Importamos la base de datos\n",
        "df = pd.read_csv('BlackFriday.csv',sep=',')\n",
        "df.info()\n",
        "df.head()"
      ]
    },
    {
      "cell_type": "markdown",
      "source": [
        "----------------"
      ],
      "metadata": {
        "id": "NxCH3zsKRPYw"
      },
      "id": "NxCH3zsKRPYw"
    },
    {
      "cell_type": "markdown",
      "source": [
        "----------------"
      ],
      "metadata": {
        "id": "XS1dcdO-RRjJ"
      },
      "id": "XS1dcdO-RRjJ"
    },
    {
      "cell_type": "markdown",
      "source": [
        "Subimos la base de datos, df.info nos aporta la infomación que contiene la base de datos, vemos el tipo, la cantidad de las variables con las que trabajamos... y .head vamos a ver que forma tiene la base de datos y las primeras filas de esta."
      ],
      "metadata": {
        "id": "qbbms6xOFjY-"
      },
      "id": "qbbms6xOFjY-"
    },
    {
      "cell_type": "markdown",
      "source": [
        "Según se ha estudiado en clase, encontramos dos métodos para afrontarlo. Nos decantaremos por CRISP-DM. Las siglas para: CRoss-Industry Standard Process for Data Mining. \n",
        "\n",
        "Es un modelo de proceso de minería de datos que se utiliza en la industria. Es un marco de trabajo que define un proceso estandarizado para llevar a cabo proyectos de minería de datos, desde la definición del problema hasta la implementación y evaluación del resultado. Los seis pasos que componen Crisp-DM son los siguientes:\n",
        "\n",
        "- Comprensión de los negocios y definición del problema: comprender la naturaleza del problema y los objetivos de negocio.\n",
        "\n",
        "- Comprensión de los datos: recopilación inicial, descripción y exploración  de datos.\n",
        "\n",
        "- Preparación de los datos: Selección, limpieza, construcción, integración, formateo de los datos.\n",
        "\n",
        "- Modelado: aplicar las técnicas de minería de datos a los dataset.\n",
        "\n",
        "- Evaluación: determinar si los resultados son útiles a las necesidades del negocio.\n",
        "\n",
        "- Despliegue: explotar utilidad de los modelos, integrándolos en las tareas de toma de decisiones de la organización -> Call to Action. "
      ],
      "metadata": {
        "id": "Tv5kjZ4_Fz4N"
      },
      "id": "Tv5kjZ4_Fz4N"
    },
    {
      "cell_type": "markdown",
      "source": [
        "##Comprensión de los negocios y definición del problema"
      ],
      "metadata": {
        "id": "1kgJlhl2JYHb"
      },
      "id": "1kgJlhl2JYHb"
    },
    {
      "cell_type": "markdown",
      "source": [
        "La librería se usará de la siguiente manera:\n",
        "1) Empezaremos obteniendo los itemsets frecuentes para k=1. En este punto necesitaremos obtener el\n",
        "soporte de los itemset. Por lo tanto, se tendrá que usar un método que dado un itemset devuelva su\n",
        "soporte.\n",
        "\n",
        "2) Para k≥2.\n",
        "a. Mostrar los itemset frecuentes candidatos y su soporte.\n",
        "\n",
        "3) Repetir el proceso 2 hasta que no se generen nuevos itemsets frecuentes.\n",
        "\n",
        "4) Mostrar todas las posibles reglas con la confianza de cada una de ellas.\n",
        "\n",
        "5) Listar todas las reglas que sean de alta confianza.\n",
        "\n",
        "6) Usar los siguientes métodos. Dado un antecesor, devolver todas las reglas que contengan a dicho\n",
        "antecesor. Dado un umbral mínimo devolver todas las reglas que cumplan con dicha confianza.\n",
        "\n",
        "7) Utiliza las representaciones gráficas que consideres adecuadas para representar las reglas obtenidas\n",
        "y obtener conclusiones a partir de los datos.\n",
        "\n",
        "A partir de lo anterior de pide:\n",
        "- Prueba al menos tres configuraciones de soporte y frecuencia para cada género, edad y tipo de producto.\n",
        "- ¿Qué diferencias hay entre usar soporte y frecuencia? Respalda la respuesta con datos \n",
        "- ¿Qué tipo reglas desaparecen según la configuración y categorías (género, edad y tipo de producto)\n",
        "consideradas? ¿Por qué? \n",
        "- Para una de las configuraciones, interpreta algunas de las reglas que te hayan resultado interesantes\n",
        "obtenidas usando la clase association_rules y un par de configuraciones cambiando la variable metric y\n",
        "min_threshold. Justifica los resultados. \n",
        "- Dadas las mejores configuraciones. ¿Existen reglas o patrones que se repitan? ¿Podemos generalizar de\n",
        "alguna manera como se comportan los clientes? Expón las conclusiones respaldadas con datos "
      ],
      "metadata": {
        "id": "YJ8oPL4yJvxD"
      },
      "id": "YJ8oPL4yJvxD"
    },
    {
      "cell_type": "markdown",
      "source": [
        "## Comprensión de los datos\n",
        "\n",
        "La base de datos que utilizaremos consta de 233599 observaciones. Teniendo en ceunta que el trabajo que vamos a realizar, utilizanod el algoritmo apriori, queremos sacar regalas y con todos estos datos, lo que nos hace pensar es que vamos a encontrar muchísimas reglas a partir de estos datos.\n",
        "\n",
        "La clave está en cuales son las que más nos interesan, basandonos en su confianza, y una vez hallado esto debemos tomar decisiones para que usando estas reglas vendamos el mayor número de producto, para aumentar nuestras gananzas.\n",
        "\n",
        "Existen 11 tipos de atributos distintos: \n",
        "\n",
        "- User_ID: número para identificar al usuario.\n",
        "- Product_ID: número para identificar el producto.\n",
        "- Gender: Género del comprador.\t\n",
        "- Age: Edad del comprador.\n",
        "- Occupation: A lo que se dedica el comprador, ya pasasdo a categórica.\n",
        "- City_Category: Categoría de la ciudad donde reside el user.\n",
        "- Stay_In_Current_City_Years: El tiempo que lleva en la ciudad.\n",
        "- Marital_Status: Estado civil.\n",
        "- Product_Category_1: La categoría principal del producto.\n",
        "- Product_Category_2: Siguente categoría.\n",
        "- Product_Category_3: Última categoría del producto.\n",
        "\n"
      ],
      "metadata": {
        "id": "JSoBLVbJGEfo"
      },
      "id": "JSoBLVbJGEfo"
    },
    {
      "cell_type": "markdown",
      "source": [
        "##Preparación de los datos"
      ],
      "metadata": {
        "id": "orLg9OLzJKT1"
      },
      "id": "orLg9OLzJKT1"
    },
    {
      "cell_type": "markdown",
      "source": [
        "Se procede a estudiar la cantidad de NaN por cada atributo."
      ],
      "metadata": {
        "id": "nuMgVvsMKT-T"
      },
      "id": "nuMgVvsMKT-T"
    },
    {
      "cell_type": "code",
      "source": [
        "usernan = df['User_ID'].isna().sum()\n",
        "print(f\"La cantidad de NaN que existen en la variable User_ID es:{usernan}\")\n",
        "productnan = df['Product_ID'].isna().sum()\n",
        "print(f\"La cantidad de NaN que existen en la variable Product_ID es:{productnan}\")\n",
        "gendernan = df['Gender'].isna().sum()\n",
        "print(f\"La cantidad de NaN que existen en la variable Gender es:{gendernan}\")\n",
        "agenan = df['Age'].isna().sum()\n",
        "print(f\"La cantidad de NaN que existen en la variable Age es:{agenan}\")\n",
        "ocupationan = df['Occupation'].isna().sum()\n",
        "print(f\"La cantidad de NaN que existen en la variable Occupation es:{ocupationan}\")\n",
        "City_Categorynan = df['City_Category'].isna().sum()\n",
        "print(f\"La cantidad de NaN que existen en la variable City_Category es:{City_Categorynan}\")\n",
        "Stay_In_Current_City_Yearsnan = df['Stay_In_Current_City_Years'].isna().sum()\n",
        "print(f\"La cantidad de NaN que existen en la variable Stay_In_Current_City_Years es:{Stay_In_Current_City_Yearsnan}\")\n",
        "Marital_Statusnan = df['Marital_Status'].isna().sum()\n",
        "print(f\"La cantidad de NaN que existen en la variable Marital_Status es:{Marital_Statusnan}\")\n",
        "Product_Category_1nan = df['Product_Category_1'].isna().sum()\n",
        "print(f\"La cantidad de NaN que existen en la variable Product_Category_1 es:{Product_Category_1nan}\")\n",
        "Product_Category_2nan = df['Product_Category_2'].isna().sum()\n",
        "print(f\"La cantidad de NaN que existen en la variable Product_Category_2 es:{Product_Category_2nan}\")\n",
        "Product_Category_3nan = df['Product_Category_3'].isna().sum()\n",
        "print(f\"La cantidad de NaN que existen en la variable Product_Category_3 es:{Product_Category_3nan}\")"
      ],
      "metadata": {
        "id": "10J_SgMzKWKX",
        "outputId": "0451a716-91cb-4019-9329-6f29e84f38be",
        "colab": {
          "base_uri": "https://localhost:8080/"
        }
      },
      "id": "10J_SgMzKWKX",
      "execution_count": 63,
      "outputs": [
        {
          "output_type": "stream",
          "name": "stdout",
          "text": [
            "La cantidad de NaN que existen en la variable User_ID es:0\n",
            "La cantidad de NaN que existen en la variable Product_ID es:0\n",
            "La cantidad de NaN que existen en la variable Gender es:0\n",
            "La cantidad de NaN que existen en la variable Age es:0\n",
            "La cantidad de NaN que existen en la variable Occupation es:0\n",
            "La cantidad de NaN que existen en la variable City_Category es:0\n",
            "La cantidad de NaN que existen en la variable Stay_In_Current_City_Years es:0\n",
            "La cantidad de NaN que existen en la variable Marital_Status es:0\n",
            "La cantidad de NaN que existen en la variable Product_Category_1 es:0\n",
            "La cantidad de NaN que existen en la variable Product_Category_2 es:72344\n",
            "La cantidad de NaN que existen en la variable Product_Category_3 es:162562\n"
          ]
        }
      ]
    },
    {
      "cell_type": "markdown",
      "source": [
        "Se observa que en Product_Category_2 y Product_Category_3, el número de NaN es elevado. Esto es porque los productos puede que no tengan segunda o tercera clasificación. \n",
        "Para lidiar con la falta de datos, se rellenan con 0, ya que no hay ninguna categoría que sea representado con este número. Se ha considerado eliminar los registros que tienen  NaN, pero estaríamos eliminando por tanto posibles reglas de aquellos productos que sí que tienen categoría 1. "
      ],
      "metadata": {
        "id": "nL9lVc9WqwK4"
      },
      "id": "nL9lVc9WqwK4"
    },
    {
      "cell_type": "code",
      "source": [
        "# Rellenamos los valores na con 0, ya que no tiene categoría\n",
        "df = df.fillna(0)\n",
        "\n",
        "# Quitamos los duplicados\n",
        "df = df.drop_duplicates()"
      ],
      "metadata": {
        "id": "fs-1bTpwCxfh"
      },
      "id": "fs-1bTpwCxfh",
      "execution_count": 64,
      "outputs": []
    },
    {
      "cell_type": "markdown",
      "source": [
        "##Modelado"
      ],
      "metadata": {
        "id": "CwBk2i4EJRBH"
      },
      "id": "CwBk2i4EJRBH"
    },
    {
      "cell_type": "markdown",
      "source": [
        "En este proceso de la metodología Crisp-DM vamos a modelar los datos de manera que puedan ser tratados de manera correcta por la técnica de data mining seleccionada. \n",
        "Para ello, vamos a agrupar los datos por atributos en función de User_ID y Product_Category_1, para poder identificar la compra y atributos de cada usuario. \n",
        "\n",
        "Una transacción se considera un usuario, en la cual se recopila información sobre: \n",
        "-  La identificación del producto\n",
        "-  Género del cliente \n",
        "-  Edad \n",
        "-  Ocupación \n",
        "-  Ciudad de residencia\n",
        "-  Años viviendo en la ciudad\n",
        "-  Estado civil \n",
        "-  Categoría 1 del producto\n",
        "-  Categoría 2 del producto\n",
        "-  Categoría 3 del producto\n",
        "\n",
        "De esta manera se podrán obtener reglas eficientes que definan modelos con mayor confianza con el fin de optimizar la venta de productos en el Black Friday.  \n",
        "\n",
        "Otro de los motivos por lo que los datos se han agrupado, es por la correcta interpretación de las reglas, ya que si no se agrupan, no se podrán identificar posibles reglas, porque las compras se consideran de un sólo producto, y no se podrían hacer posibles relaciones de ocurrencia entre ellos. "
      ],
      "metadata": {
        "id": "Pil8emFTraCK"
      },
      "id": "Pil8emFTraCK"
    },
    {
      "cell_type": "code",
      "source": [
        "df_User_Product = (df\n",
        "        .groupby(['User_ID', 'Product_ID'])['Product_Category_1']\n",
        "        .sum()\n",
        "        .apply(lambda x:x>0)\n",
        "        .unstack()\n",
        "        .fillna(False)\n",
        "        .reset_index()\n",
        "        .set_index('User_ID')\n",
        "          )"
      ],
      "metadata": {
        "id": "wiRzS_yeW-c6"
      },
      "id": "wiRzS_yeW-c6",
      "execution_count": 65,
      "outputs": []
    },
    {
      "cell_type": "code",
      "source": [
        "df_Gender = (df\n",
        "            .groupby(['User_ID','Gender'])['Product_Category_1']\n",
        "            .sum()\n",
        "            .apply(lambda x: x>0)\n",
        "            .unstack()\n",
        "            .fillna(False)\n",
        "            .reset_index()\n",
        "            .set_index('User_ID')\n",
        ")"
      ],
      "metadata": {
        "id": "TKPlOazp649m"
      },
      "id": "TKPlOazp649m",
      "execution_count": 66,
      "outputs": []
    },
    {
      "cell_type": "code",
      "source": [
        "df_Age = (df\n",
        "        .groupby(['User_ID','Age'])['Product_Category_1']\n",
        "        .sum()\n",
        "        .apply(lambda x: x>0)\n",
        "        .unstack()\n",
        "        .fillna(False)\n",
        "        .reset_index()\n",
        "        .set_index('User_ID')\n",
        ")"
      ],
      "metadata": {
        "id": "p7rTaFGu9KmA"
      },
      "id": "p7rTaFGu9KmA",
      "execution_count": 67,
      "outputs": []
    },
    {
      "cell_type": "code",
      "source": [
        "df_Occupation = (df\n",
        "                .groupby(['User_ID','Occupation'])['Product_Category_1']\n",
        "                .sum()\n",
        "                .apply(lambda x: x>0)\n",
        "                .unstack()\n",
        "                .fillna(False)\n",
        "                .reset_index()\n",
        "                .set_index('User_ID')\n",
        ")"
      ],
      "metadata": {
        "id": "8QBGMbVB9U4o"
      },
      "id": "8QBGMbVB9U4o",
      "execution_count": 68,
      "outputs": []
    },
    {
      "cell_type": "code",
      "source": [
        "df_City = (df\n",
        "          .groupby(['User_ID','City_Category'])['Product_Category_1']\n",
        "          .sum()\n",
        "          .apply(lambda x: x>0)\n",
        "          .unstack()\n",
        "          .fillna(False)\n",
        "          .reset_index()\n",
        "          .set_index('User_ID')\n",
        ")"
      ],
      "metadata": {
        "id": "Z7ia276S9fNs"
      },
      "id": "Z7ia276S9fNs",
      "execution_count": 69,
      "outputs": []
    },
    {
      "cell_type": "code",
      "source": [
        "df_Stay = (df\n",
        "           .groupby(['User_ID','Stay_In_Current_City_Years'])['Product_Category_1']\n",
        "           .sum()\n",
        "           .apply(lambda x: x>0)\n",
        "           .unstack()\n",
        "           .fillna(False)\n",
        "           .reset_index()\n",
        "           .set_index('User_ID')\n",
        ")"
      ],
      "metadata": {
        "id": "sl_GVD8g9qmX"
      },
      "id": "sl_GVD8g9qmX",
      "execution_count": 70,
      "outputs": []
    },
    {
      "cell_type": "code",
      "source": [
        "df_Marital = (df\n",
        "              .groupby(['User_ID','Marital_Status'])['Product_Category_1']\n",
        "              .sum()\n",
        "              .apply(lambda x: x>0)\n",
        "              .unstack()\n",
        "              .fillna(False)\n",
        "              .reset_index()\n",
        "              .set_index('User_ID')\n",
        ")"
      ],
      "metadata": {
        "id": "GHgQDPFJ9x9x"
      },
      "id": "GHgQDPFJ9x9x",
      "execution_count": 71,
      "outputs": []
    },
    {
      "cell_type": "code",
      "source": [
        "df_Product_Category_1 = (df\n",
        "                         .groupby(['User_ID','Product_Category_1'])['Product_Category_2']\n",
        "                         .sum()\n",
        "                         .apply(lambda x: x>0)\n",
        "                         .unstack()\n",
        "                         .fillna(False)\n",
        "                         .reset_index()\n",
        "                         .set_index('User_ID')\n",
        ")"
      ],
      "metadata": {
        "id": "XgwFLsCE95g3"
      },
      "id": "XgwFLsCE95g3",
      "execution_count": 72,
      "outputs": []
    },
    {
      "cell_type": "code",
      "source": [
        "df_Product_Category_2 = (df\n",
        "                         .groupby(['User_ID','Product_Category_2'])['Product_Category_1']\n",
        "                         .sum()\n",
        "                         .apply(lambda x: x>0)\n",
        "                         .unstack()\n",
        "                         .fillna(False)\n",
        "                         .reset_index()\n",
        "                         .set_index('User_ID')\n",
        ")"
      ],
      "metadata": {
        "id": "H2a_EE1g-GvL"
      },
      "id": "H2a_EE1g-GvL",
      "execution_count": 73,
      "outputs": []
    },
    {
      "cell_type": "code",
      "source": [
        "df_Product_Category_3 = (df\n",
        "                         .groupby(['User_ID','Product_Category_3'])['Product_Category_1']\n",
        "                         .sum()\n",
        "                         .apply(lambda x: x>0)\n",
        "                         .unstack()\n",
        "                         .fillna(False)\n",
        "                         .reset_index()\n",
        "                         .set_index('User_ID')\n",
        ")"
      ],
      "metadata": {
        "id": "MzWxpZg--Rpc"
      },
      "id": "MzWxpZg--Rpc",
      "execution_count": 74,
      "outputs": []
    },
    {
      "cell_type": "markdown",
      "source": [
        "Después de realizar la agrupación los nombres de los atributos eran nombres no identificables, ya que aparecía un 1, y no se sabía a qué valor de atributo corresponde. Es por ello que para solucionarlo, se han renombrado para poder identificarlos como facilidad. \n",
        "\n",
        "\n"
      ],
      "metadata": {
        "id": "6byRqLYfuE5N"
      },
      "id": "6byRqLYfuE5N"
    },
    {
      "cell_type": "code",
      "source": [
        "df_Product_Category_1=df_Product_Category_1.set_axis(['1_PC1','2_PC1','3_PC1','4_PC1','5_PC1','6_PC1','7_PC1','8_PC1','9_PC1','10_PC1','11_PC1','12_PC1','13_PC1','14_PC1','15_PC1','16_PC1','17_PC1','18_PC1'], axis=1)"
      ],
      "metadata": {
        "id": "T6GbIIAmaOn6"
      },
      "id": "T6GbIIAmaOn6",
      "execution_count": 75,
      "outputs": []
    },
    {
      "cell_type": "code",
      "source": [
        "df_Product_Category_2=df_Product_Category_2.set_axis(['0_PC2','2_PC2','3_PC2','4_PC2','5_PC2','6_PC2','7_PC2','8_PC2','9_PC2','10_PC2','11_PC2','12_PC2','13_PC2','14_PC2','15_PC2','16_PC2','17_PC2','18_PC2'], axis=1)"
      ],
      "metadata": {
        "id": "Tf_J7_h5asOP"
      },
      "id": "Tf_J7_h5asOP",
      "execution_count": 76,
      "outputs": []
    },
    {
      "cell_type": "code",
      "source": [
        "df_Product_Category_3=df_Product_Category_3.set_axis(['0_PC3','3_PC3','4_PC3','5_PC3','6_PC3','8_PC3','9_PC3','10_PC3','11_PC3','12_PC3','13_PC3','14_PC3','15_PC3','16_PC3','17_PC3','18_PC3'],axis=1)"
      ],
      "metadata": {
        "id": "v4PxMepUbMNv"
      },
      "id": "v4PxMepUbMNv",
      "execution_count": 77,
      "outputs": []
    },
    {
      "cell_type": "code",
      "source": [
        "df_Marital=df_Marital.set_axis(['0_Marital', '1_Marital'], axis=1)"
      ],
      "metadata": {
        "id": "mTXg3qAwZyke"
      },
      "id": "mTXg3qAwZyke",
      "execution_count": 78,
      "outputs": []
    },
    {
      "cell_type": "code",
      "source": [
        "df_Occupation=df_Occupation.set_axis(['0_Occ','1_Occ', '2_Occ', '3_Occ', '4_Occ', '5_Occ', '6_Occ', '7_Occ', '8_Occ', '9_Occ', '10_Occ', '11_Occ', '12_Occ', '13_Occ', '14_Occ', '15_Occ', '16_Occ', '17_Occ', '18_Occ', '19_Occ', '20_Occ'], axis=1)"
      ],
      "metadata": {
        "id": "8AaaSi4iX-Nh"
      },
      "id": "8AaaSi4iX-Nh",
      "execution_count": 79,
      "outputs": []
    },
    {
      "cell_type": "code",
      "source": [
        "df_Stay=df_Stay.set_axis(['0_Stay','1_Stay','2_Stay','3_Stay','4+_Stay'],axis=1)"
      ],
      "metadata": {
        "id": "36t53eBBZRQX"
      },
      "id": "36t53eBBZRQX",
      "execution_count": 80,
      "outputs": []
    },
    {
      "cell_type": "markdown",
      "source": [
        "Concatenamos las agrupaciones creando una nueva base de datos llamada 'data'."
      ],
      "metadata": {
        "id": "RdLY6ySEu7h9"
      },
      "id": "RdLY6ySEu7h9"
    },
    {
      "cell_type": "code",
      "source": [
        "data = pd.concat([df_User_Product, df_Occupation, df_City, df_Stay, df_Marital, df_Product_Category_1, df_Product_Category_2, df_Product_Category_3, df_Age, df_Gender], axis = 1)\n",
        "data"
      ],
      "metadata": {
        "colab": {
          "base_uri": "https://localhost:8080/",
          "height": 536
        },
        "id": "37mX_Ps-ihBQ",
        "outputId": "1cf77212-0bf5-427c-803c-8cbb134b9dcc"
      },
      "id": "37mX_Ps-ihBQ",
      "execution_count": 81,
      "outputs": [
        {
          "output_type": "execute_result",
          "data": {
            "text/plain": [
              "         P00000142  P00000242  P00000342  P00000442  P00000542  P00000642  \\\n",
              "User_ID                                                                     \n",
              "1000001      False      False      False      False      False      False   \n",
              "1000002      False      False      False      False      False      False   \n",
              "1000003      False      False      False      False      False      False   \n",
              "1000004      False      False      False      False      False      False   \n",
              "1000005      False      False      False      False      False       True   \n",
              "...            ...        ...        ...        ...        ...        ...   \n",
              "1006036      False      False      False      False      False      False   \n",
              "1006037      False      False      False      False      False      False   \n",
              "1006038      False      False      False      False      False      False   \n",
              "1006039      False      False      False      False      False      False   \n",
              "1006040      False      False      False      False      False      False   \n",
              "\n",
              "         P00000742  P00000842  P00000942  P00001042  ...  18_PC3   0-17  \\\n",
              "User_ID                                              ...                  \n",
              "1000001      False      False      False      False  ...   False   True   \n",
              "1000002      False      False      False      False  ...   False  False   \n",
              "1000003      False      False      False      False  ...    True  False   \n",
              "1000004      False      False      False      False  ...   False  False   \n",
              "1000005      False      False      False      False  ...   False  False   \n",
              "...            ...        ...        ...        ...  ...     ...    ...   \n",
              "1006036      False      False      False      False  ...    True  False   \n",
              "1006037      False      False      False      False  ...   False  False   \n",
              "1006038      False      False      False      False  ...   False  False   \n",
              "1006039      False      False      False      False  ...   False  False   \n",
              "1006040      False      False      False      False  ...   False  False   \n",
              "\n",
              "         18-25  26-35  36-45  46-50  51-55    55+      F      M  \n",
              "User_ID                                                          \n",
              "1000001  False  False  False  False  False  False   True  False  \n",
              "1000002  False  False  False  False  False   True  False   True  \n",
              "1000003  False   True  False  False  False  False  False   True  \n",
              "1000004  False  False  False   True  False  False  False   True  \n",
              "1000005  False   True  False  False  False  False  False   True  \n",
              "...        ...    ...    ...    ...    ...    ...    ...    ...  \n",
              "1006036  False   True  False  False  False  False   True  False  \n",
              "1006037  False  False  False   True  False  False   True  False  \n",
              "1006038  False  False  False  False  False   True   True  False  \n",
              "1006039  False  False  False   True  False  False   True  False  \n",
              "1006040  False   True  False  False  False  False  False   True  \n",
              "\n",
              "[5891 rows x 3583 columns]"
            ],
            "text/html": [
              "\n",
              "  <div id=\"df-0348668a-e327-475c-ac35-f3b5f011fe4e\">\n",
              "    <div class=\"colab-df-container\">\n",
              "      <div>\n",
              "<style scoped>\n",
              "    .dataframe tbody tr th:only-of-type {\n",
              "        vertical-align: middle;\n",
              "    }\n",
              "\n",
              "    .dataframe tbody tr th {\n",
              "        vertical-align: top;\n",
              "    }\n",
              "\n",
              "    .dataframe thead th {\n",
              "        text-align: right;\n",
              "    }\n",
              "</style>\n",
              "<table border=\"1\" class=\"dataframe\">\n",
              "  <thead>\n",
              "    <tr style=\"text-align: right;\">\n",
              "      <th></th>\n",
              "      <th>P00000142</th>\n",
              "      <th>P00000242</th>\n",
              "      <th>P00000342</th>\n",
              "      <th>P00000442</th>\n",
              "      <th>P00000542</th>\n",
              "      <th>P00000642</th>\n",
              "      <th>P00000742</th>\n",
              "      <th>P00000842</th>\n",
              "      <th>P00000942</th>\n",
              "      <th>P00001042</th>\n",
              "      <th>...</th>\n",
              "      <th>18_PC3</th>\n",
              "      <th>0-17</th>\n",
              "      <th>18-25</th>\n",
              "      <th>26-35</th>\n",
              "      <th>36-45</th>\n",
              "      <th>46-50</th>\n",
              "      <th>51-55</th>\n",
              "      <th>55+</th>\n",
              "      <th>F</th>\n",
              "      <th>M</th>\n",
              "    </tr>\n",
              "    <tr>\n",
              "      <th>User_ID</th>\n",
              "      <th></th>\n",
              "      <th></th>\n",
              "      <th></th>\n",
              "      <th></th>\n",
              "      <th></th>\n",
              "      <th></th>\n",
              "      <th></th>\n",
              "      <th></th>\n",
              "      <th></th>\n",
              "      <th></th>\n",
              "      <th></th>\n",
              "      <th></th>\n",
              "      <th></th>\n",
              "      <th></th>\n",
              "      <th></th>\n",
              "      <th></th>\n",
              "      <th></th>\n",
              "      <th></th>\n",
              "      <th></th>\n",
              "      <th></th>\n",
              "      <th></th>\n",
              "    </tr>\n",
              "  </thead>\n",
              "  <tbody>\n",
              "    <tr>\n",
              "      <th>1000001</th>\n",
              "      <td>False</td>\n",
              "      <td>False</td>\n",
              "      <td>False</td>\n",
              "      <td>False</td>\n",
              "      <td>False</td>\n",
              "      <td>False</td>\n",
              "      <td>False</td>\n",
              "      <td>False</td>\n",
              "      <td>False</td>\n",
              "      <td>False</td>\n",
              "      <td>...</td>\n",
              "      <td>False</td>\n",
              "      <td>True</td>\n",
              "      <td>False</td>\n",
              "      <td>False</td>\n",
              "      <td>False</td>\n",
              "      <td>False</td>\n",
              "      <td>False</td>\n",
              "      <td>False</td>\n",
              "      <td>True</td>\n",
              "      <td>False</td>\n",
              "    </tr>\n",
              "    <tr>\n",
              "      <th>1000002</th>\n",
              "      <td>False</td>\n",
              "      <td>False</td>\n",
              "      <td>False</td>\n",
              "      <td>False</td>\n",
              "      <td>False</td>\n",
              "      <td>False</td>\n",
              "      <td>False</td>\n",
              "      <td>False</td>\n",
              "      <td>False</td>\n",
              "      <td>False</td>\n",
              "      <td>...</td>\n",
              "      <td>False</td>\n",
              "      <td>False</td>\n",
              "      <td>False</td>\n",
              "      <td>False</td>\n",
              "      <td>False</td>\n",
              "      <td>False</td>\n",
              "      <td>False</td>\n",
              "      <td>True</td>\n",
              "      <td>False</td>\n",
              "      <td>True</td>\n",
              "    </tr>\n",
              "    <tr>\n",
              "      <th>1000003</th>\n",
              "      <td>False</td>\n",
              "      <td>False</td>\n",
              "      <td>False</td>\n",
              "      <td>False</td>\n",
              "      <td>False</td>\n",
              "      <td>False</td>\n",
              "      <td>False</td>\n",
              "      <td>False</td>\n",
              "      <td>False</td>\n",
              "      <td>False</td>\n",
              "      <td>...</td>\n",
              "      <td>True</td>\n",
              "      <td>False</td>\n",
              "      <td>False</td>\n",
              "      <td>True</td>\n",
              "      <td>False</td>\n",
              "      <td>False</td>\n",
              "      <td>False</td>\n",
              "      <td>False</td>\n",
              "      <td>False</td>\n",
              "      <td>True</td>\n",
              "    </tr>\n",
              "    <tr>\n",
              "      <th>1000004</th>\n",
              "      <td>False</td>\n",
              "      <td>False</td>\n",
              "      <td>False</td>\n",
              "      <td>False</td>\n",
              "      <td>False</td>\n",
              "      <td>False</td>\n",
              "      <td>False</td>\n",
              "      <td>False</td>\n",
              "      <td>False</td>\n",
              "      <td>False</td>\n",
              "      <td>...</td>\n",
              "      <td>False</td>\n",
              "      <td>False</td>\n",
              "      <td>False</td>\n",
              "      <td>False</td>\n",
              "      <td>False</td>\n",
              "      <td>True</td>\n",
              "      <td>False</td>\n",
              "      <td>False</td>\n",
              "      <td>False</td>\n",
              "      <td>True</td>\n",
              "    </tr>\n",
              "    <tr>\n",
              "      <th>1000005</th>\n",
              "      <td>False</td>\n",
              "      <td>False</td>\n",
              "      <td>False</td>\n",
              "      <td>False</td>\n",
              "      <td>False</td>\n",
              "      <td>True</td>\n",
              "      <td>False</td>\n",
              "      <td>False</td>\n",
              "      <td>False</td>\n",
              "      <td>False</td>\n",
              "      <td>...</td>\n",
              "      <td>False</td>\n",
              "      <td>False</td>\n",
              "      <td>False</td>\n",
              "      <td>True</td>\n",
              "      <td>False</td>\n",
              "      <td>False</td>\n",
              "      <td>False</td>\n",
              "      <td>False</td>\n",
              "      <td>False</td>\n",
              "      <td>True</td>\n",
              "    </tr>\n",
              "    <tr>\n",
              "      <th>...</th>\n",
              "      <td>...</td>\n",
              "      <td>...</td>\n",
              "      <td>...</td>\n",
              "      <td>...</td>\n",
              "      <td>...</td>\n",
              "      <td>...</td>\n",
              "      <td>...</td>\n",
              "      <td>...</td>\n",
              "      <td>...</td>\n",
              "      <td>...</td>\n",
              "      <td>...</td>\n",
              "      <td>...</td>\n",
              "      <td>...</td>\n",
              "      <td>...</td>\n",
              "      <td>...</td>\n",
              "      <td>...</td>\n",
              "      <td>...</td>\n",
              "      <td>...</td>\n",
              "      <td>...</td>\n",
              "      <td>...</td>\n",
              "      <td>...</td>\n",
              "    </tr>\n",
              "    <tr>\n",
              "      <th>1006036</th>\n",
              "      <td>False</td>\n",
              "      <td>False</td>\n",
              "      <td>False</td>\n",
              "      <td>False</td>\n",
              "      <td>False</td>\n",
              "      <td>False</td>\n",
              "      <td>False</td>\n",
              "      <td>False</td>\n",
              "      <td>False</td>\n",
              "      <td>False</td>\n",
              "      <td>...</td>\n",
              "      <td>True</td>\n",
              "      <td>False</td>\n",
              "      <td>False</td>\n",
              "      <td>True</td>\n",
              "      <td>False</td>\n",
              "      <td>False</td>\n",
              "      <td>False</td>\n",
              "      <td>False</td>\n",
              "      <td>True</td>\n",
              "      <td>False</td>\n",
              "    </tr>\n",
              "    <tr>\n",
              "      <th>1006037</th>\n",
              "      <td>False</td>\n",
              "      <td>False</td>\n",
              "      <td>False</td>\n",
              "      <td>False</td>\n",
              "      <td>False</td>\n",
              "      <td>False</td>\n",
              "      <td>False</td>\n",
              "      <td>False</td>\n",
              "      <td>False</td>\n",
              "      <td>False</td>\n",
              "      <td>...</td>\n",
              "      <td>False</td>\n",
              "      <td>False</td>\n",
              "      <td>False</td>\n",
              "      <td>False</td>\n",
              "      <td>False</td>\n",
              "      <td>True</td>\n",
              "      <td>False</td>\n",
              "      <td>False</td>\n",
              "      <td>True</td>\n",
              "      <td>False</td>\n",
              "    </tr>\n",
              "    <tr>\n",
              "      <th>1006038</th>\n",
              "      <td>False</td>\n",
              "      <td>False</td>\n",
              "      <td>False</td>\n",
              "      <td>False</td>\n",
              "      <td>False</td>\n",
              "      <td>False</td>\n",
              "      <td>False</td>\n",
              "      <td>False</td>\n",
              "      <td>False</td>\n",
              "      <td>False</td>\n",
              "      <td>...</td>\n",
              "      <td>False</td>\n",
              "      <td>False</td>\n",
              "      <td>False</td>\n",
              "      <td>False</td>\n",
              "      <td>False</td>\n",
              "      <td>False</td>\n",
              "      <td>False</td>\n",
              "      <td>True</td>\n",
              "      <td>True</td>\n",
              "      <td>False</td>\n",
              "    </tr>\n",
              "    <tr>\n",
              "      <th>1006039</th>\n",
              "      <td>False</td>\n",
              "      <td>False</td>\n",
              "      <td>False</td>\n",
              "      <td>False</td>\n",
              "      <td>False</td>\n",
              "      <td>False</td>\n",
              "      <td>False</td>\n",
              "      <td>False</td>\n",
              "      <td>False</td>\n",
              "      <td>False</td>\n",
              "      <td>...</td>\n",
              "      <td>False</td>\n",
              "      <td>False</td>\n",
              "      <td>False</td>\n",
              "      <td>False</td>\n",
              "      <td>False</td>\n",
              "      <td>True</td>\n",
              "      <td>False</td>\n",
              "      <td>False</td>\n",
              "      <td>True</td>\n",
              "      <td>False</td>\n",
              "    </tr>\n",
              "    <tr>\n",
              "      <th>1006040</th>\n",
              "      <td>False</td>\n",
              "      <td>False</td>\n",
              "      <td>False</td>\n",
              "      <td>False</td>\n",
              "      <td>False</td>\n",
              "      <td>False</td>\n",
              "      <td>False</td>\n",
              "      <td>False</td>\n",
              "      <td>False</td>\n",
              "      <td>False</td>\n",
              "      <td>...</td>\n",
              "      <td>False</td>\n",
              "      <td>False</td>\n",
              "      <td>False</td>\n",
              "      <td>True</td>\n",
              "      <td>False</td>\n",
              "      <td>False</td>\n",
              "      <td>False</td>\n",
              "      <td>False</td>\n",
              "      <td>False</td>\n",
              "      <td>True</td>\n",
              "    </tr>\n",
              "  </tbody>\n",
              "</table>\n",
              "<p>5891 rows × 3583 columns</p>\n",
              "</div>\n",
              "      <button class=\"colab-df-convert\" onclick=\"convertToInteractive('df-0348668a-e327-475c-ac35-f3b5f011fe4e')\"\n",
              "              title=\"Convert this dataframe to an interactive table.\"\n",
              "              style=\"display:none;\">\n",
              "        \n",
              "  <svg xmlns=\"http://www.w3.org/2000/svg\" height=\"24px\"viewBox=\"0 0 24 24\"\n",
              "       width=\"24px\">\n",
              "    <path d=\"M0 0h24v24H0V0z\" fill=\"none\"/>\n",
              "    <path d=\"M18.56 5.44l.94 2.06.94-2.06 2.06-.94-2.06-.94-.94-2.06-.94 2.06-2.06.94zm-11 1L8.5 8.5l.94-2.06 2.06-.94-2.06-.94L8.5 2.5l-.94 2.06-2.06.94zm10 10l.94 2.06.94-2.06 2.06-.94-2.06-.94-.94-2.06-.94 2.06-2.06.94z\"/><path d=\"M17.41 7.96l-1.37-1.37c-.4-.4-.92-.59-1.43-.59-.52 0-1.04.2-1.43.59L10.3 9.45l-7.72 7.72c-.78.78-.78 2.05 0 2.83L4 21.41c.39.39.9.59 1.41.59.51 0 1.02-.2 1.41-.59l7.78-7.78 2.81-2.81c.8-.78.8-2.07 0-2.86zM5.41 20L4 18.59l7.72-7.72 1.47 1.35L5.41 20z\"/>\n",
              "  </svg>\n",
              "      </button>\n",
              "      \n",
              "  <style>\n",
              "    .colab-df-container {\n",
              "      display:flex;\n",
              "      flex-wrap:wrap;\n",
              "      gap: 12px;\n",
              "    }\n",
              "\n",
              "    .colab-df-convert {\n",
              "      background-color: #E8F0FE;\n",
              "      border: none;\n",
              "      border-radius: 50%;\n",
              "      cursor: pointer;\n",
              "      display: none;\n",
              "      fill: #1967D2;\n",
              "      height: 32px;\n",
              "      padding: 0 0 0 0;\n",
              "      width: 32px;\n",
              "    }\n",
              "\n",
              "    .colab-df-convert:hover {\n",
              "      background-color: #E2EBFA;\n",
              "      box-shadow: 0px 1px 2px rgba(60, 64, 67, 0.3), 0px 1px 3px 1px rgba(60, 64, 67, 0.15);\n",
              "      fill: #174EA6;\n",
              "    }\n",
              "\n",
              "    [theme=dark] .colab-df-convert {\n",
              "      background-color: #3B4455;\n",
              "      fill: #D2E3FC;\n",
              "    }\n",
              "\n",
              "    [theme=dark] .colab-df-convert:hover {\n",
              "      background-color: #434B5C;\n",
              "      box-shadow: 0px 1px 3px 1px rgba(0, 0, 0, 0.15);\n",
              "      filter: drop-shadow(0px 1px 2px rgba(0, 0, 0, 0.3));\n",
              "      fill: #FFFFFF;\n",
              "    }\n",
              "  </style>\n",
              "\n",
              "      <script>\n",
              "        const buttonEl =\n",
              "          document.querySelector('#df-0348668a-e327-475c-ac35-f3b5f011fe4e button.colab-df-convert');\n",
              "        buttonEl.style.display =\n",
              "          google.colab.kernel.accessAllowed ? 'block' : 'none';\n",
              "\n",
              "        async function convertToInteractive(key) {\n",
              "          const element = document.querySelector('#df-0348668a-e327-475c-ac35-f3b5f011fe4e');\n",
              "          const dataTable =\n",
              "            await google.colab.kernel.invokeFunction('convertToInteractive',\n",
              "                                                     [key], {});\n",
              "          if (!dataTable) return;\n",
              "\n",
              "          const docLinkHtml = 'Like what you see? Visit the ' +\n",
              "            '<a target=\"_blank\" href=https://colab.research.google.com/notebooks/data_table.ipynb>data table notebook</a>'\n",
              "            + ' to learn more about interactive tables.';\n",
              "          element.innerHTML = '';\n",
              "          dataTable['output_type'] = 'display_data';\n",
              "          await google.colab.output.renderOutput(dataTable, element);\n",
              "          const docLink = document.createElement('div');\n",
              "          docLink.innerHTML = docLinkHtml;\n",
              "          element.appendChild(docLink);\n",
              "        }\n",
              "      </script>\n",
              "    </div>\n",
              "  </div>\n",
              "  "
            ]
          },
          "metadata": {},
          "execution_count": 81
        }
      ]
    },
    {
      "cell_type": "markdown",
      "source": [
        "Una vez creada la base de datos, y aplicado el one-hot enconding con False y True aplicamos el método apriori con un soporte de 0.5:"
      ],
      "metadata": {
        "id": "yeQ6fqVXvXSe"
      },
      "id": "yeQ6fqVXvXSe"
    },
    {
      "cell_type": "code",
      "source": [
        "frequent_itemsets = apriori(data, min_support=0.5, use_colnames=True)\n",
        "print(frequent_itemsets)"
      ],
      "metadata": {
        "colab": {
          "base_uri": "https://localhost:8080/"
        },
        "id": "kica7vUDb1-v",
        "outputId": "8d5513e8-c65d-411d-ad43-6d484a3ed6eb"
      },
      "id": "kica7vUDb1-v",
      "execution_count": 82,
      "outputs": [
        {
          "output_type": "stream",
          "name": "stdout",
          "text": [
            "      support                                           itemsets\n",
            "0    0.532847                                                (C)\n",
            "1    0.580037                                        (0_Marital)\n",
            "2    0.905958                                            (1_PC1)\n",
            "3    0.536581                                            (2_PC1)\n",
            "4    0.852996                                            (5_PC1)\n",
            "..        ...                                                ...\n",
            "754  0.511119       (0_PC3, 5_PC1, 16_PC2, 8_PC2, 14_PC2, 0_PC2)\n",
            "755  0.506196  (0_PC3, 5_PC1, 8_PC2, 8_PC1, 0_PC2, 2_PC2, 1_PC1)\n",
            "756  0.539467  (0_PC3, 5_PC1, 8_PC2, 8_PC1, 14_PC2, 0_PC2, 1_...\n",
            "757  0.508403  (0_PC3, 5_PC1, 16_PC2, 8_PC2, 8_PC1, 0_PC2, 1_...\n",
            "758  0.512137  (0_PC3, 5_PC1, 8_PC2, 14_PC2, 0_PC2, 2_PC2, 1_...\n",
            "\n",
            "[759 rows x 2 columns]\n"
          ]
        }
      ]
    },
    {
      "cell_type": "markdown",
      "source": [
        "A continuación se diferencias las longitudes de itemsets frecuentes, e imprimimos la primera longitud."
      ],
      "metadata": {
        "id": "Xui4x3N-3l0a"
      },
      "id": "Xui4x3N-3l0a"
    },
    {
      "cell_type": "code",
      "source": [
        "#Para k=1\n",
        "\n",
        "frequent_itemsets['length'] = frequent_itemsets['itemsets'].apply(lambda x: len(x))\n",
        "frequent_itemsets1=frequent_itemsets[frequent_itemsets['length'] == 1]\n",
        "frequent_itemsets1"
      ],
      "metadata": {
        "id": "qfz1r4EPsr8Q",
        "outputId": "1e36ce89-5f22-4d71-b45c-0bf32eb0a1d9",
        "colab": {
          "base_uri": "https://localhost:8080/",
          "height": 770
        }
      },
      "id": "qfz1r4EPsr8Q",
      "execution_count": 83,
      "outputs": [
        {
          "output_type": "execute_result",
          "data": {
            "text/plain": [
              "     support     itemsets  length\n",
              "0   0.532847          (C)       1\n",
              "1   0.580037  (0_Marital)       1\n",
              "2   0.905958      (1_PC1)       1\n",
              "3   0.536581      (2_PC1)       1\n",
              "4   0.852996      (5_PC1)       1\n",
              "5   0.521643      (6_PC1)       1\n",
              "6   0.767951      (8_PC1)       1\n",
              "7   0.944152      (0_PC2)       1\n",
              "8   0.729588      (2_PC2)       1\n",
              "9   0.527075      (4_PC2)       1\n",
              "10  0.592938      (5_PC2)       1\n",
              "11  0.516890      (6_PC2)       1\n",
              "12  0.830929      (8_PC2)       1\n",
              "13  0.757936     (14_PC2)       1\n",
              "14  0.656765     (15_PC2)       1\n",
              "15  0.723986     (16_PC2)       1\n",
              "16  0.997963      (0_PC3)       1\n",
              "17  0.533865      (5_PC3)       1\n",
              "18  0.538618     (14_PC3)       1\n",
              "19  0.565099     (15_PC3)       1\n",
              "20  0.670175     (16_PC3)       1\n",
              "21  0.556782     (17_PC3)       1\n",
              "22  0.717196          (M)       1"
            ],
            "text/html": [
              "\n",
              "  <div id=\"df-a94dfef3-dd1e-412c-bc8c-6f6526582d79\">\n",
              "    <div class=\"colab-df-container\">\n",
              "      <div>\n",
              "<style scoped>\n",
              "    .dataframe tbody tr th:only-of-type {\n",
              "        vertical-align: middle;\n",
              "    }\n",
              "\n",
              "    .dataframe tbody tr th {\n",
              "        vertical-align: top;\n",
              "    }\n",
              "\n",
              "    .dataframe thead th {\n",
              "        text-align: right;\n",
              "    }\n",
              "</style>\n",
              "<table border=\"1\" class=\"dataframe\">\n",
              "  <thead>\n",
              "    <tr style=\"text-align: right;\">\n",
              "      <th></th>\n",
              "      <th>support</th>\n",
              "      <th>itemsets</th>\n",
              "      <th>length</th>\n",
              "    </tr>\n",
              "  </thead>\n",
              "  <tbody>\n",
              "    <tr>\n",
              "      <th>0</th>\n",
              "      <td>0.532847</td>\n",
              "      <td>(C)</td>\n",
              "      <td>1</td>\n",
              "    </tr>\n",
              "    <tr>\n",
              "      <th>1</th>\n",
              "      <td>0.580037</td>\n",
              "      <td>(0_Marital)</td>\n",
              "      <td>1</td>\n",
              "    </tr>\n",
              "    <tr>\n",
              "      <th>2</th>\n",
              "      <td>0.905958</td>\n",
              "      <td>(1_PC1)</td>\n",
              "      <td>1</td>\n",
              "    </tr>\n",
              "    <tr>\n",
              "      <th>3</th>\n",
              "      <td>0.536581</td>\n",
              "      <td>(2_PC1)</td>\n",
              "      <td>1</td>\n",
              "    </tr>\n",
              "    <tr>\n",
              "      <th>4</th>\n",
              "      <td>0.852996</td>\n",
              "      <td>(5_PC1)</td>\n",
              "      <td>1</td>\n",
              "    </tr>\n",
              "    <tr>\n",
              "      <th>5</th>\n",
              "      <td>0.521643</td>\n",
              "      <td>(6_PC1)</td>\n",
              "      <td>1</td>\n",
              "    </tr>\n",
              "    <tr>\n",
              "      <th>6</th>\n",
              "      <td>0.767951</td>\n",
              "      <td>(8_PC1)</td>\n",
              "      <td>1</td>\n",
              "    </tr>\n",
              "    <tr>\n",
              "      <th>7</th>\n",
              "      <td>0.944152</td>\n",
              "      <td>(0_PC2)</td>\n",
              "      <td>1</td>\n",
              "    </tr>\n",
              "    <tr>\n",
              "      <th>8</th>\n",
              "      <td>0.729588</td>\n",
              "      <td>(2_PC2)</td>\n",
              "      <td>1</td>\n",
              "    </tr>\n",
              "    <tr>\n",
              "      <th>9</th>\n",
              "      <td>0.527075</td>\n",
              "      <td>(4_PC2)</td>\n",
              "      <td>1</td>\n",
              "    </tr>\n",
              "    <tr>\n",
              "      <th>10</th>\n",
              "      <td>0.592938</td>\n",
              "      <td>(5_PC2)</td>\n",
              "      <td>1</td>\n",
              "    </tr>\n",
              "    <tr>\n",
              "      <th>11</th>\n",
              "      <td>0.516890</td>\n",
              "      <td>(6_PC2)</td>\n",
              "      <td>1</td>\n",
              "    </tr>\n",
              "    <tr>\n",
              "      <th>12</th>\n",
              "      <td>0.830929</td>\n",
              "      <td>(8_PC2)</td>\n",
              "      <td>1</td>\n",
              "    </tr>\n",
              "    <tr>\n",
              "      <th>13</th>\n",
              "      <td>0.757936</td>\n",
              "      <td>(14_PC2)</td>\n",
              "      <td>1</td>\n",
              "    </tr>\n",
              "    <tr>\n",
              "      <th>14</th>\n",
              "      <td>0.656765</td>\n",
              "      <td>(15_PC2)</td>\n",
              "      <td>1</td>\n",
              "    </tr>\n",
              "    <tr>\n",
              "      <th>15</th>\n",
              "      <td>0.723986</td>\n",
              "      <td>(16_PC2)</td>\n",
              "      <td>1</td>\n",
              "    </tr>\n",
              "    <tr>\n",
              "      <th>16</th>\n",
              "      <td>0.997963</td>\n",
              "      <td>(0_PC3)</td>\n",
              "      <td>1</td>\n",
              "    </tr>\n",
              "    <tr>\n",
              "      <th>17</th>\n",
              "      <td>0.533865</td>\n",
              "      <td>(5_PC3)</td>\n",
              "      <td>1</td>\n",
              "    </tr>\n",
              "    <tr>\n",
              "      <th>18</th>\n",
              "      <td>0.538618</td>\n",
              "      <td>(14_PC3)</td>\n",
              "      <td>1</td>\n",
              "    </tr>\n",
              "    <tr>\n",
              "      <th>19</th>\n",
              "      <td>0.565099</td>\n",
              "      <td>(15_PC3)</td>\n",
              "      <td>1</td>\n",
              "    </tr>\n",
              "    <tr>\n",
              "      <th>20</th>\n",
              "      <td>0.670175</td>\n",
              "      <td>(16_PC3)</td>\n",
              "      <td>1</td>\n",
              "    </tr>\n",
              "    <tr>\n",
              "      <th>21</th>\n",
              "      <td>0.556782</td>\n",
              "      <td>(17_PC3)</td>\n",
              "      <td>1</td>\n",
              "    </tr>\n",
              "    <tr>\n",
              "      <th>22</th>\n",
              "      <td>0.717196</td>\n",
              "      <td>(M)</td>\n",
              "      <td>1</td>\n",
              "    </tr>\n",
              "  </tbody>\n",
              "</table>\n",
              "</div>\n",
              "      <button class=\"colab-df-convert\" onclick=\"convertToInteractive('df-a94dfef3-dd1e-412c-bc8c-6f6526582d79')\"\n",
              "              title=\"Convert this dataframe to an interactive table.\"\n",
              "              style=\"display:none;\">\n",
              "        \n",
              "  <svg xmlns=\"http://www.w3.org/2000/svg\" height=\"24px\"viewBox=\"0 0 24 24\"\n",
              "       width=\"24px\">\n",
              "    <path d=\"M0 0h24v24H0V0z\" fill=\"none\"/>\n",
              "    <path d=\"M18.56 5.44l.94 2.06.94-2.06 2.06-.94-2.06-.94-.94-2.06-.94 2.06-2.06.94zm-11 1L8.5 8.5l.94-2.06 2.06-.94-2.06-.94L8.5 2.5l-.94 2.06-2.06.94zm10 10l.94 2.06.94-2.06 2.06-.94-2.06-.94-.94-2.06-.94 2.06-2.06.94z\"/><path d=\"M17.41 7.96l-1.37-1.37c-.4-.4-.92-.59-1.43-.59-.52 0-1.04.2-1.43.59L10.3 9.45l-7.72 7.72c-.78.78-.78 2.05 0 2.83L4 21.41c.39.39.9.59 1.41.59.51 0 1.02-.2 1.41-.59l7.78-7.78 2.81-2.81c.8-.78.8-2.07 0-2.86zM5.41 20L4 18.59l7.72-7.72 1.47 1.35L5.41 20z\"/>\n",
              "  </svg>\n",
              "      </button>\n",
              "      \n",
              "  <style>\n",
              "    .colab-df-container {\n",
              "      display:flex;\n",
              "      flex-wrap:wrap;\n",
              "      gap: 12px;\n",
              "    }\n",
              "\n",
              "    .colab-df-convert {\n",
              "      background-color: #E8F0FE;\n",
              "      border: none;\n",
              "      border-radius: 50%;\n",
              "      cursor: pointer;\n",
              "      display: none;\n",
              "      fill: #1967D2;\n",
              "      height: 32px;\n",
              "      padding: 0 0 0 0;\n",
              "      width: 32px;\n",
              "    }\n",
              "\n",
              "    .colab-df-convert:hover {\n",
              "      background-color: #E2EBFA;\n",
              "      box-shadow: 0px 1px 2px rgba(60, 64, 67, 0.3), 0px 1px 3px 1px rgba(60, 64, 67, 0.15);\n",
              "      fill: #174EA6;\n",
              "    }\n",
              "\n",
              "    [theme=dark] .colab-df-convert {\n",
              "      background-color: #3B4455;\n",
              "      fill: #D2E3FC;\n",
              "    }\n",
              "\n",
              "    [theme=dark] .colab-df-convert:hover {\n",
              "      background-color: #434B5C;\n",
              "      box-shadow: 0px 1px 3px 1px rgba(0, 0, 0, 0.15);\n",
              "      filter: drop-shadow(0px 1px 2px rgba(0, 0, 0, 0.3));\n",
              "      fill: #FFFFFF;\n",
              "    }\n",
              "  </style>\n",
              "\n",
              "      <script>\n",
              "        const buttonEl =\n",
              "          document.querySelector('#df-a94dfef3-dd1e-412c-bc8c-6f6526582d79 button.colab-df-convert');\n",
              "        buttonEl.style.display =\n",
              "          google.colab.kernel.accessAllowed ? 'block' : 'none';\n",
              "\n",
              "        async function convertToInteractive(key) {\n",
              "          const element = document.querySelector('#df-a94dfef3-dd1e-412c-bc8c-6f6526582d79');\n",
              "          const dataTable =\n",
              "            await google.colab.kernel.invokeFunction('convertToInteractive',\n",
              "                                                     [key], {});\n",
              "          if (!dataTable) return;\n",
              "\n",
              "          const docLinkHtml = 'Like what you see? Visit the ' +\n",
              "            '<a target=\"_blank\" href=https://colab.research.google.com/notebooks/data_table.ipynb>data table notebook</a>'\n",
              "            + ' to learn more about interactive tables.';\n",
              "          element.innerHTML = '';\n",
              "          dataTable['output_type'] = 'display_data';\n",
              "          await google.colab.output.renderOutput(dataTable, element);\n",
              "          const docLink = document.createElement('div');\n",
              "          docLink.innerHTML = docLinkHtml;\n",
              "          element.appendChild(docLink);\n",
              "        }\n",
              "      </script>\n",
              "    </div>\n",
              "  </div>\n",
              "  "
            ]
          },
          "metadata": {},
          "execution_count": 83
        }
      ]
    },
    {
      "cell_type": "markdown",
      "source": [
        "Tal y como se plantea, se muestra para cada longitud, los itemsets frecuentes, hasta que no se generen nuevos es decir, hasta alcanzar su máxima longitud. "
      ],
      "metadata": {
        "id": "SXdDy7Tj4VFQ"
      },
      "id": "SXdDy7Tj4VFQ"
    },
    {
      "cell_type": "code",
      "source": [
        "i=2\n",
        "frequent_itemsets['length'] = frequent_itemsets['itemsets'].apply(lambda x: len(x))\n",
        "while i <= max(frequent_itemsets['length']):\n",
        "  print(frequent_itemsets[frequent_itemsets['length'] == i]) \n",
        "  i=i+1"
      ],
      "metadata": {
        "id": "gBV230lP4xSH",
        "outputId": "032ef614-2d15-463a-8ee8-bac6f4e1f4c3",
        "colab": {
          "base_uri": "https://localhost:8080/"
        }
      },
      "id": "gBV230lP4xSH",
      "execution_count": 84,
      "outputs": [
        {
          "output_type": "stream",
          "name": "stdout",
          "text": [
            "      support            itemsets  length\n",
            "23   0.531149          (0_PC3, C)       2\n",
            "24   0.527245  (1_PC1, 0_Marital)       2\n",
            "25   0.546936  (0_PC2, 0_Marital)       2\n",
            "26   0.578679  (0_PC3, 0_Marital)       2\n",
            "27   0.516551      (1_PC1, 2_PC1)       2\n",
            "..        ...                 ...     ...\n",
            "125  0.564420     (0_PC3, 15_PC3)       2\n",
            "126  0.669496     (16_PC3, 0_PC3)       2\n",
            "127  0.556782     (17_PC3, 0_PC3)       2\n",
            "128  0.715498          (0_PC3, M)       2\n",
            "129  0.503650         (16_PC3, M)       2\n",
            "\n",
            "[107 rows x 3 columns]\n",
            "      support                   itemsets  length\n",
            "130  0.526226  (1_PC1, 0_PC3, 0_Marital)       3\n",
            "131  0.546936  (0_PC2, 0_PC3, 0_Marital)       3\n",
            "132  0.500934      (1_PC1, 0_PC2, 2_PC1)       3\n",
            "133  0.516041      (1_PC1, 0_PC3, 2_PC1)       3\n",
            "134  0.647938      (1_PC1, 5_PC1, 8_PC1)       3\n",
            "..        ...                        ...     ...\n",
            "336  0.544050    (16_PC3, 0_PC3, 15_PC2)       3\n",
            "337  0.504838         (0_PC3, 15_PC2, M)       3\n",
            "338  0.553217    (16_PC3, 16_PC2, 0_PC3)       3\n",
            "339  0.539127         (16_PC2, 0_PC3, M)       3\n",
            "340  0.503140         (16_PC3, 0_PC3, M)       3\n",
            "\n",
            "[211 rows x 3 columns]\n",
            "      support                        itemsets  length\n",
            "341  0.500934    (1_PC1, 0_PC3, 0_PC2, 2_PC1)       4\n",
            "342  0.630962    (1_PC1, 5_PC1, 0_PC2, 8_PC1)       4\n",
            "343  0.548973    (1_PC1, 5_PC1, 8_PC1, 2_PC2)       4\n",
            "344  0.601935    (1_PC1, 8_PC2, 8_PC1, 5_PC1)       4\n",
            "345  0.578849   (1_PC1, 5_PC1, 8_PC1, 14_PC2)       4\n",
            "..        ...                             ...     ...\n",
            "567  0.524868   (16_PC2, 8_PC2, 2_PC2, 0_PC3)       4\n",
            "568  0.518248   (16_PC3, 8_PC2, 2_PC2, 0_PC3)       4\n",
            "569  0.538109  (16_PC2, 8_PC2, 0_PC3, 14_PC2)       4\n",
            "570  0.518927  (16_PC3, 8_PC2, 0_PC3, 14_PC2)       4\n",
            "571  0.511119  (16_PC3, 8_PC2, 0_PC3, 16_PC2)       4\n",
            "\n",
            "[231 rows x 3 columns]\n",
            "      support                               itemsets  length\n",
            "572  0.535393    (5_PC1, 8_PC1, 0_PC2, 2_PC2, 1_PC1)       5\n",
            "573  0.591580    (5_PC1, 8_PC2, 8_PC1, 0_PC2, 1_PC1)       5\n",
            "574  0.566797   (5_PC1, 8_PC1, 14_PC2, 0_PC2, 1_PC1)       5\n",
            "575  0.537769   (5_PC1, 16_PC2, 8_PC1, 0_PC2, 1_PC1)       5\n",
            "576  0.630962    (0_PC3, 5_PC1, 8_PC1, 0_PC2, 1_PC1)       5\n",
            "..        ...                                    ...     ...\n",
            "709  0.513156   (0_PC3, 16_PC2, 8_PC2, 0_PC2, 2_PC2)       5\n",
            "710  0.506875   (0_PC3, 8_PC2, 16_PC3, 0_PC2, 2_PC2)       5\n",
            "711  0.529791  (0_PC3, 16_PC2, 8_PC2, 14_PC2, 0_PC2)       5\n",
            "712  0.510949  (0_PC3, 8_PC2, 14_PC2, 16_PC3, 0_PC2)       5\n",
            "713  0.500764  (0_PC3, 16_PC2, 8_PC2, 16_PC3, 0_PC2)       5\n",
            "\n",
            "[142 rows x 3 columns]\n",
            "      support                                      itemsets  length\n",
            "714  0.506196    (5_PC1, 8_PC2, 8_PC1, 0_PC2, 2_PC2, 1_PC1)       6\n",
            "715  0.535393    (0_PC3, 5_PC1, 8_PC1, 0_PC2, 2_PC2, 1_PC1)       6\n",
            "716  0.539467   (5_PC1, 8_PC2, 8_PC1, 14_PC2, 0_PC2, 1_PC1)       6\n",
            "717  0.508403   (5_PC1, 16_PC2, 8_PC2, 8_PC1, 0_PC2, 1_PC1)       6\n",
            "718  0.591580    (0_PC3, 5_PC1, 8_PC2, 8_PC1, 0_PC2, 1_PC1)       6\n",
            "719  0.566797   (0_PC3, 5_PC1, 8_PC1, 14_PC2, 0_PC2, 1_PC1)       6\n",
            "720  0.537769   (0_PC3, 5_PC1, 16_PC2, 8_PC1, 0_PC2, 1_PC1)       6\n",
            "721  0.504329   (0_PC3, 5_PC1, 8_PC1, 16_PC3, 0_PC2, 1_PC1)       6\n",
            "722  0.514174    (0_PC3, 5_PC1, 8_PC2, 8_PC1, 2_PC2, 1_PC1)       6\n",
            "723  0.546597   (0_PC3, 5_PC1, 8_PC2, 8_PC1, 14_PC2, 1_PC1)       6\n",
            "724  0.515193   (0_PC3, 5_PC1, 16_PC2, 8_PC2, 8_PC1, 1_PC1)       6\n",
            "725  0.512137   (5_PC1, 8_PC2, 14_PC2, 0_PC2, 2_PC2, 1_PC1)       6\n",
            "726  0.574775    (0_PC3, 5_PC1, 8_PC2, 0_PC2, 2_PC2, 1_PC1)       6\n",
            "727  0.543371   (0_PC3, 5_PC1, 14_PC2, 0_PC2, 2_PC2, 1_PC1)       6\n",
            "728  0.514174   (0_PC3, 5_PC1, 16_PC2, 0_PC2, 2_PC2, 1_PC1)       6\n",
            "729  0.504668   (0_PC3, 5_PC1, 0_PC2, 16_PC3, 2_PC2, 1_PC1)       6\n",
            "730  0.598540   (0_PC3, 5_PC1, 8_PC2, 14_PC2, 0_PC2, 1_PC1)       6\n",
            "731  0.519267   (0_PC3, 5_PC1, 8_PC2, 0_PC2, 1_PC1, 15_PC2)       6\n",
            "732  0.558140   (0_PC3, 5_PC1, 16_PC2, 8_PC2, 0_PC2, 1_PC1)       6\n",
            "733  0.535902   (0_PC3, 5_PC1, 8_PC2, 0_PC2, 16_PC3, 1_PC1)       6\n",
            "734  0.501103        (0_PC3, 5_PC1, 8_PC2, M, 0_PC2, 1_PC1)       6\n",
            "735  0.525717  (0_PC3, 5_PC1, 16_PC2, 14_PC2, 0_PC2, 1_PC1)       6\n",
            "736  0.502461  (0_PC3, 5_PC1, 14_PC2, 16_PC3, 0_PC2, 1_PC1)       6\n",
            "737  0.518757   (0_PC3, 5_PC1, 8_PC2, 14_PC2, 2_PC2, 1_PC1)       6\n",
            "738  0.503819  (0_PC3, 5_PC1, 16_PC2, 8_PC2, 14_PC2, 1_PC1)       6\n",
            "739  0.528433    (0_PC3, 8_PC2, 8_PC1, 0_PC2, 2_PC2, 1_PC1)       6\n",
            "740  0.505856   (0_PC3, 8_PC1, 14_PC2, 0_PC2, 2_PC2, 1_PC1)       6\n",
            "741  0.558479   (0_PC3, 8_PC2, 8_PC1, 14_PC2, 0_PC2, 1_PC1)       6\n",
            "742  0.533356   (0_PC3, 16_PC2, 8_PC2, 8_PC1, 0_PC2, 1_PC1)       6\n",
            "743  0.503819   (0_PC3, 8_PC2, 8_PC1, 0_PC2, 16_PC3, 1_PC1)       6\n",
            "744  0.507893  (0_PC3, 16_PC2, 8_PC1, 14_PC2, 0_PC2, 1_PC1)       6\n",
            "745  0.528773   (0_PC3, 8_PC2, 14_PC2, 0_PC2, 2_PC2, 1_PC1)       6\n",
            "746  0.513156   (0_PC3, 16_PC2, 8_PC2, 0_PC2, 2_PC2, 1_PC1)       6\n",
            "747  0.506875   (0_PC3, 8_PC2, 0_PC2, 16_PC3, 2_PC2, 1_PC1)       6\n",
            "748  0.517569  (0_PC3, 16_PC2, 8_PC2, 14_PC2, 0_PC2, 1_PC1)       6\n",
            "749  0.506196    (0_PC3, 5_PC1, 8_PC2, 8_PC1, 0_PC2, 2_PC2)       6\n",
            "750  0.563572   (0_PC3, 5_PC1, 8_PC2, 8_PC1, 14_PC2, 0_PC2)       6\n",
            "751  0.523850   (0_PC3, 5_PC1, 16_PC2, 8_PC2, 8_PC1, 0_PC2)       6\n",
            "752  0.501782  (0_PC3, 5_PC1, 16_PC2, 8_PC1, 14_PC2, 0_PC2)       6\n",
            "753  0.512137   (0_PC3, 5_PC1, 8_PC2, 14_PC2, 0_PC2, 2_PC2)       6\n",
            "754  0.511119  (0_PC3, 5_PC1, 16_PC2, 8_PC2, 14_PC2, 0_PC2)       6\n",
            "      support                                           itemsets  length\n",
            "755  0.506196  (0_PC3, 5_PC1, 8_PC2, 8_PC1, 0_PC2, 2_PC2, 1_PC1)       7\n",
            "756  0.539467  (0_PC3, 5_PC1, 8_PC2, 8_PC1, 14_PC2, 0_PC2, 1_...       7\n",
            "757  0.508403  (0_PC3, 5_PC1, 16_PC2, 8_PC2, 8_PC1, 0_PC2, 1_...       7\n",
            "758  0.512137  (0_PC3, 5_PC1, 8_PC2, 14_PC2, 0_PC2, 2_PC2, 1_...       7\n"
          ]
        }
      ]
    },
    {
      "cell_type": "markdown",
      "source": [
        "Observamos que se crean cadenas de items de longitud 7 con un soporte mayor que 0.5. "
      ],
      "metadata": {
        "id": "tjCevPRz4ib7"
      },
      "id": "tjCevPRz4ib7"
    },
    {
      "cell_type": "markdown",
      "source": [
        "Lo próximo es calcular todas las posibles reglas, evaluando así la confianza de cada una. Pero para ello primero se debe hacer un proceso de limpieza, ya que anteriormente se reemplazaron las categorías de los productos con NaN's por 0's. No se desea que estos 0's produzcan reglas de asociación, ya que en verdad, son inexistentes, no implican ninguna información útil. \n",
        "\n",
        "Los borramos así de los itemsets frecuentes: "
      ],
      "metadata": {
        "id": "W4k3tgpI4xet"
      },
      "id": "W4k3tgpI4xet"
    },
    {
      "cell_type": "code",
      "source": [
        "frequents_with_zero=frequent_itemsets['itemsets'].apply(lambda x: '0_PC2' in x) |frequent_itemsets['itemsets'].apply(lambda x: '0_PC3' in x)\n",
        "\n"
      ],
      "metadata": {
        "id": "J3q0EQwdHWds"
      },
      "id": "J3q0EQwdHWds",
      "execution_count": 85,
      "outputs": []
    },
    {
      "cell_type": "code",
      "source": [
        "frequent_itemsets = frequent_itemsets.drop(frequent_itemsets[frequents_with_zero].index)"
      ],
      "metadata": {
        "id": "aKfn79iNH3DM"
      },
      "id": "aKfn79iNH3DM",
      "execution_count": 86,
      "outputs": []
    },
    {
      "cell_type": "markdown",
      "source": [
        "Una vez realizado, se procede a calcular la confianza de todas las reglas, sin umbral mínimo: "
      ],
      "metadata": {
        "id": "1-ibNS8W5fw2"
      },
      "id": "1-ibNS8W5fw2"
    },
    {
      "cell_type": "code",
      "source": [
        "rules = association_rules(frequent_itemsets, metric='confidence', min_threshold=0)\n",
        "rules"
      ],
      "metadata": {
        "id": "KaEkdtva73Ap",
        "outputId": "f5c816d5-a26c-42ad-eb34-e8c6643904e9",
        "colab": {
          "base_uri": "https://localhost:8080/",
          "height": 571
        }
      },
      "id": "KaEkdtva73Ap",
      "execution_count": 87,
      "outputs": [
        {
          "output_type": "execute_result",
          "data": {
            "text/plain": [
              "      antecedents                     consequents  antecedent support  \\\n",
              "0         (1_PC1)                     (0_Marital)            0.905958   \n",
              "1     (0_Marital)                         (1_PC1)            0.580037   \n",
              "2         (1_PC1)                         (2_PC1)            0.905958   \n",
              "3         (2_PC1)                         (1_PC1)            0.536581   \n",
              "4         (1_PC1)                         (5_PC1)            0.905958   \n",
              "...           ...                             ...                 ...   \n",
              "1265      (5_PC1)  (1_PC1, 16_PC2, 8_PC2, 14_PC2)            0.852996   \n",
              "1266     (16_PC2)   (1_PC1, 8_PC2, 5_PC1, 14_PC2)            0.723986   \n",
              "1267      (8_PC2)  (1_PC1, 16_PC2, 5_PC1, 14_PC2)            0.830929   \n",
              "1268     (14_PC2)   (1_PC1, 16_PC2, 8_PC2, 5_PC1)            0.757936   \n",
              "1269      (1_PC1)  (16_PC2, 8_PC2, 5_PC1, 14_PC2)            0.905958   \n",
              "\n",
              "      consequent support   support  confidence      lift  leverage  conviction  \n",
              "0               0.580037  0.527245    0.581975  1.003340  0.001755    1.004635  \n",
              "1               0.905958  0.527245    0.908984  1.003340  0.001755    1.033250  \n",
              "2               0.536581  0.516551    0.570171  1.062599  0.030430    1.078146  \n",
              "3               0.905958  0.516551    0.962670  1.062599  0.030430    2.519203  \n",
              "4               0.852996  0.781531    0.862657  1.011326  0.008752    1.070341  \n",
              "...                  ...       ...         ...       ...       ...         ...  \n",
              "1265            0.525378  0.503819    0.590647  1.124233  0.055674    1.159444  \n",
              "1266            0.607707  0.503819    0.695897  1.145120  0.063848    1.290001  \n",
              "1267            0.533186  0.503819    0.606333  1.137188  0.060780    1.185809  \n",
              "1268            0.567306  0.503819    0.664726  1.171723  0.073838    1.290567  \n",
              "1269            0.516551  0.503819    0.556118  1.076598  0.035846    1.089138  \n",
              "\n",
              "[1270 rows x 9 columns]"
            ],
            "text/html": [
              "\n",
              "  <div id=\"df-8a8e331c-2536-4535-a3ee-741d7687ee51\">\n",
              "    <div class=\"colab-df-container\">\n",
              "      <div>\n",
              "<style scoped>\n",
              "    .dataframe tbody tr th:only-of-type {\n",
              "        vertical-align: middle;\n",
              "    }\n",
              "\n",
              "    .dataframe tbody tr th {\n",
              "        vertical-align: top;\n",
              "    }\n",
              "\n",
              "    .dataframe thead th {\n",
              "        text-align: right;\n",
              "    }\n",
              "</style>\n",
              "<table border=\"1\" class=\"dataframe\">\n",
              "  <thead>\n",
              "    <tr style=\"text-align: right;\">\n",
              "      <th></th>\n",
              "      <th>antecedents</th>\n",
              "      <th>consequents</th>\n",
              "      <th>antecedent support</th>\n",
              "      <th>consequent support</th>\n",
              "      <th>support</th>\n",
              "      <th>confidence</th>\n",
              "      <th>lift</th>\n",
              "      <th>leverage</th>\n",
              "      <th>conviction</th>\n",
              "    </tr>\n",
              "  </thead>\n",
              "  <tbody>\n",
              "    <tr>\n",
              "      <th>0</th>\n",
              "      <td>(1_PC1)</td>\n",
              "      <td>(0_Marital)</td>\n",
              "      <td>0.905958</td>\n",
              "      <td>0.580037</td>\n",
              "      <td>0.527245</td>\n",
              "      <td>0.581975</td>\n",
              "      <td>1.003340</td>\n",
              "      <td>0.001755</td>\n",
              "      <td>1.004635</td>\n",
              "    </tr>\n",
              "    <tr>\n",
              "      <th>1</th>\n",
              "      <td>(0_Marital)</td>\n",
              "      <td>(1_PC1)</td>\n",
              "      <td>0.580037</td>\n",
              "      <td>0.905958</td>\n",
              "      <td>0.527245</td>\n",
              "      <td>0.908984</td>\n",
              "      <td>1.003340</td>\n",
              "      <td>0.001755</td>\n",
              "      <td>1.033250</td>\n",
              "    </tr>\n",
              "    <tr>\n",
              "      <th>2</th>\n",
              "      <td>(1_PC1)</td>\n",
              "      <td>(2_PC1)</td>\n",
              "      <td>0.905958</td>\n",
              "      <td>0.536581</td>\n",
              "      <td>0.516551</td>\n",
              "      <td>0.570171</td>\n",
              "      <td>1.062599</td>\n",
              "      <td>0.030430</td>\n",
              "      <td>1.078146</td>\n",
              "    </tr>\n",
              "    <tr>\n",
              "      <th>3</th>\n",
              "      <td>(2_PC1)</td>\n",
              "      <td>(1_PC1)</td>\n",
              "      <td>0.536581</td>\n",
              "      <td>0.905958</td>\n",
              "      <td>0.516551</td>\n",
              "      <td>0.962670</td>\n",
              "      <td>1.062599</td>\n",
              "      <td>0.030430</td>\n",
              "      <td>2.519203</td>\n",
              "    </tr>\n",
              "    <tr>\n",
              "      <th>4</th>\n",
              "      <td>(1_PC1)</td>\n",
              "      <td>(5_PC1)</td>\n",
              "      <td>0.905958</td>\n",
              "      <td>0.852996</td>\n",
              "      <td>0.781531</td>\n",
              "      <td>0.862657</td>\n",
              "      <td>1.011326</td>\n",
              "      <td>0.008752</td>\n",
              "      <td>1.070341</td>\n",
              "    </tr>\n",
              "    <tr>\n",
              "      <th>...</th>\n",
              "      <td>...</td>\n",
              "      <td>...</td>\n",
              "      <td>...</td>\n",
              "      <td>...</td>\n",
              "      <td>...</td>\n",
              "      <td>...</td>\n",
              "      <td>...</td>\n",
              "      <td>...</td>\n",
              "      <td>...</td>\n",
              "    </tr>\n",
              "    <tr>\n",
              "      <th>1265</th>\n",
              "      <td>(5_PC1)</td>\n",
              "      <td>(1_PC1, 16_PC2, 8_PC2, 14_PC2)</td>\n",
              "      <td>0.852996</td>\n",
              "      <td>0.525378</td>\n",
              "      <td>0.503819</td>\n",
              "      <td>0.590647</td>\n",
              "      <td>1.124233</td>\n",
              "      <td>0.055674</td>\n",
              "      <td>1.159444</td>\n",
              "    </tr>\n",
              "    <tr>\n",
              "      <th>1266</th>\n",
              "      <td>(16_PC2)</td>\n",
              "      <td>(1_PC1, 8_PC2, 5_PC1, 14_PC2)</td>\n",
              "      <td>0.723986</td>\n",
              "      <td>0.607707</td>\n",
              "      <td>0.503819</td>\n",
              "      <td>0.695897</td>\n",
              "      <td>1.145120</td>\n",
              "      <td>0.063848</td>\n",
              "      <td>1.290001</td>\n",
              "    </tr>\n",
              "    <tr>\n",
              "      <th>1267</th>\n",
              "      <td>(8_PC2)</td>\n",
              "      <td>(1_PC1, 16_PC2, 5_PC1, 14_PC2)</td>\n",
              "      <td>0.830929</td>\n",
              "      <td>0.533186</td>\n",
              "      <td>0.503819</td>\n",
              "      <td>0.606333</td>\n",
              "      <td>1.137188</td>\n",
              "      <td>0.060780</td>\n",
              "      <td>1.185809</td>\n",
              "    </tr>\n",
              "    <tr>\n",
              "      <th>1268</th>\n",
              "      <td>(14_PC2)</td>\n",
              "      <td>(1_PC1, 16_PC2, 8_PC2, 5_PC1)</td>\n",
              "      <td>0.757936</td>\n",
              "      <td>0.567306</td>\n",
              "      <td>0.503819</td>\n",
              "      <td>0.664726</td>\n",
              "      <td>1.171723</td>\n",
              "      <td>0.073838</td>\n",
              "      <td>1.290567</td>\n",
              "    </tr>\n",
              "    <tr>\n",
              "      <th>1269</th>\n",
              "      <td>(1_PC1)</td>\n",
              "      <td>(16_PC2, 8_PC2, 5_PC1, 14_PC2)</td>\n",
              "      <td>0.905958</td>\n",
              "      <td>0.516551</td>\n",
              "      <td>0.503819</td>\n",
              "      <td>0.556118</td>\n",
              "      <td>1.076598</td>\n",
              "      <td>0.035846</td>\n",
              "      <td>1.089138</td>\n",
              "    </tr>\n",
              "  </tbody>\n",
              "</table>\n",
              "<p>1270 rows × 9 columns</p>\n",
              "</div>\n",
              "      <button class=\"colab-df-convert\" onclick=\"convertToInteractive('df-8a8e331c-2536-4535-a3ee-741d7687ee51')\"\n",
              "              title=\"Convert this dataframe to an interactive table.\"\n",
              "              style=\"display:none;\">\n",
              "        \n",
              "  <svg xmlns=\"http://www.w3.org/2000/svg\" height=\"24px\"viewBox=\"0 0 24 24\"\n",
              "       width=\"24px\">\n",
              "    <path d=\"M0 0h24v24H0V0z\" fill=\"none\"/>\n",
              "    <path d=\"M18.56 5.44l.94 2.06.94-2.06 2.06-.94-2.06-.94-.94-2.06-.94 2.06-2.06.94zm-11 1L8.5 8.5l.94-2.06 2.06-.94-2.06-.94L8.5 2.5l-.94 2.06-2.06.94zm10 10l.94 2.06.94-2.06 2.06-.94-2.06-.94-.94-2.06-.94 2.06-2.06.94z\"/><path d=\"M17.41 7.96l-1.37-1.37c-.4-.4-.92-.59-1.43-.59-.52 0-1.04.2-1.43.59L10.3 9.45l-7.72 7.72c-.78.78-.78 2.05 0 2.83L4 21.41c.39.39.9.59 1.41.59.51 0 1.02-.2 1.41-.59l7.78-7.78 2.81-2.81c.8-.78.8-2.07 0-2.86zM5.41 20L4 18.59l7.72-7.72 1.47 1.35L5.41 20z\"/>\n",
              "  </svg>\n",
              "      </button>\n",
              "      \n",
              "  <style>\n",
              "    .colab-df-container {\n",
              "      display:flex;\n",
              "      flex-wrap:wrap;\n",
              "      gap: 12px;\n",
              "    }\n",
              "\n",
              "    .colab-df-convert {\n",
              "      background-color: #E8F0FE;\n",
              "      border: none;\n",
              "      border-radius: 50%;\n",
              "      cursor: pointer;\n",
              "      display: none;\n",
              "      fill: #1967D2;\n",
              "      height: 32px;\n",
              "      padding: 0 0 0 0;\n",
              "      width: 32px;\n",
              "    }\n",
              "\n",
              "    .colab-df-convert:hover {\n",
              "      background-color: #E2EBFA;\n",
              "      box-shadow: 0px 1px 2px rgba(60, 64, 67, 0.3), 0px 1px 3px 1px rgba(60, 64, 67, 0.15);\n",
              "      fill: #174EA6;\n",
              "    }\n",
              "\n",
              "    [theme=dark] .colab-df-convert {\n",
              "      background-color: #3B4455;\n",
              "      fill: #D2E3FC;\n",
              "    }\n",
              "\n",
              "    [theme=dark] .colab-df-convert:hover {\n",
              "      background-color: #434B5C;\n",
              "      box-shadow: 0px 1px 3px 1px rgba(0, 0, 0, 0.15);\n",
              "      filter: drop-shadow(0px 1px 2px rgba(0, 0, 0, 0.3));\n",
              "      fill: #FFFFFF;\n",
              "    }\n",
              "  </style>\n",
              "\n",
              "      <script>\n",
              "        const buttonEl =\n",
              "          document.querySelector('#df-8a8e331c-2536-4535-a3ee-741d7687ee51 button.colab-df-convert');\n",
              "        buttonEl.style.display =\n",
              "          google.colab.kernel.accessAllowed ? 'block' : 'none';\n",
              "\n",
              "        async function convertToInteractive(key) {\n",
              "          const element = document.querySelector('#df-8a8e331c-2536-4535-a3ee-741d7687ee51');\n",
              "          const dataTable =\n",
              "            await google.colab.kernel.invokeFunction('convertToInteractive',\n",
              "                                                     [key], {});\n",
              "          if (!dataTable) return;\n",
              "\n",
              "          const docLinkHtml = 'Like what you see? Visit the ' +\n",
              "            '<a target=\"_blank\" href=https://colab.research.google.com/notebooks/data_table.ipynb>data table notebook</a>'\n",
              "            + ' to learn more about interactive tables.';\n",
              "          element.innerHTML = '';\n",
              "          dataTable['output_type'] = 'display_data';\n",
              "          await google.colab.output.renderOutput(dataTable, element);\n",
              "          const docLink = document.createElement('div');\n",
              "          docLink.innerHTML = docLinkHtml;\n",
              "          element.appendChild(docLink);\n",
              "        }\n",
              "      </script>\n",
              "    </div>\n",
              "  </div>\n",
              "  "
            ]
          },
          "metadata": {},
          "execution_count": 87
        }
      ]
    },
    {
      "cell_type": "markdown",
      "source": [
        "Ahora mostramos aquellas reglas que sean de alta confianza. El criterio para ello es que el umbral mínimo sea de 0.95, es decir, la implicación del antecedente, tiende a la ocurrencia del consecuente.\n",
        "Además, modificando el umbral mínimo, se van a devolver todas las reglas que cumplan con dicha confianza."
      ],
      "metadata": {
        "id": "20UqDuNA5qR0"
      },
      "id": "20UqDuNA5qR0"
    },
    {
      "cell_type": "code",
      "source": [
        "rulesaltaconfianza = association_rules(frequent_itemsets, metric='confidence', min_threshold=0.95)\n",
        "rulesaltaconfianza"
      ],
      "metadata": {
        "colab": {
          "base_uri": "https://localhost:8080/",
          "height": 571
        },
        "id": "hZ8Ym0HXH6G4",
        "outputId": "4d134660-8d64-41e7-8fe8-ee5ba8727192"
      },
      "id": "hZ8Ym0HXH6G4",
      "execution_count": 88,
      "outputs": [
        {
          "output_type": "execute_result",
          "data": {
            "text/plain": [
              "                       antecedents     consequents  antecedent support  \\\n",
              "0                          (2_PC1)         (1_PC1)            0.536581   \n",
              "1                          (2_PC2)         (1_PC1)            0.729588   \n",
              "2                          (4_PC2)         (1_PC1)            0.527075   \n",
              "3                          (5_PC2)         (1_PC1)            0.592938   \n",
              "4                          (6_PC2)         (1_PC1)            0.516890   \n",
              "..                             ...             ...                 ...   \n",
              "87   (2_PC2, 8_PC2, 5_PC1, 14_PC2)         (1_PC1)            0.518757   \n",
              "88   (1_PC1, 8_PC2, 2_PC2, 14_PC2)         (5_PC1)            0.537430   \n",
              "89          (8_PC2, 2_PC2, 14_PC2)  (1_PC1, 5_PC1)            0.537430   \n",
              "90  (16_PC2, 8_PC2, 5_PC1, 14_PC2)         (1_PC1)            0.516551   \n",
              "91  (1_PC1, 16_PC2, 8_PC2, 14_PC2)         (5_PC1)            0.525378   \n",
              "\n",
              "    consequent support   support  confidence      lift  leverage  conviction  \n",
              "0             0.905958  0.516551    0.962670  1.062599  0.030430    2.519203  \n",
              "1             0.905958  0.729588    1.000000  1.103804  0.068612         inf  \n",
              "2             0.905958  0.500934    0.950403  1.049058  0.023426    1.896102  \n",
              "3             0.905958  0.571550    0.963928  1.063987  0.034372    2.607047  \n",
              "4             0.905958  0.502971    0.973071  1.074079  0.034690    3.492160  \n",
              "..                 ...       ...         ...       ...       ...         ...  \n",
              "87            0.905958  0.518757    1.000000  1.103804  0.048785         inf  \n",
              "88            0.852996  0.518757    0.965256  1.131606  0.060332    4.231040  \n",
              "89            0.781531  0.518757    0.965256  1.235083  0.098739    6.287931  \n",
              "90            0.905958  0.503819    0.975353  1.076598  0.035846    3.815588  \n",
              "91            0.852996  0.503819    0.958966  1.124233  0.055674    3.582497  \n",
              "\n",
              "[92 rows x 9 columns]"
            ],
            "text/html": [
              "\n",
              "  <div id=\"df-eb2a6ff1-e407-489d-a141-7f5121fc76ed\">\n",
              "    <div class=\"colab-df-container\">\n",
              "      <div>\n",
              "<style scoped>\n",
              "    .dataframe tbody tr th:only-of-type {\n",
              "        vertical-align: middle;\n",
              "    }\n",
              "\n",
              "    .dataframe tbody tr th {\n",
              "        vertical-align: top;\n",
              "    }\n",
              "\n",
              "    .dataframe thead th {\n",
              "        text-align: right;\n",
              "    }\n",
              "</style>\n",
              "<table border=\"1\" class=\"dataframe\">\n",
              "  <thead>\n",
              "    <tr style=\"text-align: right;\">\n",
              "      <th></th>\n",
              "      <th>antecedents</th>\n",
              "      <th>consequents</th>\n",
              "      <th>antecedent support</th>\n",
              "      <th>consequent support</th>\n",
              "      <th>support</th>\n",
              "      <th>confidence</th>\n",
              "      <th>lift</th>\n",
              "      <th>leverage</th>\n",
              "      <th>conviction</th>\n",
              "    </tr>\n",
              "  </thead>\n",
              "  <tbody>\n",
              "    <tr>\n",
              "      <th>0</th>\n",
              "      <td>(2_PC1)</td>\n",
              "      <td>(1_PC1)</td>\n",
              "      <td>0.536581</td>\n",
              "      <td>0.905958</td>\n",
              "      <td>0.516551</td>\n",
              "      <td>0.962670</td>\n",
              "      <td>1.062599</td>\n",
              "      <td>0.030430</td>\n",
              "      <td>2.519203</td>\n",
              "    </tr>\n",
              "    <tr>\n",
              "      <th>1</th>\n",
              "      <td>(2_PC2)</td>\n",
              "      <td>(1_PC1)</td>\n",
              "      <td>0.729588</td>\n",
              "      <td>0.905958</td>\n",
              "      <td>0.729588</td>\n",
              "      <td>1.000000</td>\n",
              "      <td>1.103804</td>\n",
              "      <td>0.068612</td>\n",
              "      <td>inf</td>\n",
              "    </tr>\n",
              "    <tr>\n",
              "      <th>2</th>\n",
              "      <td>(4_PC2)</td>\n",
              "      <td>(1_PC1)</td>\n",
              "      <td>0.527075</td>\n",
              "      <td>0.905958</td>\n",
              "      <td>0.500934</td>\n",
              "      <td>0.950403</td>\n",
              "      <td>1.049058</td>\n",
              "      <td>0.023426</td>\n",
              "      <td>1.896102</td>\n",
              "    </tr>\n",
              "    <tr>\n",
              "      <th>3</th>\n",
              "      <td>(5_PC2)</td>\n",
              "      <td>(1_PC1)</td>\n",
              "      <td>0.592938</td>\n",
              "      <td>0.905958</td>\n",
              "      <td>0.571550</td>\n",
              "      <td>0.963928</td>\n",
              "      <td>1.063987</td>\n",
              "      <td>0.034372</td>\n",
              "      <td>2.607047</td>\n",
              "    </tr>\n",
              "    <tr>\n",
              "      <th>4</th>\n",
              "      <td>(6_PC2)</td>\n",
              "      <td>(1_PC1)</td>\n",
              "      <td>0.516890</td>\n",
              "      <td>0.905958</td>\n",
              "      <td>0.502971</td>\n",
              "      <td>0.973071</td>\n",
              "      <td>1.074079</td>\n",
              "      <td>0.034690</td>\n",
              "      <td>3.492160</td>\n",
              "    </tr>\n",
              "    <tr>\n",
              "      <th>...</th>\n",
              "      <td>...</td>\n",
              "      <td>...</td>\n",
              "      <td>...</td>\n",
              "      <td>...</td>\n",
              "      <td>...</td>\n",
              "      <td>...</td>\n",
              "      <td>...</td>\n",
              "      <td>...</td>\n",
              "      <td>...</td>\n",
              "    </tr>\n",
              "    <tr>\n",
              "      <th>87</th>\n",
              "      <td>(2_PC2, 8_PC2, 5_PC1, 14_PC2)</td>\n",
              "      <td>(1_PC1)</td>\n",
              "      <td>0.518757</td>\n",
              "      <td>0.905958</td>\n",
              "      <td>0.518757</td>\n",
              "      <td>1.000000</td>\n",
              "      <td>1.103804</td>\n",
              "      <td>0.048785</td>\n",
              "      <td>inf</td>\n",
              "    </tr>\n",
              "    <tr>\n",
              "      <th>88</th>\n",
              "      <td>(1_PC1, 8_PC2, 2_PC2, 14_PC2)</td>\n",
              "      <td>(5_PC1)</td>\n",
              "      <td>0.537430</td>\n",
              "      <td>0.852996</td>\n",
              "      <td>0.518757</td>\n",
              "      <td>0.965256</td>\n",
              "      <td>1.131606</td>\n",
              "      <td>0.060332</td>\n",
              "      <td>4.231040</td>\n",
              "    </tr>\n",
              "    <tr>\n",
              "      <th>89</th>\n",
              "      <td>(8_PC2, 2_PC2, 14_PC2)</td>\n",
              "      <td>(1_PC1, 5_PC1)</td>\n",
              "      <td>0.537430</td>\n",
              "      <td>0.781531</td>\n",
              "      <td>0.518757</td>\n",
              "      <td>0.965256</td>\n",
              "      <td>1.235083</td>\n",
              "      <td>0.098739</td>\n",
              "      <td>6.287931</td>\n",
              "    </tr>\n",
              "    <tr>\n",
              "      <th>90</th>\n",
              "      <td>(16_PC2, 8_PC2, 5_PC1, 14_PC2)</td>\n",
              "      <td>(1_PC1)</td>\n",
              "      <td>0.516551</td>\n",
              "      <td>0.905958</td>\n",
              "      <td>0.503819</td>\n",
              "      <td>0.975353</td>\n",
              "      <td>1.076598</td>\n",
              "      <td>0.035846</td>\n",
              "      <td>3.815588</td>\n",
              "    </tr>\n",
              "    <tr>\n",
              "      <th>91</th>\n",
              "      <td>(1_PC1, 16_PC2, 8_PC2, 14_PC2)</td>\n",
              "      <td>(5_PC1)</td>\n",
              "      <td>0.525378</td>\n",
              "      <td>0.852996</td>\n",
              "      <td>0.503819</td>\n",
              "      <td>0.958966</td>\n",
              "      <td>1.124233</td>\n",
              "      <td>0.055674</td>\n",
              "      <td>3.582497</td>\n",
              "    </tr>\n",
              "  </tbody>\n",
              "</table>\n",
              "<p>92 rows × 9 columns</p>\n",
              "</div>\n",
              "      <button class=\"colab-df-convert\" onclick=\"convertToInteractive('df-eb2a6ff1-e407-489d-a141-7f5121fc76ed')\"\n",
              "              title=\"Convert this dataframe to an interactive table.\"\n",
              "              style=\"display:none;\">\n",
              "        \n",
              "  <svg xmlns=\"http://www.w3.org/2000/svg\" height=\"24px\"viewBox=\"0 0 24 24\"\n",
              "       width=\"24px\">\n",
              "    <path d=\"M0 0h24v24H0V0z\" fill=\"none\"/>\n",
              "    <path d=\"M18.56 5.44l.94 2.06.94-2.06 2.06-.94-2.06-.94-.94-2.06-.94 2.06-2.06.94zm-11 1L8.5 8.5l.94-2.06 2.06-.94-2.06-.94L8.5 2.5l-.94 2.06-2.06.94zm10 10l.94 2.06.94-2.06 2.06-.94-2.06-.94-.94-2.06-.94 2.06-2.06.94z\"/><path d=\"M17.41 7.96l-1.37-1.37c-.4-.4-.92-.59-1.43-.59-.52 0-1.04.2-1.43.59L10.3 9.45l-7.72 7.72c-.78.78-.78 2.05 0 2.83L4 21.41c.39.39.9.59 1.41.59.51 0 1.02-.2 1.41-.59l7.78-7.78 2.81-2.81c.8-.78.8-2.07 0-2.86zM5.41 20L4 18.59l7.72-7.72 1.47 1.35L5.41 20z\"/>\n",
              "  </svg>\n",
              "      </button>\n",
              "      \n",
              "  <style>\n",
              "    .colab-df-container {\n",
              "      display:flex;\n",
              "      flex-wrap:wrap;\n",
              "      gap: 12px;\n",
              "    }\n",
              "\n",
              "    .colab-df-convert {\n",
              "      background-color: #E8F0FE;\n",
              "      border: none;\n",
              "      border-radius: 50%;\n",
              "      cursor: pointer;\n",
              "      display: none;\n",
              "      fill: #1967D2;\n",
              "      height: 32px;\n",
              "      padding: 0 0 0 0;\n",
              "      width: 32px;\n",
              "    }\n",
              "\n",
              "    .colab-df-convert:hover {\n",
              "      background-color: #E2EBFA;\n",
              "      box-shadow: 0px 1px 2px rgba(60, 64, 67, 0.3), 0px 1px 3px 1px rgba(60, 64, 67, 0.15);\n",
              "      fill: #174EA6;\n",
              "    }\n",
              "\n",
              "    [theme=dark] .colab-df-convert {\n",
              "      background-color: #3B4455;\n",
              "      fill: #D2E3FC;\n",
              "    }\n",
              "\n",
              "    [theme=dark] .colab-df-convert:hover {\n",
              "      background-color: #434B5C;\n",
              "      box-shadow: 0px 1px 3px 1px rgba(0, 0, 0, 0.15);\n",
              "      filter: drop-shadow(0px 1px 2px rgba(0, 0, 0, 0.3));\n",
              "      fill: #FFFFFF;\n",
              "    }\n",
              "  </style>\n",
              "\n",
              "      <script>\n",
              "        const buttonEl =\n",
              "          document.querySelector('#df-eb2a6ff1-e407-489d-a141-7f5121fc76ed button.colab-df-convert');\n",
              "        buttonEl.style.display =\n",
              "          google.colab.kernel.accessAllowed ? 'block' : 'none';\n",
              "\n",
              "        async function convertToInteractive(key) {\n",
              "          const element = document.querySelector('#df-eb2a6ff1-e407-489d-a141-7f5121fc76ed');\n",
              "          const dataTable =\n",
              "            await google.colab.kernel.invokeFunction('convertToInteractive',\n",
              "                                                     [key], {});\n",
              "          if (!dataTable) return;\n",
              "\n",
              "          const docLinkHtml = 'Like what you see? Visit the ' +\n",
              "            '<a target=\"_blank\" href=https://colab.research.google.com/notebooks/data_table.ipynb>data table notebook</a>'\n",
              "            + ' to learn more about interactive tables.';\n",
              "          element.innerHTML = '';\n",
              "          dataTable['output_type'] = 'display_data';\n",
              "          await google.colab.output.renderOutput(dataTable, element);\n",
              "          const docLink = document.createElement('div');\n",
              "          docLink.innerHTML = docLinkHtml;\n",
              "          element.appendChild(docLink);\n",
              "        }\n",
              "      </script>\n",
              "    </div>\n",
              "  </div>\n",
              "  "
            ]
          },
          "metadata": {},
          "execution_count": 88
        }
      ]
    },
    {
      "cell_type": "markdown",
      "source": [
        "Dado un antecedente, se desea que se muestren todas las reglas que lo contengan. Pongamonos en el suceso de que queremos hacer una comparación de sexo, para ello imprimimos todas aquellas reglas cuyo antecedente, contenga sexo masculino, y luego femenino."
      ],
      "metadata": {
        "id": "tnOykqoZ6ouV"
      },
      "id": "tnOykqoZ6ouV"
    },
    {
      "cell_type": "code",
      "source": [
        "print(rules[rules['antecedents'].apply(lambda x: 'M' in x)])\n"
      ],
      "metadata": {
        "id": "ju9vYorMA3IV",
        "outputId": "9895e7dc-3e7d-461e-e58e-29800b9962ed",
        "colab": {
          "base_uri": "https://localhost:8080/"
        }
      },
      "id": "ju9vYorMA3IV",
      "execution_count": 116,
      "outputs": [
        {
          "output_type": "stream",
          "name": "stdout",
          "text": [
            "           antecedents            consequents  antecedent support  \\\n",
            "35                 (M)                (1_PC1)            0.717196   \n",
            "59                 (M)                (5_PC1)            0.717196   \n",
            "73                 (M)                (8_PC1)            0.717196   \n",
            "89                 (M)                (2_PC2)            0.717196   \n",
            "109                (M)                (8_PC2)            0.717196   \n",
            "117                (M)               (14_PC2)            0.717196   \n",
            "123                (M)               (15_PC2)            0.717196   \n",
            "127                (M)               (16_PC2)            0.717196   \n",
            "129                (M)               (16_PC3)            0.717196   \n",
            "185         (1_PC1, M)                (5_PC1)            0.663724   \n",
            "186         (5_PC1, M)                (1_PC1)            0.608216   \n",
            "189                (M)         (1_PC1, 5_PC1)            0.717196   \n",
            "227         (1_PC1, M)                (8_PC1)            0.663724   \n",
            "228         (8_PC1, M)                (1_PC1)            0.550331   \n",
            "231                (M)         (1_PC1, 8_PC1)            0.717196   \n",
            "275         (1_PC1, M)                (2_PC2)            0.663724   \n",
            "276         (2_PC2, M)                (1_PC1)            0.551859   \n",
            "279                (M)         (1_PC1, 2_PC2)            0.717196   \n",
            "317         (1_PC1, M)                (8_PC2)            0.663724   \n",
            "318         (8_PC2, M)                (1_PC1)            0.596673   \n",
            "321                (M)         (1_PC1, 8_PC2)            0.717196   \n",
            "359         (1_PC1, M)               (16_PC2)            0.663724   \n",
            "360        (16_PC2, M)                (1_PC1)            0.539127   \n",
            "363                (M)        (1_PC1, 16_PC2)            0.717196   \n",
            "461         (8_PC2, M)                (5_PC1)            0.596673   \n",
            "462         (5_PC1, M)                (8_PC2)            0.608216   \n",
            "465                (M)         (8_PC2, 5_PC1)            0.717196   \n",
            "785  (1_PC1, 8_PC2, M)                (5_PC1)            0.565948   \n",
            "786  (1_PC1, 5_PC1, M)                (8_PC2)            0.569683   \n",
            "787  (8_PC2, 5_PC1, M)                (1_PC1)            0.539976   \n",
            "790         (1_PC1, M)         (8_PC2, 5_PC1)            0.663724   \n",
            "792         (8_PC2, M)         (1_PC1, 5_PC1)            0.596673   \n",
            "793         (5_PC1, M)         (1_PC1, 8_PC2)            0.608216   \n",
            "797                (M)  (1_PC1, 8_PC2, 5_PC1)            0.717196   \n",
            "\n",
            "     consequent support   support  confidence      lift  leverage  conviction  \n",
            "35             0.905958  0.663724    0.925444  1.021508  0.013975    1.261354  \n",
            "59             0.852996  0.608216    0.848047  0.994198 -0.003549    0.967432  \n",
            "73             0.767951  0.550331    0.767337  0.999201 -0.000440    0.997362  \n",
            "89             0.729588  0.551859    0.769467  1.054661  0.028602    1.172991  \n",
            "109            0.830929  0.596673    0.831953  1.001233  0.000734    1.006094  \n",
            "117            0.757936  0.527924    0.736095  0.971183 -0.015664    0.917239  \n",
            "123            0.656765  0.505177    0.704379  1.072498  0.034149    1.161065  \n",
            "127            0.723986  0.539127    0.751716  1.038302  0.019888    1.111688  \n",
            "129            0.670175  0.503650    0.702249  1.047859  0.023003    1.107720  \n",
            "185            0.852996  0.569683    0.858312  1.006232  0.003528    1.037519  \n",
            "186            0.905958  0.569683    0.936645  1.033872  0.018664    1.484368  \n",
            "189            0.781531  0.569683    0.794320  1.016363  0.009172    1.062176  \n",
            "227            0.767951  0.518418    0.781074  1.017088  0.008710    1.059943  \n",
            "228            0.905958  0.518418    0.942011  1.039795  0.019841    1.621720  \n",
            "231            0.711254  0.518418    0.722840  1.016289  0.008309    1.041802  \n",
            "275            0.729588  0.551859    0.831458  1.139627  0.067614    1.604420  \n",
            "276            0.905958  0.551859    1.000000  1.103804  0.051898         inf  \n",
            "279            0.729588  0.551859    0.769467  1.054661  0.028602    1.172991  \n",
            "317            0.830929  0.565948    0.852685  1.026184  0.014441    1.147690  \n",
            "318            0.905958  0.565948    0.948506  1.046965  0.025387    1.826281  \n",
            "321            0.773892  0.565948    0.789112  1.019667  0.010916    1.072171  \n",
            "359            0.723986  0.518927    0.781841  1.079913  0.038400    1.265200  \n",
            "360            0.905958  0.518927    0.962531  1.062446  0.030500    2.509888  \n",
            "363            0.688678  0.518927    0.723550  1.050637  0.025011    1.126145  \n",
            "461            0.852996  0.539976    0.904979  1.060941  0.031017    1.547062  \n",
            "462            0.830929  0.539976    0.887804  1.068448  0.034592    1.506923  \n",
            "465            0.756748  0.539976    0.752899  0.994915 -0.002760    0.984427  \n",
            "785            0.852996  0.513835    0.907918  1.064388  0.031083    1.596453  \n",
            "786            0.830929  0.513835    0.901967  1.085492  0.040469    1.724632  \n",
            "787            0.905958  0.513835    0.951588  1.050366  0.024639    1.942512  \n",
            "790            0.756748  0.513835    0.774169  1.023021  0.011563    1.077143  \n",
            "792            0.781531  0.513835    0.861166  1.101896  0.047516    1.573602  \n",
            "793            0.773892  0.513835    0.844823  1.091654  0.043141    1.457093  \n",
            "797            0.705653  0.513835    0.716450  1.015301  0.007744    1.038078  \n"
          ]
        }
      ]
    },
    {
      "cell_type": "markdown",
      "source": [
        "Ahora imprimimos aquellas de sexo femenino: "
      ],
      "metadata": {
        "id": "fAiDC7cA7vhQ"
      },
      "id": "fAiDC7cA7vhQ"
    },
    {
      "cell_type": "code",
      "source": [
        "print(rules[rules['antecedents'].apply(lambda x: 'F' in x)])"
      ],
      "metadata": {
        "id": "5Z8WX3vY7sTS",
        "outputId": "bf3b5b62-78f5-40a9-8eaf-e82f7ef45b0b",
        "colab": {
          "base_uri": "https://localhost:8080/"
        }
      },
      "id": "5Z8WX3vY7sTS",
      "execution_count": 117,
      "outputs": [
        {
          "output_type": "stream",
          "name": "stdout",
          "text": [
            "Empty DataFrame\n",
            "Columns: [antecedents, consequents, antecedent support, consequent support, support, confidence, lift, leverage, conviction]\n",
            "Index: []\n"
          ]
        }
      ]
    },
    {
      "cell_type": "markdown",
      "source": [
        "Para un soporte de 0.5 encontramos que no hay ninguna regla de asociación que incluya en el antecedente mujeres. De aquí se puede concluir que la información recolectada en esta base de datos se ve mayormente influida por hombres que por mujeres, es decir, se ha recolectado una gran cantidad de información mayor de hombres. En el caso de que esta base de datos sea aleatoria y no se encuentre sesgada, se deduce que el día de black friday, en este comercio, acuden más hombres que mujeres. "
      ],
      "metadata": {
        "id": "bIU1Bfps73kA"
      },
      "id": "bIU1Bfps73kA"
    },
    {
      "cell_type": "code",
      "source": [
        "rulesaltaconfianzaplt= [rulesaltaconfianza['antecedents'],rulesaltaconfianza['consequents'], rulesaltaconfianza['support'] ]\n",
        "rulesaltaconfianzaplt"
      ],
      "metadata": {
        "id": "9_zd5QGO_aK2",
        "outputId": "4df688e5-c03a-45a7-e322-2a9e5ec822b6",
        "colab": {
          "base_uri": "https://localhost:8080/"
        }
      },
      "id": "9_zd5QGO_aK2",
      "execution_count": 127,
      "outputs": [
        {
          "output_type": "execute_result",
          "data": {
            "text/plain": [
              "[0                            (2_PC1)\n",
              " 1                            (2_PC2)\n",
              " 2                            (4_PC2)\n",
              " 3                            (5_PC2)\n",
              " 4                            (6_PC2)\n",
              "                    ...              \n",
              " 87     (2_PC2, 8_PC2, 5_PC1, 14_PC2)\n",
              " 88     (1_PC1, 8_PC2, 2_PC2, 14_PC2)\n",
              " 89            (8_PC2, 2_PC2, 14_PC2)\n",
              " 90    (16_PC2, 8_PC2, 5_PC1, 14_PC2)\n",
              " 91    (1_PC1, 16_PC2, 8_PC2, 14_PC2)\n",
              " Name: antecedents, Length: 92, dtype: object, 0            (1_PC1)\n",
              " 1            (1_PC1)\n",
              " 2            (1_PC1)\n",
              " 3            (1_PC1)\n",
              " 4            (1_PC1)\n",
              "            ...      \n",
              " 87           (1_PC1)\n",
              " 88           (5_PC1)\n",
              " 89    (1_PC1, 5_PC1)\n",
              " 90           (1_PC1)\n",
              " 91           (5_PC1)\n",
              " Name: consequents, Length: 92, dtype: object, 0     0.516551\n",
              " 1     0.729588\n",
              " 2     0.500934\n",
              " 3     0.571550\n",
              " 4     0.502971\n",
              "         ...   \n",
              " 87    0.518757\n",
              " 88    0.518757\n",
              " 89    0.518757\n",
              " 90    0.503819\n",
              " 91    0.503819\n",
              " Name: support, Length: 92, dtype: float64]"
            ]
          },
          "metadata": {},
          "execution_count": 127
        }
      ]
    },
    {
      "cell_type": "code",
      "source": [
        "import networkx as nx\n",
        "import matplotlib.pyplot as plt\n",
        "\n",
        "# Crea un grafo dirigido vacío\n",
        "G = nx.DiGraph()\n",
        "\n",
        "#preparamos las reglas para representarlas: \n",
        "\n",
        "rulesaltaconfianzaplt= [rulesaltaconfianza['antecedents'],rulesaltaconfianza['consequents'], rulesaltaconfianza['support'] ]\n",
        "\n",
        "# Agrega nodos y aristas al grafo\n",
        "for rule in rulesaltaconfianzaplt:\n",
        "    G.add_edge(rule[0], rule[1], weight=rule[2])\n",
        "\n",
        "# Establece el diseño del grafo\n",
        "pos = nx.spring_layout(G)\n",
        "\n",
        "# Dibuja el grafo con etiquetas de nodo y peso de arista\n",
        "nx.draw_networkx_nodes(G, pos, node_size=800, node_color='lightblue')\n",
        "nx.draw_networkx_labels(G, pos, font_size=18, font_family='sans-serif')\n",
        "nx.draw_networkx_edges(G, pos, width=2, alpha=0.5, edge_color='black')\n",
        "edge_labels = {(u, v): d['weight'] for u, v, d in G.edges(data=True)}\n",
        "nx.draw_networkx_edge_labels(G, pos, edge_labels=edge_labels, font_size=14)\n",
        "\n",
        "# Muestra el grafo\n",
        "plt.axis('off')\n",
        "plt.show()"
      ],
      "metadata": {
        "id": "FsKmAzMR-TYF",
        "outputId": "e6a22be4-4f17-448f-e5ea-c54c2f183a08",
        "colab": {
          "base_uri": "https://localhost:8080/",
          "height": 467
        }
      },
      "id": "FsKmAzMR-TYF",
      "execution_count": 125,
      "outputs": [
        {
          "output_type": "error",
          "ename": "TypeError",
          "evalue": "ignored",
          "traceback": [
            "\u001b[0;31m---------------------------------------------------------------------------\u001b[0m",
            "\u001b[0;31mValueError\u001b[0m                                Traceback (most recent call last)",
            "\u001b[0;32m/usr/local/lib/python3.9/dist-packages/networkx/drawing/layout.py\u001b[0m in \u001b[0;36mspring_layout\u001b[0;34m(G, k, pos, fixed, iterations, threshold, weight, scale, center, dim, seed)\u001b[0m\n\u001b[1;32m    475\u001b[0m         \u001b[0;32mif\u001b[0m \u001b[0mlen\u001b[0m\u001b[0;34m(\u001b[0m\u001b[0mG\u001b[0m\u001b[0;34m)\u001b[0m \u001b[0;34m<\u001b[0m \u001b[0;36m500\u001b[0m\u001b[0;34m:\u001b[0m  \u001b[0;31m# sparse solver for large graphs\u001b[0m\u001b[0;34m\u001b[0m\u001b[0;34m\u001b[0m\u001b[0m\n\u001b[0;32m--> 476\u001b[0;31m             \u001b[0;32mraise\u001b[0m \u001b[0mValueError\u001b[0m\u001b[0;34m\u001b[0m\u001b[0;34m\u001b[0m\u001b[0m\n\u001b[0m\u001b[1;32m    477\u001b[0m         \u001b[0mA\u001b[0m \u001b[0;34m=\u001b[0m \u001b[0mnx\u001b[0m\u001b[0;34m.\u001b[0m\u001b[0mto_scipy_sparse_array\u001b[0m\u001b[0;34m(\u001b[0m\u001b[0mG\u001b[0m\u001b[0;34m,\u001b[0m \u001b[0mweight\u001b[0m\u001b[0;34m=\u001b[0m\u001b[0mweight\u001b[0m\u001b[0;34m,\u001b[0m \u001b[0mdtype\u001b[0m\u001b[0;34m=\u001b[0m\u001b[0;34m\"f\"\u001b[0m\u001b[0;34m)\u001b[0m\u001b[0;34m\u001b[0m\u001b[0;34m\u001b[0m\u001b[0m\n",
            "\u001b[0;31mValueError\u001b[0m: ",
            "\nDuring handling of the above exception, another exception occurred:\n",
            "\u001b[0;31mTypeError\u001b[0m                                 Traceback (most recent call last)",
            "\u001b[0;32m<ipython-input-125-60d2dcabdfd0>\u001b[0m in \u001b[0;36m<module>\u001b[0;34m\u001b[0m\n\u001b[1;32m     14\u001b[0m \u001b[0;34m\u001b[0m\u001b[0m\n\u001b[1;32m     15\u001b[0m \u001b[0;31m# Establece el diseño del grafo\u001b[0m\u001b[0;34m\u001b[0m\u001b[0;34m\u001b[0m\u001b[0m\n\u001b[0;32m---> 16\u001b[0;31m \u001b[0mpos\u001b[0m \u001b[0;34m=\u001b[0m \u001b[0mnx\u001b[0m\u001b[0;34m.\u001b[0m\u001b[0mspring_layout\u001b[0m\u001b[0;34m(\u001b[0m\u001b[0mG\u001b[0m\u001b[0;34m)\u001b[0m\u001b[0;34m\u001b[0m\u001b[0;34m\u001b[0m\u001b[0m\n\u001b[0m\u001b[1;32m     17\u001b[0m \u001b[0;34m\u001b[0m\u001b[0m\n\u001b[1;32m     18\u001b[0m \u001b[0;31m# Dibuja el grafo con etiquetas de nodo y peso de arista\u001b[0m\u001b[0;34m\u001b[0m\u001b[0;34m\u001b[0m\u001b[0m\n",
            "\u001b[0;32m/usr/local/lib/python3.9/dist-packages/networkx/utils/decorators.py\u001b[0m in \u001b[0;36margmap_spring_layout_1\u001b[0;34m(G, k, pos, fixed, iterations, threshold, weight, scale, center, dim, seed)\u001b[0m\n\u001b[1;32m      2\u001b[0m \u001b[0;32mimport\u001b[0m \u001b[0mcollections\u001b[0m\u001b[0;34m\u001b[0m\u001b[0;34m\u001b[0m\u001b[0m\n\u001b[1;32m      3\u001b[0m \u001b[0;32mimport\u001b[0m \u001b[0mgzip\u001b[0m\u001b[0;34m\u001b[0m\u001b[0;34m\u001b[0m\u001b[0m\n\u001b[0;32m----> 4\u001b[0;31m \u001b[0;32mimport\u001b[0m \u001b[0minspect\u001b[0m\u001b[0;34m\u001b[0m\u001b[0;34m\u001b[0m\u001b[0m\n\u001b[0m\u001b[1;32m      5\u001b[0m \u001b[0;32mimport\u001b[0m \u001b[0mitertools\u001b[0m\u001b[0;34m\u001b[0m\u001b[0;34m\u001b[0m\u001b[0m\n\u001b[1;32m      6\u001b[0m \u001b[0;32mimport\u001b[0m \u001b[0mre\u001b[0m\u001b[0;34m\u001b[0m\u001b[0;34m\u001b[0m\u001b[0m\n",
            "\u001b[0;32m/usr/local/lib/python3.9/dist-packages/networkx/drawing/layout.py\u001b[0m in \u001b[0;36mspring_layout\u001b[0;34m(G, k, pos, fixed, iterations, threshold, weight, scale, center, dim, seed)\u001b[0m\n\u001b[1;32m    484\u001b[0m         )\n\u001b[1;32m    485\u001b[0m     \u001b[0;32mexcept\u001b[0m \u001b[0mValueError\u001b[0m\u001b[0;34m:\u001b[0m\u001b[0;34m\u001b[0m\u001b[0;34m\u001b[0m\u001b[0m\n\u001b[0;32m--> 486\u001b[0;31m         \u001b[0mA\u001b[0m \u001b[0;34m=\u001b[0m \u001b[0mnx\u001b[0m\u001b[0;34m.\u001b[0m\u001b[0mto_numpy_array\u001b[0m\u001b[0;34m(\u001b[0m\u001b[0mG\u001b[0m\u001b[0;34m,\u001b[0m \u001b[0mweight\u001b[0m\u001b[0;34m=\u001b[0m\u001b[0mweight\u001b[0m\u001b[0;34m)\u001b[0m\u001b[0;34m\u001b[0m\u001b[0;34m\u001b[0m\u001b[0m\n\u001b[0m\u001b[1;32m    487\u001b[0m         \u001b[0;32mif\u001b[0m \u001b[0mk\u001b[0m \u001b[0;32mis\u001b[0m \u001b[0;32mNone\u001b[0m \u001b[0;32mand\u001b[0m \u001b[0mfixed\u001b[0m \u001b[0;32mis\u001b[0m \u001b[0;32mnot\u001b[0m \u001b[0;32mNone\u001b[0m\u001b[0;34m:\u001b[0m\u001b[0;34m\u001b[0m\u001b[0;34m\u001b[0m\u001b[0m\n\u001b[1;32m    488\u001b[0m             \u001b[0;31m# We must adjust k by domain size for layouts not near 1x1\u001b[0m\u001b[0;34m\u001b[0m\u001b[0;34m\u001b[0m\u001b[0m\n",
            "\u001b[0;32m/usr/local/lib/python3.9/dist-packages/networkx/convert_matrix.py\u001b[0m in \u001b[0;36mto_numpy_array\u001b[0;34m(G, nodelist, dtype, order, multigraph_weight, weight, nonedge)\u001b[0m\n\u001b[1;32m    993\u001b[0m \u001b[0;34m\u001b[0m\u001b[0m\n\u001b[1;32m    994\u001b[0m     \u001b[0;31m# Set array values with advanced indexing\u001b[0m\u001b[0;34m\u001b[0m\u001b[0;34m\u001b[0m\u001b[0m\n\u001b[0;32m--> 995\u001b[0;31m     \u001b[0mA\u001b[0m\u001b[0;34m[\u001b[0m\u001b[0mi\u001b[0m\u001b[0;34m,\u001b[0m \u001b[0mj\u001b[0m\u001b[0;34m]\u001b[0m \u001b[0;34m=\u001b[0m \u001b[0mwts\u001b[0m\u001b[0;34m\u001b[0m\u001b[0;34m\u001b[0m\u001b[0m\n\u001b[0m\u001b[1;32m    996\u001b[0m     \u001b[0;32mif\u001b[0m \u001b[0;32mnot\u001b[0m \u001b[0mG\u001b[0m\u001b[0;34m.\u001b[0m\u001b[0mis_directed\u001b[0m\u001b[0;34m(\u001b[0m\u001b[0;34m)\u001b[0m\u001b[0;34m:\u001b[0m\u001b[0;34m\u001b[0m\u001b[0;34m\u001b[0m\u001b[0m\n\u001b[1;32m    997\u001b[0m         \u001b[0mA\u001b[0m\u001b[0;34m[\u001b[0m\u001b[0mj\u001b[0m\u001b[0;34m,\u001b[0m \u001b[0mi\u001b[0m\u001b[0;34m]\u001b[0m \u001b[0;34m=\u001b[0m \u001b[0mwts\u001b[0m\u001b[0;34m\u001b[0m\u001b[0;34m\u001b[0m\u001b[0m\n",
            "\u001b[0;31mTypeError\u001b[0m: float() argument must be a string or a number, not 'frozenset'"
          ]
        }
      ]
    },
    {
      "cell_type": "code",
      "source": [
        "plt.scatter(rules['antecedents']=='M', rules['support'])\n",
        "plt.xlabel('lift')\n",
        "plt.ylabel('support')\n",
        "plt.show()"
      ],
      "metadata": {
        "id": "_100liNw9EZH",
        "outputId": "b747d7d3-8e3d-4304-f7d6-7a4041cfac8a",
        "colab": {
          "base_uri": "https://localhost:8080/",
          "height": 279
        }
      },
      "id": "_100liNw9EZH",
      "execution_count": 122,
      "outputs": [
        {
          "output_type": "display_data",
          "data": {
            "text/plain": [
              "<Figure size 432x288 with 1 Axes>"
            ],
            "image/png": "[encoded data removed]"
          },
          "metadata": {
            "needs_background": "light"
          }
        }
      ]
    },
    {
      "cell_type": "code",
      "source": [
        "plt.scatter(rules['lift'], rules['support'])\n",
        "plt.xlabel('lift')\n",
        "plt.ylabel('support')\n",
        "plt.show()"
      ],
      "metadata": {
        "colab": {
          "base_uri": "https://localhost:8080/",
          "height": 279
        },
        "id": "JRjaFGMJRQ-h",
        "outputId": "2bd6d8c0-25fb-45f4-fe47-a443a6f38885"
      },
      "id": "JRjaFGMJRQ-h",
      "execution_count": 94,
      "outputs": [
        {
          "output_type": "display_data",
          "data": {
            "text/plain": [
              "<Figure size 432x288 with 1 Axes>"
            ],
            "image/png": "[encoded data removed]"
          },
          "metadata": {
            "needs_background": "light"
          }
        }
      ]
    },
    {
      "cell_type": "code",
      "source": [
        "#la confianza y soporte tienden a ser directamente proporcionales"
      ],
      "metadata": {
        "id": "J56eWxMBRkzg"
      },
      "id": "J56eWxMBRkzg",
      "execution_count": 95,
      "outputs": []
    },
    {
      "cell_type": "code",
      "source": [
        "min(rules['support'])"
      ],
      "metadata": {
        "id": "dBnv8DMJRURx",
        "outputId": "3cf29afa-b36e-4794-8915-46b6af87cc3f",
        "colab": {
          "base_uri": "https://localhost:8080/"
        }
      },
      "id": "dBnv8DMJRURx",
      "execution_count": 96,
      "outputs": [
        {
          "output_type": "execute_result",
          "data": {
            "text/plain": [
              "0.5002546257002207"
            ]
          },
          "metadata": {},
          "execution_count": 96
        }
      ]
    },
    {
      "cell_type": "markdown",
      "source": [
        "##Preguntas \n"
      ],
      "metadata": {
        "id": "SntYc8LorRsJ"
      },
      "id": "SntYc8LorRsJ"
    },
    {
      "cell_type": "markdown",
      "source": [
        "### 1. Prueba al menos tres configuraciones de soporte y frecuencia para cada género, edad y tipo de producto."
      ],
      "metadata": {
        "id": "6KfI5hFSrbgo"
      },
      "id": "6KfI5hFSrbgo"
    },
    {
      "cell_type": "code",
      "source": [
        "#creo que no hace falta\n",
        "Age_Range = df_Age.columns.values.tolist()\n",
        "PC1_Range = df_Product_Category_1.columns.values.tolist()\n",
        "PC2_Range = df_Product_Category_2.columns.values.tolist()\n",
        "PC3_Range = df_Product_Category_3.columns.values.tolist()\n",
        "Gender_Range = df_Gender.columns.values.tolist()\n",
        "Names_Range=[Age_Range, PC1_Range, PC2_Range, PC3_Range, Gender_Range] "
      ],
      "metadata": {
        "id": "OJoYzVrvrefU"
      },
      "id": "OJoYzVrvrefU",
      "execution_count": 97,
      "outputs": []
    },
    {
      "cell_type": "code",
      "source": [
        "data1 = pd.concat([df_Product_Category_1, df_Product_Category_2, df_Product_Category_3, df_Age, df_Gender], axis = 1)\n"
      ],
      "metadata": {
        "id": "xySNHmk_Sq4h"
      },
      "id": "xySNHmk_Sq4h",
      "execution_count": 98,
      "outputs": []
    },
    {
      "cell_type": "code",
      "source": [
        "frequent_itemsets_40 = apriori(data1, min_support=0.4, use_colnames=True)\n",
        "frequent_itemsets_60 = apriori(data1, min_support=0.6, use_colnames=True)\n",
        "frequent_itemsets_80 = apriori(data1, min_support=0.8, use_colnames=True)"
      ],
      "metadata": {
        "id": "ZjsghPpmTbr6"
      },
      "id": "ZjsghPpmTbr6",
      "execution_count": 99,
      "outputs": []
    },
    {
      "cell_type": "code",
      "source": [
        "frequents_with_zero_40=frequent_itemsets_40['itemsets'].apply(lambda x: '0_PC2' in x) |frequent_itemsets_40['itemsets'].apply(lambda x: '0_PC3' in x)\n",
        "frequent_itemsets_40 = frequent_itemsets_40.drop(frequent_itemsets_40[frequents_with_zero_40].index)\n",
        "frequents_with_zero_60=frequent_itemsets_60['itemsets'].apply(lambda x: '0_PC2' in x) |frequent_itemsets_60['itemsets'].apply(lambda x: '0_PC3' in x)\n",
        "frequent_itemsets_60 = frequent_itemsets_60.drop(frequent_itemsets_60[frequents_with_zero_60].index)\n",
        "frequents_with_zero_80=frequent_itemsets_80['itemsets'].apply(lambda x: '0_PC2' in x) |frequent_itemsets_80['itemsets'].apply(lambda x: '0_PC3' in x)\n",
        "frequent_itemsets_80 = frequent_itemsets_80.drop(frequent_itemsets_80[frequents_with_zero_80].index)"
      ],
      "metadata": {
        "id": "-bMJZWNxXS7A"
      },
      "id": "-bMJZWNxXS7A",
      "execution_count": 100,
      "outputs": []
    },
    {
      "cell_type": "code",
      "source": [
        "rules_40 = association_rules(frequent_itemsets_40, metric='confidence', min_threshold=0.6, support_only=True)\n",
        "rules_60 = association_rules(frequent_itemsets_60, metric='confidence', min_threshold=0.6, support_only=True)\n",
        "rules_80 = association_rules(frequent_itemsets_80, metric='confidence', min_threshold=0.6, support_only=True)"
      ],
      "metadata": {
        "id": "UqBWAX2zW2VD"
      },
      "id": "UqBWAX2zW2VD",
      "execution_count": 101,
      "outputs": []
    },
    {
      "cell_type": "code",
      "source": [
        "len(rules_40)"
      ],
      "metadata": {
        "id": "63DmwBVAX9oP",
        "outputId": "ebaf65ff-7473-467f-de45-846ad095704f",
        "colab": {
          "base_uri": "https://localhost:8080/"
        }
      },
      "id": "63DmwBVAX9oP",
      "execution_count": 102,
      "outputs": [
        {
          "output_type": "execute_result",
          "data": {
            "text/plain": [
              "152"
            ]
          },
          "metadata": {},
          "execution_count": 102
        }
      ]
    },
    {
      "cell_type": "code",
      "source": [
        "len(rules_60)"
      ],
      "metadata": {
        "id": "rA9p5tBGYAjT",
        "outputId": "803f576e-bb70-4cda-de28-998fc1d99c71",
        "colab": {
          "base_uri": "https://localhost:8080/"
        }
      },
      "id": "rA9p5tBGYAjT",
      "execution_count": 103,
      "outputs": [
        {
          "output_type": "execute_result",
          "data": {
            "text/plain": [
              "152"
            ]
          },
          "metadata": {},
          "execution_count": 103
        }
      ]
    },
    {
      "cell_type": "code",
      "source": [
        "len(rules_80)"
      ],
      "metadata": {
        "id": "Oqcpwr8NYBWU",
        "outputId": "6946aaf7-1b72-4e94-a3a3-487ce2e199d1",
        "colab": {
          "base_uri": "https://localhost:8080/"
        }
      },
      "id": "Oqcpwr8NYBWU",
      "execution_count": 104,
      "outputs": [
        {
          "output_type": "execute_result",
          "data": {
            "text/plain": [
              "0"
            ]
          },
          "metadata": {},
          "execution_count": 104
        }
      ]
    },
    {
      "cell_type": "code",
      "source": [
        "#Creo que no hace falta\n",
        "#for i in range(0,3): #porque son 3 valores de soporte \n",
        "#  frequent_itemsets = apriori(data, min_support=0.4+0.2*i, use_colnames=True)\n",
        "  #rint('Con soporte = ', 0.4 + 0.2*i)\n",
        "  #for j in Names_Range: \n",
        "   # for k in j: \n",
        "      #print('Atributo: ', k)\n",
        "      #frequent_itemsets_1=frequent_itemsets[frequent_itemsets['itemsets'].apply(lambda x: k in x)]\n",
        "      #print(frequent_itemsets_1)\n"
      ],
      "metadata": {
        "id": "1OIhtbzUsgHu"
      },
      "id": "1OIhtbzUsgHu",
      "execution_count": 105,
      "outputs": []
    },
    {
      "cell_type": "markdown",
      "source": [
        "### 2. ¿Qué diferencias hay entre usar soporte y frecuencia? Respalda la respuesta con datos (1 punto) "
      ],
      "metadata": {
        "id": "xaCdFSNNVsZD"
      },
      "id": "xaCdFSNNVsZD"
    },
    {
      "cell_type": "code",
      "source": [],
      "metadata": {
        "id": "H9SV5_X4V-2Y"
      },
      "id": "H9SV5_X4V-2Y",
      "execution_count": 105,
      "outputs": []
    },
    {
      "cell_type": "markdown",
      "source": [
        "### 3. ¿Qué tipo reglas desaparecen según la configuración y categorías (género, edad y tipo de producto)consideradas? ¿Por qué? "
      ],
      "metadata": {
        "id": "VFgNqe7kVeDp"
      },
      "id": "VFgNqe7kVeDp"
    },
    {
      "cell_type": "markdown",
      "source": [
        "Desaparecen todas aquellas cuyo antecendente o consecuencia contenga una de los atributos no incluidos. \n",
        "\n",
        "En cuanto al soporte, las reglas más específicas son aquellas cuyo umbral es menor, ya que incluye más items tanto en el antecedente como en el consecuente. Sin embargo, conseguimos mayor precisión (son más correctas) con un soporte mayor. "
      ],
      "metadata": {
        "id": "ZeB2RHpaVi4J"
      },
      "id": "ZeB2RHpaVi4J"
    },
    {
      "cell_type": "code",
      "source": [
        "rules_40 = association_rules(frequent_itemsets_40, metric='confidence', min_threshold=0.6, support_only=True)\n",
        "rules_60 = association_rules(frequent_itemsets_60, metric='confidence', min_threshold=0.6, support_only=True)\n",
        "rules_80 = association_rules(frequent_itemsets_80, metric='confidence', min_threshold=0.6, support_only=True)"
      ],
      "metadata": {
        "id": "0ebqxpuhiiD0"
      },
      "id": "0ebqxpuhiiD0",
      "execution_count": 106,
      "outputs": []
    },
    {
      "cell_type": "markdown",
      "source": [
        "### 4. Para una de las configuraciones, interpreta algunas de las reglas que te hayan resultado interesantes obtenidas usando la clase association_rules y un par de configuraciones cambiando la variable metric y min_threshold. Justifica los resultados."
      ],
      "metadata": {
        "id": "2DRdTM7kWjaA"
      },
      "id": "2DRdTM7kWjaA"
    },
    {
      "cell_type": "code",
      "source": [
        "frequent_itemsets_40_RULES =association_rules(frequent_itemsets_40, metric='lift', min_threshold=1.3)"
      ],
      "metadata": {
        "id": "7WaNzkC2Wo63"
      },
      "id": "7WaNzkC2Wo63",
      "execution_count": 107,
      "outputs": []
    },
    {
      "cell_type": "code",
      "source": [
        "frequent_itemsets_40_RULES"
      ],
      "metadata": {
        "id": "3teOOIDzZd78",
        "outputId": "a5f42f6b-b8f8-4914-e0da-e448479445db",
        "colab": {
          "base_uri": "https://localhost:8080/",
          "height": 658
        }
      },
      "id": "3teOOIDzZd78",
      "execution_count": 108,
      "outputs": [
        {
          "output_type": "execute_result",
          "data": {
            "text/plain": [
              "           antecedents                             consequents  \\\n",
              "0              (5_PC2)                                 (2_PC1)   \n",
              "1              (2_PC1)                                 (5_PC2)   \n",
              "2              (2_PC1)                                (15_PC3)   \n",
              "3             (15_PC3)                                 (2_PC1)   \n",
              "4              (4_PC2)                                 (3_PC1)   \n",
              "...                ...                                     ...   \n",
              "4693   (16_PC3, 8_PC1)   (5_PC1, 16_PC2, 8_PC2, 14_PC2, 1_PC1)   \n",
              "4694    (1_PC1, 8_PC1)  (5_PC1, 16_PC2, 8_PC2, 14_PC2, 16_PC3)   \n",
              "4695  (16_PC3, 14_PC2)    (5_PC1, 16_PC2, 8_PC2, 8_PC1, 1_PC1)   \n",
              "4696   (1_PC1, 14_PC2)   (5_PC1, 16_PC2, 8_PC2, 8_PC1, 16_PC3)   \n",
              "4697   (16_PC3, 1_PC1)   (5_PC1, 16_PC2, 8_PC2, 8_PC1, 14_PC2)   \n",
              "\n",
              "      antecedent support  consequent support   support  confidence      lift  \\\n",
              "0               0.592938            0.536581  0.422169    0.711995  1.326911   \n",
              "1               0.536581            0.592938  0.422169    0.786776  1.326911   \n",
              "2               0.536581            0.565099  0.407062    0.758621  1.342456   \n",
              "3               0.565099            0.536581  0.407062    0.720336  1.342456   \n",
              "4               0.527075            0.485317  0.446953    0.847987  1.747287   \n",
              "...                  ...                 ...       ...         ...       ...   \n",
              "4693            0.564420            0.503819  0.407401    0.721805  1.432665   \n",
              "4694            0.711254            0.435070  0.407401    0.572792  1.316551   \n",
              "4695            0.554575            0.515193  0.407401    0.734619  1.425911   \n",
              "4696            0.701918            0.444916  0.407401    0.580411  1.304541   \n",
              "4697            0.647768            0.482601  0.407401    0.628931  1.303212   \n",
              "\n",
              "      leverage  conviction  \n",
              "0     0.104010    1.609067  \n",
              "1     0.104010    1.909083  \n",
              "2     0.103840    1.801731  \n",
              "3     0.103840    1.657058  \n",
              "4     0.191155    3.385788  \n",
              "...        ...         ...  \n",
              "4693  0.123035    1.783568  \n",
              "4694  0.097955    1.322377  \n",
              "4695  0.121688    1.826835  \n",
              "4696  0.095107    1.322924  \n",
              "4697  0.094788    1.394348  \n",
              "\n",
              "[4698 rows x 9 columns]"
            ],
            "text/html": [
              "\n",
              "  <div id=\"df-bec99f2c-e01b-4c48-9091-e98211370a51\">\n",
              "    <div class=\"colab-df-container\">\n",
              "      <div>\n",
              "<style scoped>\n",
              "    .dataframe tbody tr th:only-of-type {\n",
              "        vertical-align: middle;\n",
              "    }\n",
              "\n",
              "    .dataframe tbody tr th {\n",
              "        vertical-align: top;\n",
              "    }\n",
              "\n",
              "    .dataframe thead th {\n",
              "        text-align: right;\n",
              "    }\n",
              "</style>\n",
              "<table border=\"1\" class=\"dataframe\">\n",
              "  <thead>\n",
              "    <tr style=\"text-align: right;\">\n",
              "      <th></th>\n",
              "      <th>antecedents</th>\n",
              "      <th>consequents</th>\n",
              "      <th>antecedent support</th>\n",
              "      <th>consequent support</th>\n",
              "      <th>support</th>\n",
              "      <th>confidence</th>\n",
              "      <th>lift</th>\n",
              "      <th>leverage</th>\n",
              "      <th>conviction</th>\n",
              "    </tr>\n",
              "  </thead>\n",
              "  <tbody>\n",
              "    <tr>\n",
              "      <th>0</th>\n",
              "      <td>(5_PC2)</td>\n",
              "      <td>(2_PC1)</td>\n",
              "      <td>0.592938</td>\n",
              "      <td>0.536581</td>\n",
              "      <td>0.422169</td>\n",
              "      <td>0.711995</td>\n",
              "      <td>1.326911</td>\n",
              "      <td>0.104010</td>\n",
              "      <td>1.609067</td>\n",
              "    </tr>\n",
              "    <tr>\n",
              "      <th>1</th>\n",
              "      <td>(2_PC1)</td>\n",
              "      <td>(5_PC2)</td>\n",
              "      <td>0.536581</td>\n",
              "      <td>0.592938</td>\n",
              "      <td>0.422169</td>\n",
              "      <td>0.786776</td>\n",
              "      <td>1.326911</td>\n",
              "      <td>0.104010</td>\n",
              "      <td>1.909083</td>\n",
              "    </tr>\n",
              "    <tr>\n",
              "      <th>2</th>\n",
              "      <td>(2_PC1)</td>\n",
              "      <td>(15_PC3)</td>\n",
              "      <td>0.536581</td>\n",
              "      <td>0.565099</td>\n",
              "      <td>0.407062</td>\n",
              "      <td>0.758621</td>\n",
              "      <td>1.342456</td>\n",
              "      <td>0.103840</td>\n",
              "      <td>1.801731</td>\n",
              "    </tr>\n",
              "    <tr>\n",
              "      <th>3</th>\n",
              "      <td>(15_PC3)</td>\n",
              "      <td>(2_PC1)</td>\n",
              "      <td>0.565099</td>\n",
              "      <td>0.536581</td>\n",
              "      <td>0.407062</td>\n",
              "      <td>0.720336</td>\n",
              "      <td>1.342456</td>\n",
              "      <td>0.103840</td>\n",
              "      <td>1.657058</td>\n",
              "    </tr>\n",
              "    <tr>\n",
              "      <th>4</th>\n",
              "      <td>(4_PC2)</td>\n",
              "      <td>(3_PC1)</td>\n",
              "      <td>0.527075</td>\n",
              "      <td>0.485317</td>\n",
              "      <td>0.446953</td>\n",
              "      <td>0.847987</td>\n",
              "      <td>1.747287</td>\n",
              "      <td>0.191155</td>\n",
              "      <td>3.385788</td>\n",
              "    </tr>\n",
              "    <tr>\n",
              "      <th>...</th>\n",
              "      <td>...</td>\n",
              "      <td>...</td>\n",
              "      <td>...</td>\n",
              "      <td>...</td>\n",
              "      <td>...</td>\n",
              "      <td>...</td>\n",
              "      <td>...</td>\n",
              "      <td>...</td>\n",
              "      <td>...</td>\n",
              "    </tr>\n",
              "    <tr>\n",
              "      <th>4693</th>\n",
              "      <td>(16_PC3, 8_PC1)</td>\n",
              "      <td>(5_PC1, 16_PC2, 8_PC2, 14_PC2, 1_PC1)</td>\n",
              "      <td>0.564420</td>\n",
              "      <td>0.503819</td>\n",
              "      <td>0.407401</td>\n",
              "      <td>0.721805</td>\n",
              "      <td>1.432665</td>\n",
              "      <td>0.123035</td>\n",
              "      <td>1.783568</td>\n",
              "    </tr>\n",
              "    <tr>\n",
              "      <th>4694</th>\n",
              "      <td>(1_PC1, 8_PC1)</td>\n",
              "      <td>(5_PC1, 16_PC2, 8_PC2, 14_PC2, 16_PC3)</td>\n",
              "      <td>0.711254</td>\n",
              "      <td>0.435070</td>\n",
              "      <td>0.407401</td>\n",
              "      <td>0.572792</td>\n",
              "      <td>1.316551</td>\n",
              "      <td>0.097955</td>\n",
              "      <td>1.322377</td>\n",
              "    </tr>\n",
              "    <tr>\n",
              "      <th>4695</th>\n",
              "      <td>(16_PC3, 14_PC2)</td>\n",
              "      <td>(5_PC1, 16_PC2, 8_PC2, 8_PC1, 1_PC1)</td>\n",
              "      <td>0.554575</td>\n",
              "      <td>0.515193</td>\n",
              "      <td>0.407401</td>\n",
              "      <td>0.734619</td>\n",
              "      <td>1.425911</td>\n",
              "      <td>0.121688</td>\n",
              "      <td>1.826835</td>\n",
              "    </tr>\n",
              "    <tr>\n",
              "      <th>4696</th>\n",
              "      <td>(1_PC1, 14_PC2)</td>\n",
              "      <td>(5_PC1, 16_PC2, 8_PC2, 8_PC1, 16_PC3)</td>\n",
              "      <td>0.701918</td>\n",
              "      <td>0.444916</td>\n",
              "      <td>0.407401</td>\n",
              "      <td>0.580411</td>\n",
              "      <td>1.304541</td>\n",
              "      <td>0.095107</td>\n",
              "      <td>1.322924</td>\n",
              "    </tr>\n",
              "    <tr>\n",
              "      <th>4697</th>\n",
              "      <td>(16_PC3, 1_PC1)</td>\n",
              "      <td>(5_PC1, 16_PC2, 8_PC2, 8_PC1, 14_PC2)</td>\n",
              "      <td>0.647768</td>\n",
              "      <td>0.482601</td>\n",
              "      <td>0.407401</td>\n",
              "      <td>0.628931</td>\n",
              "      <td>1.303212</td>\n",
              "      <td>0.094788</td>\n",
              "      <td>1.394348</td>\n",
              "    </tr>\n",
              "  </tbody>\n",
              "</table>\n",
              "<p>4698 rows × 9 columns</p>\n",
              "</div>\n",
              "      <button class=\"colab-df-convert\" onclick=\"convertToInteractive('df-bec99f2c-e01b-4c48-9091-e98211370a51')\"\n",
              "              title=\"Convert this dataframe to an interactive table.\"\n",
              "              style=\"display:none;\">\n",
              "        \n",
              "  <svg xmlns=\"http://www.w3.org/2000/svg\" height=\"24px\"viewBox=\"0 0 24 24\"\n",
              "       width=\"24px\">\n",
              "    <path d=\"M0 0h24v24H0V0z\" fill=\"none\"/>\n",
              "    <path d=\"M18.56 5.44l.94 2.06.94-2.06 2.06-.94-2.06-.94-.94-2.06-.94 2.06-2.06.94zm-11 1L8.5 8.5l.94-2.06 2.06-.94-2.06-.94L8.5 2.5l-.94 2.06-2.06.94zm10 10l.94 2.06.94-2.06 2.06-.94-2.06-.94-.94-2.06-.94 2.06-2.06.94z\"/><path d=\"M17.41 7.96l-1.37-1.37c-.4-.4-.92-.59-1.43-.59-.52 0-1.04.2-1.43.59L10.3 9.45l-7.72 7.72c-.78.78-.78 2.05 0 2.83L4 21.41c.39.39.9.59 1.41.59.51 0 1.02-.2 1.41-.59l7.78-7.78 2.81-2.81c.8-.78.8-2.07 0-2.86zM5.41 20L4 18.59l7.72-7.72 1.47 1.35L5.41 20z\"/>\n",
              "  </svg>\n",
              "      </button>\n",
              "      \n",
              "  <style>\n",
              "    .colab-df-container {\n",
              "      display:flex;\n",
              "      flex-wrap:wrap;\n",
              "      gap: 12px;\n",
              "    }\n",
              "\n",
              "    .colab-df-convert {\n",
              "      background-color: #E8F0FE;\n",
              "      border: none;\n",
              "      border-radius: 50%;\n",
              "      cursor: pointer;\n",
              "      display: none;\n",
              "      fill: #1967D2;\n",
              "      height: 32px;\n",
              "      padding: 0 0 0 0;\n",
              "      width: 32px;\n",
              "    }\n",
              "\n",
              "    .colab-df-convert:hover {\n",
              "      background-color: #E2EBFA;\n",
              "      box-shadow: 0px 1px 2px rgba(60, 64, 67, 0.3), 0px 1px 3px 1px rgba(60, 64, 67, 0.15);\n",
              "      fill: #174EA6;\n",
              "    }\n",
              "\n",
              "    [theme=dark] .colab-df-convert {\n",
              "      background-color: #3B4455;\n",
              "      fill: #D2E3FC;\n",
              "    }\n",
              "\n",
              "    [theme=dark] .colab-df-convert:hover {\n",
              "      background-color: #434B5C;\n",
              "      box-shadow: 0px 1px 3px 1px rgba(0, 0, 0, 0.15);\n",
              "      filter: drop-shadow(0px 1px 2px rgba(0, 0, 0, 0.3));\n",
              "      fill: #FFFFFF;\n",
              "    }\n",
              "  </style>\n",
              "\n",
              "      <script>\n",
              "        const buttonEl =\n",
              "          document.querySelector('#df-bec99f2c-e01b-4c48-9091-e98211370a51 button.colab-df-convert');\n",
              "        buttonEl.style.display =\n",
              "          google.colab.kernel.accessAllowed ? 'block' : 'none';\n",
              "\n",
              "        async function convertToInteractive(key) {\n",
              "          const element = document.querySelector('#df-bec99f2c-e01b-4c48-9091-e98211370a51');\n",
              "          const dataTable =\n",
              "            await google.colab.kernel.invokeFunction('convertToInteractive',\n",
              "                                                     [key], {});\n",
              "          if (!dataTable) return;\n",
              "\n",
              "          const docLinkHtml = 'Like what you see? Visit the ' +\n",
              "            '<a target=\"_blank\" href=https://colab.research.google.com/notebooks/data_table.ipynb>data table notebook</a>'\n",
              "            + ' to learn more about interactive tables.';\n",
              "          element.innerHTML = '';\n",
              "          dataTable['output_type'] = 'display_data';\n",
              "          await google.colab.output.renderOutput(dataTable, element);\n",
              "          const docLink = document.createElement('div');\n",
              "          docLink.innerHTML = docLinkHtml;\n",
              "          element.appendChild(docLink);\n",
              "        }\n",
              "      </script>\n",
              "    </div>\n",
              "  </div>\n",
              "  "
            ]
          },
          "metadata": {},
          "execution_count": 108
        }
      ]
    },
    {
      "cell_type": "code",
      "source": [
        "print(frequent_itemsets_40_RULES[frequent_itemsets_40_RULES['antecedents'].apply(lambda x: 'M' in x)])"
      ],
      "metadata": {
        "id": "mZnk_RiObqcs",
        "outputId": "5992ba89-30c1-4734-e6ca-93e1d07d5ede",
        "colab": {
          "base_uri": "https://localhost:8080/"
        }
      },
      "id": "mZnk_RiObqcs",
      "execution_count": 109,
      "outputs": [
        {
          "output_type": "stream",
          "name": "stdout",
          "text": [
            "            antecedents      consequents  antecedent support  \\\n",
            "106          (2_PC2, M)         (15_PC3)            0.551859   \n",
            "308   (1_PC1, 2_PC2, M)         (15_PC3)            0.551859   \n",
            "310          (2_PC2, M)  (1_PC1, 15_PC3)            0.551859   \n",
            "390  (1_PC1, 16_PC3, M)         (15_PC2)            0.491767   \n",
            "392         (16_PC3, M)  (1_PC1, 15_PC2)            0.503650   \n",
            "\n",
            "     consequent support   support  confidence      lift  leverage  conviction  \n",
            "106            0.565099  0.413342    0.749000  1.325431  0.101487    1.732674  \n",
            "308            0.565099  0.413342    0.749000  1.325431  0.101487    1.732674  \n",
            "310            0.560007  0.413342    0.749000  1.337484  0.104298    1.752963  \n",
            "390            0.656765  0.423358    0.860891  1.310805  0.100382    2.467377  \n",
            "392            0.638432  0.423358    0.840580  1.316633  0.101812    2.268021  \n"
          ]
        }
      ]
    },
    {
      "cell_type": "code",
      "source": [],
      "metadata": {
        "id": "FOdwcqbBoTtj"
      },
      "id": "FOdwcqbBoTtj",
      "execution_count": 109,
      "outputs": []
    },
    {
      "cell_type": "markdown",
      "source": [
        "Vemos que para un soporte de 0.4 no hay ni mujeres ni edades, por lo que disminuimos el soporte a 0.3"
      ],
      "metadata": {
        "id": "zY14aaFRoawC"
      },
      "id": "zY14aaFRoawC"
    },
    {
      "cell_type": "code",
      "source": [
        "#frequent_itemsets_40\n",
        "print(frequent_itemsets_40[frequent_itemsets_40['itemsets'].apply(lambda x: '51-55' in x)])"
      ],
      "metadata": {
        "id": "3rWwftY9nr9J",
        "outputId": "d6f44857-5917-4ca0-c194-efcbb78eaab5",
        "colab": {
          "base_uri": "https://localhost:8080/"
        }
      },
      "id": "3rWwftY9nr9J",
      "execution_count": 110,
      "outputs": [
        {
          "output_type": "stream",
          "name": "stdout",
          "text": [
            "Empty DataFrame\n",
            "Columns: [support, itemsets]\n",
            "Index: []\n"
          ]
        }
      ]
    },
    {
      "cell_type": "markdown",
      "source": [],
      "metadata": {
        "id": "zZTGcqyxnC_a"
      },
      "id": "zZTGcqyxnC_a"
    },
    {
      "cell_type": "markdown",
      "source": [
        "### 5. - Dadas las mejores configuraciones. ¿Existen reglas o patrones que se repitan? ¿Podemos generalizar de alguna manera como se comportan los clientes? Expón las conclusiones respaldadas con datos"
      ],
      "metadata": {
        "id": "AbYAOc5ibv82"
      },
      "id": "AbYAOc5ibv82"
    },
    {
      "cell_type": "markdown",
      "source": [
        "mejores configuraciones: más lift"
      ],
      "metadata": {
        "id": "2EkZI7x6jBSq"
      },
      "id": "2EkZI7x6jBSq"
    },
    {
      "cell_type": "markdown",
      "source": [
        "Es un sii con el antecedente y consecuencia, aparecen luego dados la vuelta\n",
        "\n",
        "Repetirse como tal no, pero busca todas las combinaciones posibles para un itemset dado. "
      ],
      "metadata": {
        "id": "Fj9qa9kgjdiI"
      },
      "id": "Fj9qa9kgjdiI"
    },
    {
      "cell_type": "code",
      "source": [
        "print(frequent_itemsets_40_RULES[frequent_itemsets_40_RULES['antecedents'].apply(lambda x: 'M' in x)])"
      ],
      "metadata": {
        "id": "xoF_zjhWkWRS",
        "outputId": "3b65c546-c91c-4032-df68-1800fb5e76f1",
        "colab": {
          "base_uri": "https://localhost:8080/"
        }
      },
      "id": "xoF_zjhWkWRS",
      "execution_count": 111,
      "outputs": [
        {
          "output_type": "stream",
          "name": "stdout",
          "text": [
            "            antecedents      consequents  antecedent support  \\\n",
            "106          (2_PC2, M)         (15_PC3)            0.551859   \n",
            "308   (1_PC1, 2_PC2, M)         (15_PC3)            0.551859   \n",
            "310          (2_PC2, M)  (1_PC1, 15_PC3)            0.551859   \n",
            "390  (1_PC1, 16_PC3, M)         (15_PC2)            0.491767   \n",
            "392         (16_PC3, M)  (1_PC1, 15_PC2)            0.503650   \n",
            "\n",
            "     consequent support   support  confidence      lift  leverage  conviction  \n",
            "106            0.565099  0.413342    0.749000  1.325431  0.101487    1.732674  \n",
            "308            0.565099  0.413342    0.749000  1.325431  0.101487    1.732674  \n",
            "310            0.560007  0.413342    0.749000  1.337484  0.104298    1.752963  \n",
            "390            0.656765  0.423358    0.860891  1.310805  0.100382    2.467377  \n",
            "392            0.638432  0.423358    0.840580  1.316633  0.101812    2.268021  \n"
          ]
        }
      ]
    },
    {
      "cell_type": "code",
      "source": [
        "print(frequent_itemsets_40_RULES[frequent_itemsets_40_RULES['consequents'].apply(lambda x: 'M' in x)])"
      ],
      "metadata": {
        "id": "geYmhG8lnHaJ",
        "outputId": "a4cfcff1-9ca2-4121-a273-0056953946de",
        "colab": {
          "base_uri": "https://localhost:8080/"
        }
      },
      "id": "geYmhG8lnHaJ",
      "execution_count": 112,
      "outputs": [
        {
          "output_type": "stream",
          "name": "stdout",
          "text": [
            "         antecedents         consequents  antecedent support  \\\n",
            "107         (15_PC3)          (2_PC2, M)            0.565099   \n",
            "309  (1_PC1, 15_PC3)          (2_PC2, M)            0.560007   \n",
            "311         (15_PC3)   (1_PC1, 2_PC2, M)            0.565099   \n",
            "391  (1_PC1, 15_PC2)         (16_PC3, M)            0.638432   \n",
            "393         (15_PC2)  (1_PC1, 16_PC3, M)            0.656765   \n",
            "\n",
            "     consequent support   support  confidence      lift  leverage  conviction  \n",
            "107            0.551859  0.413342    0.731451  1.325431  0.101487    1.668750  \n",
            "309            0.551859  0.413342    0.738102  1.337484  0.104298    1.711132  \n",
            "311            0.551859  0.413342    0.731451  1.325431  0.101487    1.668750  \n",
            "391            0.503650  0.423358    0.663122  1.316633  0.101812    1.473381  \n",
            "393            0.491767  0.423358    0.644611  1.310805  0.100382    1.430075  \n"
          ]
        }
      ]
    },
    {
      "cell_type": "code",
      "source": [
        "print(frequent_itemsets_40_RULES[frequent_itemsets_40_RULES['antecedents'].apply(lambda x: 'F' in x)])"
      ],
      "metadata": {
        "id": "C-sEKrdYkW5d",
        "outputId": "7abfe1e5-5d6e-40ba-d0fd-02e7fc69f97d",
        "colab": {
          "base_uri": "https://localhost:8080/"
        }
      },
      "id": "C-sEKrdYkW5d",
      "execution_count": 113,
      "outputs": [
        {
          "output_type": "stream",
          "name": "stdout",
          "text": [
            "Empty DataFrame\n",
            "Columns: [antecedents, consequents, antecedent support, consequent support, support, confidence, lift, leverage, conviction]\n",
            "Index: []\n"
          ]
        }
      ]
    },
    {
      "cell_type": "code",
      "source": [
        "print(frequent_itemsets_40_RULES[frequent_itemsets_40_RULES['consequents'].apply(lambda x: 'F' in x)])"
      ],
      "metadata": {
        "id": "bg1ncAb9nILO",
        "outputId": "c373aedb-a329-4df1-fa74-7cb6088565ae",
        "colab": {
          "base_uri": "https://localhost:8080/"
        }
      },
      "id": "bg1ncAb9nILO",
      "execution_count": 114,
      "outputs": [
        {
          "output_type": "stream",
          "name": "stdout",
          "text": [
            "Empty DataFrame\n",
            "Columns: [antecedents, consequents, antecedent support, consequent support, support, confidence, lift, leverage, conviction]\n",
            "Index: []\n"
          ]
        }
      ]
    },
    {
      "cell_type": "code",
      "source": [
        "frequent_itemsets_30 = apriori(data1, min_support=0.3, use_colnames=True)\n",
        "frequents_with_zero_30=frequent_itemsets_25['itemsets'].apply(lambda x: '0_PC2' in x) |frequent_itemsets_25['itemsets'].apply(lambda x: '0_PC3' in x)\n",
        "frequent_itemsets_30 = frequent_itemsets_25.drop(frequent_itemsets_25[frequents_with_zero_25].index)"
      ],
      "metadata": {
        "id": "ewD4tETNkZQK",
        "outputId": "daf7af80-0e6f-4b89-a8fc-b97913708b54",
        "colab": {
          "base_uri": "https://localhost:8080/",
          "height": 217
        }
      },
      "id": "ewD4tETNkZQK",
      "execution_count": 115,
      "outputs": [
        {
          "output_type": "error",
          "ename": "NameError",
          "evalue": "ignored",
          "traceback": [
            "\u001b[0;31m---------------------------------------------------------------------------\u001b[0m",
            "\u001b[0;31mNameError\u001b[0m                                 Traceback (most recent call last)",
            "\u001b[0;32m<ipython-input-115-f13766f2912d>\u001b[0m in \u001b[0;36m<module>\u001b[0;34m\u001b[0m\n\u001b[1;32m      1\u001b[0m \u001b[0mfrequent_itemsets_30\u001b[0m \u001b[0;34m=\u001b[0m \u001b[0mapriori\u001b[0m\u001b[0;34m(\u001b[0m\u001b[0mdata1\u001b[0m\u001b[0;34m,\u001b[0m \u001b[0mmin_support\u001b[0m\u001b[0;34m=\u001b[0m\u001b[0;36m0.3\u001b[0m\u001b[0;34m,\u001b[0m \u001b[0muse_colnames\u001b[0m\u001b[0;34m=\u001b[0m\u001b[0;32mTrue\u001b[0m\u001b[0;34m)\u001b[0m\u001b[0;34m\u001b[0m\u001b[0;34m\u001b[0m\u001b[0m\n\u001b[0;32m----> 2\u001b[0;31m \u001b[0mfrequents_with_zero_30\u001b[0m\u001b[0;34m=\u001b[0m\u001b[0mfrequent_itemsets_25\u001b[0m\u001b[0;34m[\u001b[0m\u001b[0;34m'itemsets'\u001b[0m\u001b[0;34m]\u001b[0m\u001b[0;34m.\u001b[0m\u001b[0mapply\u001b[0m\u001b[0;34m(\u001b[0m\u001b[0;32mlambda\u001b[0m \u001b[0mx\u001b[0m\u001b[0;34m:\u001b[0m \u001b[0;34m'0_PC2'\u001b[0m \u001b[0;32min\u001b[0m \u001b[0mx\u001b[0m\u001b[0;34m)\u001b[0m \u001b[0;34m|\u001b[0m\u001b[0mfrequent_itemsets_25\u001b[0m\u001b[0;34m[\u001b[0m\u001b[0;34m'itemsets'\u001b[0m\u001b[0;34m]\u001b[0m\u001b[0;34m.\u001b[0m\u001b[0mapply\u001b[0m\u001b[0;34m(\u001b[0m\u001b[0;32mlambda\u001b[0m \u001b[0mx\u001b[0m\u001b[0;34m:\u001b[0m \u001b[0;34m'0_PC3'\u001b[0m \u001b[0;32min\u001b[0m \u001b[0mx\u001b[0m\u001b[0;34m)\u001b[0m\u001b[0;34m\u001b[0m\u001b[0;34m\u001b[0m\u001b[0m\n\u001b[0m\u001b[1;32m      3\u001b[0m \u001b[0mfrequent_itemsets_30\u001b[0m \u001b[0;34m=\u001b[0m \u001b[0mfrequent_itemsets_25\u001b[0m\u001b[0;34m.\u001b[0m\u001b[0mdrop\u001b[0m\u001b[0;34m(\u001b[0m\u001b[0mfrequent_itemsets_25\u001b[0m\u001b[0;34m[\u001b[0m\u001b[0mfrequents_with_zero_25\u001b[0m\u001b[0;34m]\u001b[0m\u001b[0;34m.\u001b[0m\u001b[0mindex\u001b[0m\u001b[0;34m)\u001b[0m\u001b[0;34m\u001b[0m\u001b[0;34m\u001b[0m\u001b[0m\n",
            "\u001b[0;31mNameError\u001b[0m: name 'frequent_itemsets_25' is not defined"
          ]
        }
      ]
    },
    {
      "cell_type": "code",
      "source": [
        "frequent_itemsets_30_RULES =association_rules(frequent_itemsets_30, metric='lift', min_threshold=1.01)"
      ],
      "metadata": {
        "id": "7_ZpthaBqBGq"
      },
      "id": "7_ZpthaBqBGq",
      "execution_count": null,
      "outputs": []
    },
    {
      "cell_type": "code",
      "source": [
        "print(frequent_itemsets_30_RULES[frequent_itemsets_30_RULES['consequents'].apply(lambda x: '26-35' in x)])"
      ],
      "metadata": {
        "id": "1-QcQgpmpnfL"
      },
      "id": "1-QcQgpmpnfL",
      "execution_count": null,
      "outputs": []
    },
    {
      "cell_type": "code",
      "source": [
        "print(frequent_itemsets_30_RULES[frequent_itemsets_30_RULES['consequents'].apply(lambda x: 'F' in x)])"
      ],
      "metadata": {
        "id": "1XxTccNgqjHY"
      },
      "id": "1XxTccNgqjHY",
      "execution_count": null,
      "outputs": []
    },
    {
      "cell_type": "markdown",
      "source": [
        "¿es lo mismo M->1_PC1 que 1_PC1->M?\n",
        "Debemos tener en cuenta que en la primera regla que "
      ],
      "metadata": {
        "id": "od74rGqwk0ls"
      },
      "id": "od74rGqwk0ls"
    },
    {
      "cell_type": "markdown",
      "source": [
        "##Evaluación"
      ],
      "metadata": {
        "id": "r83Nwp6yJjpS"
      },
      "id": "r83Nwp6yJjpS"
    },
    {
      "cell_type": "markdown",
      "source": [
        "##Despliegue"
      ],
      "metadata": {
        "id": "0C7SGtunJmmJ"
      },
      "id": "0C7SGtunJmmJ"
    },
    {
      "cell_type": "code",
      "source": [],
      "metadata": {
        "id": "_Yd3Ru70JEYT"
      },
      "id": "_Yd3Ru70JEYT",
      "execution_count": null,
      "outputs": []
    }
  ],
  "metadata": {
    "kernelspec": {
      "display_name": "Python 3 (ipykernel)",
      "language": "python",
      "name": "python3"
    },
    "language_info": {
      "codemirror_mode": {
        "name": "ipython",
        "version": 3
      },
      "file_extension": ".py",
      "mimetype": "text/x-python",
      "name": "python",
      "nbconvert_exporter": "python",
      "pygments_lexer": "ipython3",
      "version": "3.8.8"
    },
    "colab": {
      "provenance": []
    }
  },
  "nbformat": 4,
  "nbformat_minor": 5
}